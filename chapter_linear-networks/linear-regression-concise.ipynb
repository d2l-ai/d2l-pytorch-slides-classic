{
 "cells": [
  {
   "cell_type": "markdown",
   "id": "1b7abad9",
   "metadata": {
    "slideshow": {
     "slide_type": "-"
    }
   },
   "source": [
    "# Concise Implementation of Linear Regression\n",
    "\n",
    "We will show you how to implement\n",
    "the linear regression model\n",
    "concisely by using high-level APIs"
   ]
  },
  {
   "cell_type": "code",
   "execution_count": 2,
   "id": "4a0619a9",
   "metadata": {
    "execution": {
     "iopub.execute_input": "2022-11-12T20:48:01.710883Z",
     "iopub.status.busy": "2022-11-12T20:48:01.708383Z",
     "iopub.status.idle": "2022-11-12T20:48:01.734357Z",
     "shell.execute_reply": "2022-11-12T20:48:01.733472Z"
    },
    "origin_pos": 4,
    "tab": [
     "pytorch"
    ]
   },
   "outputs": [],
   "source": [
    "import numpy as np\n",
    "import torch\n",
    "from torch.utils import data\n",
    "from d2l import torch as d2l\n",
    "\n",
    "true_w = torch.tensor([2, -3.4])\n",
    "true_b = 4.2\n",
    "features, labels = d2l.synthetic_data(true_w, true_b, 1000)"
   ]
  },
  {
   "cell_type": "markdown",
   "id": "c8112291",
   "metadata": {
    "slideshow": {
     "slide_type": "slide"
    }
   },
   "source": [
    "Call upon the existing API in a framework to read data"
   ]
  },
  {
   "cell_type": "code",
   "execution_count": 5,
   "id": "dfa05b75",
   "metadata": {
    "execution": {
     "iopub.execute_input": "2022-11-12T20:48:01.766878Z",
     "iopub.status.busy": "2022-11-12T20:48:01.760888Z",
     "iopub.status.idle": "2022-11-12T20:48:01.780888Z",
     "shell.execute_reply": "2022-11-12T20:48:01.779696Z"
    },
    "origin_pos": 11,
    "tab": [
     "pytorch"
    ]
   },
   "outputs": [
    {
     "data": {
      "text/plain": [
       "[tensor([[ 1.1477,  1.2558],\n",
       "         [ 0.3341, -0.2821],\n",
       "         [ 0.3365,  0.1217],\n",
       "         [ 0.2871,  0.8190],\n",
       "         [-0.8802,  1.2505],\n",
       "         [-0.3033, -0.3111],\n",
       "         [ 0.2943, -0.6745],\n",
       "         [ 0.6015,  1.1968],\n",
       "         [ 0.2001,  0.7602],\n",
       "         [ 0.2266, -0.5029]]),\n",
       " tensor([[ 2.2239],\n",
       "         [ 5.8224],\n",
       "         [ 4.4543],\n",
       "         [ 1.9789],\n",
       "         [-1.8276],\n",
       "         [ 4.6488],\n",
       "         [ 7.0733],\n",
       "         [ 1.3435],\n",
       "         [ 2.0176],\n",
       "         [ 6.3695]])]"
      ]
     },
     "execution_count": 5,
     "metadata": {},
     "output_type": "execute_result"
    }
   ],
   "source": [
    "def load_array(data_arrays, batch_size, is_train=True):  \n",
    "    \"\"\"Construct a PyTorch data iterator.\"\"\"\n",
    "    dataset = data.TensorDataset(*data_arrays)\n",
    "    return data.DataLoader(dataset, batch_size, shuffle=is_train)\n",
    "\n",
    "batch_size = 10\n",
    "data_iter = load_array((features, labels), batch_size)\n",
    "\n",
    "next(iter(data_iter))"
   ]
  },
  {
   "cell_type": "markdown",
   "id": "05bad6ed",
   "metadata": {
    "slideshow": {
     "slide_type": "slide"
    }
   },
   "source": [
    "Use a framework's predefined layers"
   ]
  },
  {
   "cell_type": "code",
   "execution_count": 6,
   "id": "9c94c310",
   "metadata": {
    "execution": {
     "iopub.execute_input": "2022-11-12T20:48:01.785025Z",
     "iopub.status.busy": "2022-11-12T20:48:01.784496Z",
     "iopub.status.idle": "2022-11-12T20:48:01.789798Z",
     "shell.execute_reply": "2022-11-12T20:48:01.788748Z"
    },
    "origin_pos": 17,
    "tab": [
     "pytorch"
    ]
   },
   "outputs": [],
   "source": [
    "from torch import nn\n",
    "\n",
    "net = nn.Sequential(nn.Linear(2, 1))"
   ]
  },
  {
   "cell_type": "markdown",
   "id": "32e33c5c",
   "metadata": {
    "slideshow": {
     "slide_type": "-"
    }
   },
   "source": [
    "Initialize the model parameters"
   ]
  },
  {
   "cell_type": "code",
   "execution_count": 7,
   "id": "5da0a014",
   "metadata": {
    "execution": {
     "iopub.execute_input": "2022-11-12T20:48:01.795468Z",
     "iopub.status.busy": "2022-11-12T20:48:01.794923Z",
     "iopub.status.idle": "2022-11-12T20:48:01.802173Z",
     "shell.execute_reply": "2022-11-12T20:48:01.801297Z"
    },
    "origin_pos": 24,
    "tab": [
     "pytorch"
    ]
   },
   "outputs": [
    {
     "data": {
      "text/plain": [
       "tensor([0.])"
      ]
     },
     "execution_count": 7,
     "metadata": {},
     "output_type": "execute_result"
    }
   ],
   "source": [
    "net[0].weight.data.normal_(0, 0.01)\n",
    "net[0].bias.data.fill_(0)"
   ]
  },
  {
   "cell_type": "markdown",
   "id": "4b3e3b27",
   "metadata": {
    "slideshow": {
     "slide_type": "slide"
    }
   },
   "source": [
    "The `MSELoss` class computes the mean squared error (without the $1/2$ factor in :eqref:`eq_mse`)"
   ]
  },
  {
   "cell_type": "code",
   "execution_count": 8,
   "id": "303ff43b",
   "metadata": {
    "execution": {
     "iopub.execute_input": "2022-11-12T20:48:01.806967Z",
     "iopub.status.busy": "2022-11-12T20:48:01.806212Z",
     "iopub.status.idle": "2022-11-12T20:48:01.811324Z",
     "shell.execute_reply": "2022-11-12T20:48:01.810337Z"
    },
    "origin_pos": 34,
    "tab": [
     "pytorch"
    ]
   },
   "outputs": [],
   "source": [
    "loss = nn.MSELoss()"
   ]
  },
  {
   "cell_type": "markdown",
   "id": "213cea02",
   "metadata": {
    "slideshow": {
     "slide_type": "-"
    }
   },
   "source": [
    "Instantiate an `SGD` instance"
   ]
  },
  {
   "cell_type": "code",
   "execution_count": 9,
   "id": "48d4bfed",
   "metadata": {
    "execution": {
     "iopub.execute_input": "2022-11-12T20:48:01.818988Z",
     "iopub.status.busy": "2022-11-12T20:48:01.816020Z",
     "iopub.status.idle": "2022-11-12T20:48:01.823144Z",
     "shell.execute_reply": "2022-11-12T20:48:01.821902Z"
    },
    "origin_pos": 41,
    "tab": [
     "pytorch"
    ]
   },
   "outputs": [],
   "source": [
    "trainer = torch.optim.SGD(net.parameters(), lr=0.03)"
   ]
  },
  {
   "cell_type": "markdown",
   "id": "47328323",
   "metadata": {
    "slideshow": {
     "slide_type": "slide"
    }
   },
   "source": [
    "The training loop itself is strikingly similar\n",
    "to what we did when implementing everything from scratch"
   ]
  },
  {
   "cell_type": "code",
   "execution_count": 10,
   "id": "ac98911b",
   "metadata": {
    "execution": {
     "iopub.execute_input": "2022-11-12T20:48:01.827420Z",
     "iopub.status.busy": "2022-11-12T20:48:01.826698Z",
     "iopub.status.idle": "2022-11-12T20:48:02.012508Z",
     "shell.execute_reply": "2022-11-12T20:48:02.011658Z"
    },
    "origin_pos": 45,
    "tab": [
     "pytorch"
    ]
   },
   "outputs": [
    {
     "name": "stdout",
     "output_type": "stream",
     "text": [
      "epoch 1, loss 0.000227\n",
      "epoch 2, loss 0.000112\n",
      "epoch 3, loss 0.000112\n"
     ]
    }
   ],
   "source": [
    "num_epochs = 3\n",
    "for epoch in range(num_epochs):\n",
    "    for X, y in data_iter:\n",
    "        l = loss(net(X) ,y)\n",
    "        trainer.zero_grad()\n",
    "        l.backward()\n",
    "        trainer.step()\n",
    "    l = loss(net(features), labels)\n",
    "    print(f'epoch {epoch + 1}, loss {l:f}')"
   ]
  },
  {
   "cell_type": "markdown",
   "id": "9e720725",
   "metadata": {
    "slideshow": {
     "slide_type": "slide"
    }
   },
   "source": [
    "Compare the model parameters learned by training on finite data\n",
    "and the actual parameters"
   ]
  },
  {
   "cell_type": "code",
   "execution_count": 11,
   "id": "5be40d09",
   "metadata": {
    "execution": {
     "iopub.execute_input": "2022-11-12T20:48:02.017033Z",
     "iopub.status.busy": "2022-11-12T20:48:02.016633Z",
     "iopub.status.idle": "2022-11-12T20:48:02.029572Z",
     "shell.execute_reply": "2022-11-12T20:48:02.028211Z"
    },
    "origin_pos": 49,
    "tab": [
     "pytorch"
    ]
   },
   "outputs": [
    {
     "name": "stdout",
     "output_type": "stream",
     "text": [
      "error in estimating w: tensor([-0.0006,  0.0001])\n",
      "error in estimating b: tensor([0.0005])\n"
     ]
    }
   ],
   "source": [
    "w = net[0].weight.data\n",
    "print('error in estimating w:', true_w - w.reshape(true_w.shape))\n",
    "b = net[0].bias.data\n",
    "print('error in estimating b:', true_b - b)"
   ]
  }
 ],
 "metadata": {
  "celltoolbar": "Slideshow",
  "language_info": {
   "name": "python"
  },
  "rise": {
   "autolaunch": true,
   "enable_chalkboard": true,
   "overlay": "<div class='my-top-right'><img height=80px src='http://d2l.ai/_static/logo-with-text.png'/></div><div class='my-top-left'></div>",
   "scroll": true
  }
 },
 "nbformat": 4,
 "nbformat_minor": 5
}