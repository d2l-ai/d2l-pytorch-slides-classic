{
 "cells": [
  {
   "cell_type": "markdown",
   "id": "96ecf414",
   "metadata": {
    "slideshow": {
     "slide_type": "-"
    }
   },
   "source": [
    "# Concise Implementation of Linear Regression\n",
    "\n",
    "We will show you how to implement\n",
    "the linear regression model\n",
    "concisely by using high-level APIs"
   ]
  },
  {
   "cell_type": "code",
   "execution_count": 2,
   "id": "5fbdb1e4",
   "metadata": {
    "execution": {
     "iopub.execute_input": "2022-07-10T02:54:51.720604Z",
     "iopub.status.busy": "2022-07-10T02:54:51.720047Z",
     "iopub.status.idle": "2022-07-10T02:54:51.747150Z",
     "shell.execute_reply": "2022-07-10T02:54:51.746113Z"
    },
    "origin_pos": 4,
    "tab": [
     "pytorch"
    ]
   },
   "outputs": [],
   "source": [
    "import numpy as np\n",
    "import torch\n",
    "from torch.utils import data\n",
    "from d2l import torch as d2l\n",
    "\n",
    "true_w = torch.tensor([2, -3.4])\n",
    "true_b = 4.2\n",
    "features, labels = d2l.synthetic_data(true_w, true_b, 1000)"
   ]
  },
  {
   "cell_type": "markdown",
   "id": "6d2dd040",
   "metadata": {
    "slideshow": {
     "slide_type": "slide"
    }
   },
   "source": [
    "Call upon the existing API in a framework to read data"
   ]
  },
  {
   "cell_type": "code",
   "execution_count": 5,
   "id": "e6088133",
   "metadata": {
    "execution": {
     "iopub.execute_input": "2022-07-10T02:54:51.768903Z",
     "iopub.status.busy": "2022-07-10T02:54:51.768346Z",
     "iopub.status.idle": "2022-07-10T02:54:51.779189Z",
     "shell.execute_reply": "2022-07-10T02:54:51.778144Z"
    },
    "origin_pos": 11,
    "tab": [
     "pytorch"
    ]
   },
   "outputs": [
    {
     "data": {
      "text/plain": [
       "[tensor([[-0.6178, -0.6908],\n",
       "         [ 1.5681,  1.0766],\n",
       "         [ 2.8053, -0.8076],\n",
       "         [-1.0401, -1.5506],\n",
       "         [-1.3891,  1.0033],\n",
       "         [-0.4686,  0.3383],\n",
       "         [ 0.1464,  0.7329],\n",
       "         [-0.1767, -1.0826],\n",
       "         [ 1.3438, -0.8969],\n",
       "         [ 0.8134,  0.5363]]),\n",
       " tensor([[ 5.2928],\n",
       "         [ 3.6691],\n",
       "         [12.5433],\n",
       "         [ 7.3812],\n",
       "         [-1.9757],\n",
       "         [ 2.1168],\n",
       "         [ 2.0138],\n",
       "         [ 7.5213],\n",
       "         [ 9.9501],\n",
       "         [ 4.0156]])]"
      ]
     },
     "execution_count": 5,
     "metadata": {},
     "output_type": "execute_result"
    }
   ],
   "source": [
    "def load_array(data_arrays, batch_size, is_train=True):  \n",
    "    \"\"\"Construct a PyTorch data iterator.\"\"\"\n",
    "    dataset = data.TensorDataset(*data_arrays)\n",
    "    return data.DataLoader(dataset, batch_size, shuffle=is_train)\n",
    "\n",
    "batch_size = 10\n",
    "data_iter = load_array((features, labels), batch_size)\n",
    "\n",
    "next(iter(data_iter))"
   ]
  },
  {
   "cell_type": "markdown",
   "id": "8bcb9557",
   "metadata": {
    "slideshow": {
     "slide_type": "slide"
    }
   },
   "source": [
    "Use a framework's predefined layers"
   ]
  },
  {
   "cell_type": "code",
   "execution_count": 6,
   "id": "97490955",
   "metadata": {
    "execution": {
     "iopub.execute_input": "2022-07-10T02:54:51.783812Z",
     "iopub.status.busy": "2022-07-10T02:54:51.783477Z",
     "iopub.status.idle": "2022-07-10T02:54:51.789128Z",
     "shell.execute_reply": "2022-07-10T02:54:51.788074Z"
    },
    "origin_pos": 17,
    "tab": [
     "pytorch"
    ]
   },
   "outputs": [],
   "source": [
    "from torch import nn\n",
    "\n",
    "net = nn.Sequential(nn.Linear(2, 1))"
   ]
  },
  {
   "cell_type": "markdown",
   "id": "c451633b",
   "metadata": {
    "slideshow": {
     "slide_type": "-"
    }
   },
   "source": [
    "Initialize the model parameters"
   ]
  },
  {
   "cell_type": "code",
   "execution_count": 7,
   "id": "a6ceb44e",
   "metadata": {
    "execution": {
     "iopub.execute_input": "2022-07-10T02:54:51.793313Z",
     "iopub.status.busy": "2022-07-10T02:54:51.792562Z",
     "iopub.status.idle": "2022-07-10T02:54:51.799818Z",
     "shell.execute_reply": "2022-07-10T02:54:51.798763Z"
    },
    "origin_pos": 24,
    "tab": [
     "pytorch"
    ]
   },
   "outputs": [
    {
     "data": {
      "text/plain": [
       "tensor([0.])"
      ]
     },
     "execution_count": 7,
     "metadata": {},
     "output_type": "execute_result"
    }
   ],
   "source": [
    "net[0].weight.data.normal_(0, 0.01)\n",
    "net[0].bias.data.fill_(0)"
   ]
  },
  {
   "cell_type": "markdown",
   "id": "b918f0fe",
   "metadata": {
    "slideshow": {
     "slide_type": "slide"
    }
   },
   "source": [
    "The `MSELoss` class computes the mean squared error (without the $1/2$ factor in :eqref:`eq_mse`)"
   ]
  },
  {
   "cell_type": "code",
   "execution_count": 8,
   "id": "83d57417",
   "metadata": {
    "execution": {
     "iopub.execute_input": "2022-07-10T02:54:51.804096Z",
     "iopub.status.busy": "2022-07-10T02:54:51.803317Z",
     "iopub.status.idle": "2022-07-10T02:54:51.807872Z",
     "shell.execute_reply": "2022-07-10T02:54:51.806792Z"
    },
    "origin_pos": 34,
    "tab": [
     "pytorch"
    ]
   },
   "outputs": [],
   "source": [
    "loss = nn.MSELoss()"
   ]
  },
  {
   "cell_type": "markdown",
   "id": "b7933a86",
   "metadata": {
    "slideshow": {
     "slide_type": "-"
    }
   },
   "source": [
    "Instantiate an `SGD` instance"
   ]
  },
  {
   "cell_type": "code",
   "execution_count": 9,
   "id": "dd63f8aa",
   "metadata": {
    "execution": {
     "iopub.execute_input": "2022-07-10T02:54:51.812423Z",
     "iopub.status.busy": "2022-07-10T02:54:51.811849Z",
     "iopub.status.idle": "2022-07-10T02:54:51.816510Z",
     "shell.execute_reply": "2022-07-10T02:54:51.815500Z"
    },
    "origin_pos": 41,
    "tab": [
     "pytorch"
    ]
   },
   "outputs": [],
   "source": [
    "trainer = torch.optim.SGD(net.parameters(), lr=0.03)"
   ]
  },
  {
   "cell_type": "markdown",
   "id": "71a2eb56",
   "metadata": {
    "slideshow": {
     "slide_type": "slide"
    }
   },
   "source": [
    "The training loop itself is strikingly similar\n",
    "to what we did when implementing everything from scratch"
   ]
  },
  {
   "cell_type": "code",
   "execution_count": 10,
   "id": "152201c7",
   "metadata": {
    "execution": {
     "iopub.execute_input": "2022-07-10T02:54:51.820824Z",
     "iopub.status.busy": "2022-07-10T02:54:51.820220Z",
     "iopub.status.idle": "2022-07-10T02:54:51.983110Z",
     "shell.execute_reply": "2022-07-10T02:54:51.982209Z"
    },
    "origin_pos": 45,
    "tab": [
     "pytorch"
    ]
   },
   "outputs": [
    {
     "name": "stdout",
     "output_type": "stream",
     "text": [
      "epoch 1, loss 0.000219\n",
      "epoch 2, loss 0.000093\n",
      "epoch 3, loss 0.000093\n"
     ]
    }
   ],
   "source": [
    "num_epochs = 3\n",
    "for epoch in range(num_epochs):\n",
    "    for X, y in data_iter:\n",
    "        l = loss(net(X) ,y)\n",
    "        trainer.zero_grad()\n",
    "        l.backward()\n",
    "        trainer.step()\n",
    "    l = loss(net(features), labels)\n",
    "    print(f'epoch {epoch + 1}, loss {l:f}')"
   ]
  },
  {
   "cell_type": "markdown",
   "id": "1a4212e2",
   "metadata": {
    "slideshow": {
     "slide_type": "slide"
    }
   },
   "source": [
    "Compare the model parameters learned by training on finite data\n",
    "and the actual parameters"
   ]
  },
  {
   "cell_type": "code",
   "execution_count": 11,
   "id": "cf5d8290",
   "metadata": {
    "execution": {
     "iopub.execute_input": "2022-07-10T02:54:51.986977Z",
     "iopub.status.busy": "2022-07-10T02:54:51.986393Z",
     "iopub.status.idle": "2022-07-10T02:54:51.993484Z",
     "shell.execute_reply": "2022-07-10T02:54:51.992562Z"
    },
    "origin_pos": 49,
    "tab": [
     "pytorch"
    ]
   },
   "outputs": [
    {
     "name": "stdout",
     "output_type": "stream",
     "text": [
      "error in estimating w: tensor([0.0003, 0.0004])\n",
      "error in estimating b: tensor([-0.0003])\n"
     ]
    }
   ],
   "source": [
    "w = net[0].weight.data\n",
    "print('error in estimating w:', true_w - w.reshape(true_w.shape))\n",
    "b = net[0].bias.data\n",
    "print('error in estimating b:', true_b - b)"
   ]
  }
 ],
 "metadata": {
  "celltoolbar": "Slideshow",
  "language_info": {
   "name": "python"
  },
  "rise": {
   "autolaunch": true,
   "enable_chalkboard": true,
   "overlay": "<div class='my-top-right'><img height=80px src='http://d2l.ai/_static/logo-with-text.png'/></div><div class='my-top-left'></div>",
   "scroll": true
  }
 },
 "nbformat": 4,
 "nbformat_minor": 5
}