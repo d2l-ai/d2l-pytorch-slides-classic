{
 "cells": [
  {
   "cell_type": "markdown",
   "id": "497779d1",
   "metadata": {
    "slideshow": {
     "slide_type": "-"
    }
   },
   "source": [
    "# Pooling\n",
    "\n",
    "Implement the forward propagation\n",
    "of the pooling layer"
   ]
  },
  {
   "cell_type": "code",
   "execution_count": 2,
   "id": "6b70bc84",
   "metadata": {
    "execution": {
     "iopub.execute_input": "2022-07-10T03:08:10.246502Z",
     "iopub.status.busy": "2022-07-10T03:08:10.245932Z",
     "iopub.status.idle": "2022-07-10T03:08:10.252941Z",
     "shell.execute_reply": "2022-07-10T03:08:10.251822Z"
    },
    "origin_pos": 3,
    "tab": [
     "pytorch"
    ]
   },
   "outputs": [],
   "source": [
    "import torch\n",
    "from torch import nn\n",
    "from d2l import torch as d2l\n",
    "\n",
    "def pool2d(X, pool_size, mode='max'):\n",
    "    p_h, p_w = pool_size\n",
    "    Y = torch.zeros((X.shape[0] - p_h + 1, X.shape[1] - p_w + 1))\n",
    "    for i in range(Y.shape[0]):\n",
    "        for j in range(Y.shape[1]):\n",
    "            if mode == 'max':\n",
    "                Y[i, j] = X[i: i + p_h, j: j + p_w].max()\n",
    "            elif mode == 'avg':\n",
    "                Y[i, j] = X[i: i + p_h, j: j + p_w].mean()\n",
    "    return Y"
   ]
  },
  {
   "cell_type": "markdown",
   "id": "fb629041",
   "metadata": {
    "slideshow": {
     "slide_type": "slide"
    }
   },
   "source": [
    "Validate the output of the two-dimensional maximum pooling layer"
   ]
  },
  {
   "cell_type": "code",
   "execution_count": 3,
   "id": "deebedb7",
   "metadata": {
    "execution": {
     "iopub.execute_input": "2022-07-10T03:08:10.257056Z",
     "iopub.status.busy": "2022-07-10T03:08:10.256317Z",
     "iopub.status.idle": "2022-07-10T03:08:10.287821Z",
     "shell.execute_reply": "2022-07-10T03:08:10.286522Z"
    },
    "origin_pos": 6,
    "tab": [
     "pytorch"
    ]
   },
   "outputs": [
    {
     "data": {
      "text/plain": [
       "tensor([[4., 5.],\n",
       "        [7., 8.]])"
      ]
     },
     "execution_count": 3,
     "metadata": {},
     "output_type": "execute_result"
    }
   ],
   "source": [
    "X = torch.tensor([[0.0, 1.0, 2.0], [3.0, 4.0, 5.0], [6.0, 7.0, 8.0]])\n",
    "pool2d(X, (2, 2))"
   ]
  },
  {
   "cell_type": "markdown",
   "id": "8331940d",
   "metadata": {
    "slideshow": {
     "slide_type": "-"
    }
   },
   "source": [
    "The average pooling layer"
   ]
  },
  {
   "cell_type": "code",
   "execution_count": 4,
   "id": "cbf35832",
   "metadata": {
    "execution": {
     "iopub.execute_input": "2022-07-10T03:08:10.291724Z",
     "iopub.status.busy": "2022-07-10T03:08:10.291272Z",
     "iopub.status.idle": "2022-07-10T03:08:10.299423Z",
     "shell.execute_reply": "2022-07-10T03:08:10.298320Z"
    },
    "origin_pos": 8,
    "tab": [
     "pytorch"
    ]
   },
   "outputs": [
    {
     "data": {
      "text/plain": [
       "tensor([[2., 3.],\n",
       "        [5., 6.]])"
      ]
     },
     "execution_count": 4,
     "metadata": {},
     "output_type": "execute_result"
    }
   ],
   "source": [
    "pool2d(X, (2, 2), 'avg')"
   ]
  },
  {
   "cell_type": "markdown",
   "id": "fd567ed6",
   "metadata": {
    "slideshow": {
     "slide_type": "slide"
    }
   },
   "source": [
    "Padding and Stride"
   ]
  },
  {
   "cell_type": "code",
   "execution_count": 5,
   "id": "10f1d9d2",
   "metadata": {
    "execution": {
     "iopub.execute_input": "2022-07-10T03:08:10.303502Z",
     "iopub.status.busy": "2022-07-10T03:08:10.302741Z",
     "iopub.status.idle": "2022-07-10T03:08:10.311214Z",
     "shell.execute_reply": "2022-07-10T03:08:10.310008Z"
    },
    "origin_pos": 11,
    "tab": [
     "pytorch"
    ]
   },
   "outputs": [
    {
     "data": {
      "text/plain": [
       "tensor([[[[ 0.,  1.,  2.,  3.],\n",
       "          [ 4.,  5.,  6.,  7.],\n",
       "          [ 8.,  9., 10., 11.],\n",
       "          [12., 13., 14., 15.]]]])"
      ]
     },
     "execution_count": 5,
     "metadata": {},
     "output_type": "execute_result"
    }
   ],
   "source": [
    "X = torch.arange(16, dtype=torch.float32).reshape((1, 1, 4, 4))\n",
    "X"
   ]
  },
  {
   "cell_type": "markdown",
   "id": "6e65e7d5",
   "metadata": {
    "slideshow": {
     "slide_type": "-"
    }
   },
   "source": [
    "The stride and the pooling window in the instance from the framework's built-in class\n",
    "have the same shape"
   ]
  },
  {
   "cell_type": "code",
   "execution_count": 6,
   "id": "f7f1175d",
   "metadata": {
    "execution": {
     "iopub.execute_input": "2022-07-10T03:08:10.314907Z",
     "iopub.status.busy": "2022-07-10T03:08:10.314459Z",
     "iopub.status.idle": "2022-07-10T03:08:10.322321Z",
     "shell.execute_reply": "2022-07-10T03:08:10.321208Z"
    },
    "origin_pos": 15,
    "tab": [
     "pytorch"
    ]
   },
   "outputs": [
    {
     "data": {
      "text/plain": [
       "tensor([[[[10.]]]])"
      ]
     },
     "execution_count": 6,
     "metadata": {},
     "output_type": "execute_result"
    }
   ],
   "source": [
    "pool2d = nn.MaxPool2d(3)\n",
    "pool2d(X)"
   ]
  },
  {
   "cell_type": "markdown",
   "id": "4dc233fc",
   "metadata": {
    "slideshow": {
     "slide_type": "slide"
    }
   },
   "source": [
    "The stride and padding can be manually specified"
   ]
  },
  {
   "cell_type": "code",
   "execution_count": 7,
   "id": "b7e0e59b",
   "metadata": {
    "execution": {
     "iopub.execute_input": "2022-07-10T03:08:10.326683Z",
     "iopub.status.busy": "2022-07-10T03:08:10.325963Z",
     "iopub.status.idle": "2022-07-10T03:08:10.334338Z",
     "shell.execute_reply": "2022-07-10T03:08:10.333284Z"
    },
    "origin_pos": 19,
    "tab": [
     "pytorch"
    ]
   },
   "outputs": [
    {
     "data": {
      "text/plain": [
       "tensor([[[[ 5.,  7.],\n",
       "          [13., 15.]]]])"
      ]
     },
     "execution_count": 7,
     "metadata": {},
     "output_type": "execute_result"
    }
   ],
   "source": [
    "pool2d = nn.MaxPool2d(3, padding=1, stride=2)\n",
    "pool2d(X)"
   ]
  },
  {
   "cell_type": "markdown",
   "id": "dc8e8275",
   "metadata": {
    "slideshow": {
     "slide_type": "-"
    }
   },
   "source": [
    "Specify an arbitrary rectangular pooling window\n",
    "and specify the padding and stride for height and width"
   ]
  },
  {
   "cell_type": "code",
   "execution_count": 8,
   "id": "10c8cfe7",
   "metadata": {
    "execution": {
     "iopub.execute_input": "2022-07-10T03:08:10.338193Z",
     "iopub.status.busy": "2022-07-10T03:08:10.337666Z",
     "iopub.status.idle": "2022-07-10T03:08:10.345602Z",
     "shell.execute_reply": "2022-07-10T03:08:10.344640Z"
    },
    "origin_pos": 25,
    "tab": [
     "pytorch"
    ]
   },
   "outputs": [
    {
     "data": {
      "text/plain": [
       "tensor([[[[ 5.,  7.],\n",
       "          [13., 15.]]]])"
      ]
     },
     "execution_count": 8,
     "metadata": {},
     "output_type": "execute_result"
    }
   ],
   "source": [
    "pool2d = nn.MaxPool2d((2, 3), stride=(2, 3), padding=(0, 1))\n",
    "pool2d(X)"
   ]
  },
  {
   "cell_type": "markdown",
   "id": "01280099",
   "metadata": {
    "slideshow": {
     "slide_type": "slide"
    }
   },
   "source": [
    "The pooling layer pools each input channel separately"
   ]
  },
  {
   "cell_type": "code",
   "execution_count": 9,
   "id": "aad69391",
   "metadata": {
    "execution": {
     "iopub.execute_input": "2022-07-10T03:08:10.349692Z",
     "iopub.status.busy": "2022-07-10T03:08:10.348907Z",
     "iopub.status.idle": "2022-07-10T03:08:10.357155Z",
     "shell.execute_reply": "2022-07-10T03:08:10.356184Z"
    },
    "origin_pos": 29,
    "tab": [
     "pytorch"
    ]
   },
   "outputs": [
    {
     "data": {
      "text/plain": [
       "tensor([[[[ 0.,  1.,  2.,  3.],\n",
       "          [ 4.,  5.,  6.,  7.],\n",
       "          [ 8.,  9., 10., 11.],\n",
       "          [12., 13., 14., 15.]],\n",
       "\n",
       "         [[ 1.,  2.,  3.,  4.],\n",
       "          [ 5.,  6.,  7.,  8.],\n",
       "          [ 9., 10., 11., 12.],\n",
       "          [13., 14., 15., 16.]]]])"
      ]
     },
     "execution_count": 9,
     "metadata": {},
     "output_type": "execute_result"
    }
   ],
   "source": [
    "X = torch.cat((X, X + 1), 1)\n",
    "X"
   ]
  },
  {
   "cell_type": "code",
   "execution_count": 10,
   "id": "6ae44759",
   "metadata": {
    "execution": {
     "iopub.execute_input": "2022-07-10T03:08:10.361184Z",
     "iopub.status.busy": "2022-07-10T03:08:10.360392Z",
     "iopub.status.idle": "2022-07-10T03:08:10.368425Z",
     "shell.execute_reply": "2022-07-10T03:08:10.367424Z"
    },
    "origin_pos": 33,
    "tab": [
     "pytorch"
    ]
   },
   "outputs": [
    {
     "data": {
      "text/plain": [
       "tensor([[[[ 5.,  7.],\n",
       "          [13., 15.]],\n",
       "\n",
       "         [[ 6.,  8.],\n",
       "          [14., 16.]]]])"
      ]
     },
     "execution_count": 10,
     "metadata": {},
     "output_type": "execute_result"
    }
   ],
   "source": [
    "pool2d = nn.MaxPool2d(3, padding=1, stride=2)\n",
    "pool2d(X)"
   ]
  }
 ],
 "metadata": {
  "celltoolbar": "Slideshow",
  "language_info": {
   "name": "python"
  },
  "rise": {
   "autolaunch": true,
   "enable_chalkboard": true,
   "overlay": "<div class='my-top-right'><img height=80px src='http://d2l.ai/_static/logo-with-text.png'/></div><div class='my-top-left'></div>",
   "scroll": true
  }
 },
 "nbformat": 4,
 "nbformat_minor": 5
}