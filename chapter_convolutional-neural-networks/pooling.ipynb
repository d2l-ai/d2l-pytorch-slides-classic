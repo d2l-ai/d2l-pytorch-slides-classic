{
 "cells": [
  {
   "cell_type": "markdown",
   "id": "f0592f27",
   "metadata": {
    "slideshow": {
     "slide_type": "-"
    }
   },
   "source": [
    "# Pooling\n",
    "\n",
    "Implement the forward propagation\n",
    "of the pooling layer"
   ]
  },
  {
   "cell_type": "code",
   "execution_count": 2,
   "id": "b16a41cf",
   "metadata": {
    "execution": {
     "iopub.execute_input": "2022-11-12T20:43:38.647055Z",
     "iopub.status.busy": "2022-11-12T20:43:38.646468Z",
     "iopub.status.idle": "2022-11-12T20:43:38.652563Z",
     "shell.execute_reply": "2022-11-12T20:43:38.651796Z"
    },
    "origin_pos": 3,
    "tab": [
     "pytorch"
    ]
   },
   "outputs": [],
   "source": [
    "import torch\n",
    "from torch import nn\n",
    "from d2l import torch as d2l\n",
    "\n",
    "def pool2d(X, pool_size, mode='max'):\n",
    "    p_h, p_w = pool_size\n",
    "    Y = torch.zeros((X.shape[0] - p_h + 1, X.shape[1] - p_w + 1))\n",
    "    for i in range(Y.shape[0]):\n",
    "        for j in range(Y.shape[1]):\n",
    "            if mode == 'max':\n",
    "                Y[i, j] = X[i: i + p_h, j: j + p_w].max()\n",
    "            elif mode == 'avg':\n",
    "                Y[i, j] = X[i: i + p_h, j: j + p_w].mean()\n",
    "    return Y"
   ]
  },
  {
   "cell_type": "markdown",
   "id": "1e87f36d",
   "metadata": {
    "slideshow": {
     "slide_type": "slide"
    }
   },
   "source": [
    "Validate the output of the two-dimensional maximum pooling layer"
   ]
  },
  {
   "cell_type": "code",
   "execution_count": 3,
   "id": "474da1b8",
   "metadata": {
    "execution": {
     "iopub.execute_input": "2022-11-12T20:43:38.656107Z",
     "iopub.status.busy": "2022-11-12T20:43:38.655582Z",
     "iopub.status.idle": "2022-11-12T20:43:38.681849Z",
     "shell.execute_reply": "2022-11-12T20:43:38.681098Z"
    },
    "origin_pos": 6,
    "tab": [
     "pytorch"
    ]
   },
   "outputs": [
    {
     "data": {
      "text/plain": [
       "tensor([[4., 5.],\n",
       "        [7., 8.]])"
      ]
     },
     "execution_count": 3,
     "metadata": {},
     "output_type": "execute_result"
    }
   ],
   "source": [
    "X = torch.tensor([[0.0, 1.0, 2.0], [3.0, 4.0, 5.0], [6.0, 7.0, 8.0]])\n",
    "pool2d(X, (2, 2))"
   ]
  },
  {
   "cell_type": "markdown",
   "id": "17aaa31c",
   "metadata": {
    "slideshow": {
     "slide_type": "-"
    }
   },
   "source": [
    "The average pooling layer"
   ]
  },
  {
   "cell_type": "code",
   "execution_count": 4,
   "id": "eb0b1a2d",
   "metadata": {
    "execution": {
     "iopub.execute_input": "2022-11-12T20:43:38.687179Z",
     "iopub.status.busy": "2022-11-12T20:43:38.686735Z",
     "iopub.status.idle": "2022-11-12T20:43:38.692884Z",
     "shell.execute_reply": "2022-11-12T20:43:38.692129Z"
    },
    "origin_pos": 8,
    "tab": [
     "pytorch"
    ]
   },
   "outputs": [
    {
     "data": {
      "text/plain": [
       "tensor([[2., 3.],\n",
       "        [5., 6.]])"
      ]
     },
     "execution_count": 4,
     "metadata": {},
     "output_type": "execute_result"
    }
   ],
   "source": [
    "pool2d(X, (2, 2), 'avg')"
   ]
  },
  {
   "cell_type": "markdown",
   "id": "79950e53",
   "metadata": {
    "slideshow": {
     "slide_type": "slide"
    }
   },
   "source": [
    "Padding and Stride"
   ]
  },
  {
   "cell_type": "code",
   "execution_count": 5,
   "id": "ce3d7231",
   "metadata": {
    "execution": {
     "iopub.execute_input": "2022-11-12T20:43:38.696203Z",
     "iopub.status.busy": "2022-11-12T20:43:38.695779Z",
     "iopub.status.idle": "2022-11-12T20:43:38.701996Z",
     "shell.execute_reply": "2022-11-12T20:43:38.701258Z"
    },
    "origin_pos": 11,
    "tab": [
     "pytorch"
    ]
   },
   "outputs": [
    {
     "data": {
      "text/plain": [
       "tensor([[[[ 0.,  1.,  2.,  3.],\n",
       "          [ 4.,  5.,  6.,  7.],\n",
       "          [ 8.,  9., 10., 11.],\n",
       "          [12., 13., 14., 15.]]]])"
      ]
     },
     "execution_count": 5,
     "metadata": {},
     "output_type": "execute_result"
    }
   ],
   "source": [
    "X = torch.arange(16, dtype=torch.float32).reshape((1, 1, 4, 4))\n",
    "X"
   ]
  },
  {
   "cell_type": "markdown",
   "id": "5bb74e7c",
   "metadata": {
    "slideshow": {
     "slide_type": "-"
    }
   },
   "source": [
    "The stride and the pooling window in the instance from the framework's built-in class\n",
    "have the same shape"
   ]
  },
  {
   "cell_type": "code",
   "execution_count": 6,
   "id": "fb0a134a",
   "metadata": {
    "execution": {
     "iopub.execute_input": "2022-11-12T20:43:38.706140Z",
     "iopub.status.busy": "2022-11-12T20:43:38.705717Z",
     "iopub.status.idle": "2022-11-12T20:43:38.711463Z",
     "shell.execute_reply": "2022-11-12T20:43:38.710700Z"
    },
    "origin_pos": 15,
    "tab": [
     "pytorch"
    ]
   },
   "outputs": [
    {
     "data": {
      "text/plain": [
       "tensor([[[[10.]]]])"
      ]
     },
     "execution_count": 6,
     "metadata": {},
     "output_type": "execute_result"
    }
   ],
   "source": [
    "pool2d = nn.MaxPool2d(3)\n",
    "pool2d(X)"
   ]
  },
  {
   "cell_type": "markdown",
   "id": "448e2ded",
   "metadata": {
    "slideshow": {
     "slide_type": "slide"
    }
   },
   "source": [
    "The stride and padding can be manually specified"
   ]
  },
  {
   "cell_type": "code",
   "execution_count": 7,
   "id": "53463e47",
   "metadata": {
    "execution": {
     "iopub.execute_input": "2022-11-12T20:43:38.715681Z",
     "iopub.status.busy": "2022-11-12T20:43:38.715233Z",
     "iopub.status.idle": "2022-11-12T20:43:38.722151Z",
     "shell.execute_reply": "2022-11-12T20:43:38.721371Z"
    },
    "origin_pos": 19,
    "tab": [
     "pytorch"
    ]
   },
   "outputs": [
    {
     "data": {
      "text/plain": [
       "tensor([[[[ 5.,  7.],\n",
       "          [13., 15.]]]])"
      ]
     },
     "execution_count": 7,
     "metadata": {},
     "output_type": "execute_result"
    }
   ],
   "source": [
    "pool2d = nn.MaxPool2d(3, padding=1, stride=2)\n",
    "pool2d(X)"
   ]
  },
  {
   "cell_type": "markdown",
   "id": "f0d47f4b",
   "metadata": {
    "slideshow": {
     "slide_type": "-"
    }
   },
   "source": [
    "Specify an arbitrary rectangular pooling window\n",
    "and specify the padding and stride for height and width"
   ]
  },
  {
   "cell_type": "code",
   "execution_count": 8,
   "id": "0db609f7",
   "metadata": {
    "execution": {
     "iopub.execute_input": "2022-11-12T20:43:38.725607Z",
     "iopub.status.busy": "2022-11-12T20:43:38.725101Z",
     "iopub.status.idle": "2022-11-12T20:43:38.731626Z",
     "shell.execute_reply": "2022-11-12T20:43:38.730850Z"
    },
    "origin_pos": 25,
    "tab": [
     "pytorch"
    ]
   },
   "outputs": [
    {
     "data": {
      "text/plain": [
       "tensor([[[[ 5.,  7.],\n",
       "          [13., 15.]]]])"
      ]
     },
     "execution_count": 8,
     "metadata": {},
     "output_type": "execute_result"
    }
   ],
   "source": [
    "pool2d = nn.MaxPool2d((2, 3), stride=(2, 3), padding=(0, 1))\n",
    "pool2d(X)"
   ]
  },
  {
   "cell_type": "markdown",
   "id": "87f75bf7",
   "metadata": {
    "slideshow": {
     "slide_type": "slide"
    }
   },
   "source": [
    "The pooling layer pools each input channel separately"
   ]
  },
  {
   "cell_type": "code",
   "execution_count": 9,
   "id": "d3319318",
   "metadata": {
    "execution": {
     "iopub.execute_input": "2022-11-12T20:43:38.735035Z",
     "iopub.status.busy": "2022-11-12T20:43:38.734485Z",
     "iopub.status.idle": "2022-11-12T20:43:38.740824Z",
     "shell.execute_reply": "2022-11-12T20:43:38.740051Z"
    },
    "origin_pos": 29,
    "tab": [
     "pytorch"
    ]
   },
   "outputs": [
    {
     "data": {
      "text/plain": [
       "tensor([[[[ 0.,  1.,  2.,  3.],\n",
       "          [ 4.,  5.,  6.,  7.],\n",
       "          [ 8.,  9., 10., 11.],\n",
       "          [12., 13., 14., 15.]],\n",
       "\n",
       "         [[ 1.,  2.,  3.,  4.],\n",
       "          [ 5.,  6.,  7.,  8.],\n",
       "          [ 9., 10., 11., 12.],\n",
       "          [13., 14., 15., 16.]]]])"
      ]
     },
     "execution_count": 9,
     "metadata": {},
     "output_type": "execute_result"
    }
   ],
   "source": [
    "X = torch.cat((X, X + 1), 1)\n",
    "X"
   ]
  },
  {
   "cell_type": "code",
   "execution_count": 10,
   "id": "30c1151d",
   "metadata": {
    "execution": {
     "iopub.execute_input": "2022-11-12T20:43:38.745435Z",
     "iopub.status.busy": "2022-11-12T20:43:38.744908Z",
     "iopub.status.idle": "2022-11-12T20:43:38.751355Z",
     "shell.execute_reply": "2022-11-12T20:43:38.750505Z"
    },
    "origin_pos": 33,
    "tab": [
     "pytorch"
    ]
   },
   "outputs": [
    {
     "data": {
      "text/plain": [
       "tensor([[[[ 5.,  7.],\n",
       "          [13., 15.]],\n",
       "\n",
       "         [[ 6.,  8.],\n",
       "          [14., 16.]]]])"
      ]
     },
     "execution_count": 10,
     "metadata": {},
     "output_type": "execute_result"
    }
   ],
   "source": [
    "pool2d = nn.MaxPool2d(3, padding=1, stride=2)\n",
    "pool2d(X)"
   ]
  }
 ],
 "metadata": {
  "celltoolbar": "Slideshow",
  "language_info": {
   "name": "python"
  },
  "rise": {
   "autolaunch": true,
   "enable_chalkboard": true,
   "overlay": "<div class='my-top-right'><img height=80px src='http://d2l.ai/_static/logo-with-text.png'/></div><div class='my-top-left'></div>",
   "scroll": true
  }
 },
 "nbformat": 4,
 "nbformat_minor": 5
}