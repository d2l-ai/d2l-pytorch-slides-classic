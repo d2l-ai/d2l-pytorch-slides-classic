{
 "cells": [
  {
   "cell_type": "markdown",
   "id": "1c702c71",
   "metadata": {
    "slideshow": {
     "slide_type": "-"
    }
   },
   "source": [
    "# Convolutions for Images\n",
    "\n",
    "Cross-correlation operation"
   ]
  },
  {
   "cell_type": "code",
   "execution_count": 2,
   "id": "e4f432d0",
   "metadata": {
    "execution": {
     "iopub.execute_input": "2022-11-12T20:48:08.761089Z",
     "iopub.status.busy": "2022-11-12T20:48:08.760696Z",
     "iopub.status.idle": "2022-11-12T20:48:08.769318Z",
     "shell.execute_reply": "2022-11-12T20:48:08.767954Z"
    },
    "origin_pos": 3,
    "tab": [
     "pytorch"
    ]
   },
   "outputs": [],
   "source": [
    "import torch\n",
    "from torch import nn\n",
    "from d2l import torch as d2l\n",
    "\n",
    "def corr2d(X, K):  \n",
    "    \"\"\"Compute 2D cross-correlation.\"\"\"\n",
    "    h, w = K.shape\n",
    "    Y = torch.zeros((X.shape[0] - h + 1, X.shape[1] - w + 1))\n",
    "    for i in range(Y.shape[0]):\n",
    "        for j in range(Y.shape[1]):\n",
    "            Y[i, j] = (X[i:i + h, j:j + w] * K).sum()\n",
    "    return Y"
   ]
  },
  {
   "cell_type": "markdown",
   "id": "6a6a78f8",
   "metadata": {
    "slideshow": {
     "slide_type": "slide"
    }
   },
   "source": [
    "Validate the output of the above implementation"
   ]
  },
  {
   "cell_type": "code",
   "execution_count": 3,
   "id": "58b6d89e",
   "metadata": {
    "execution": {
     "iopub.execute_input": "2022-11-12T20:48:08.775139Z",
     "iopub.status.busy": "2022-11-12T20:48:08.774353Z",
     "iopub.status.idle": "2022-11-12T20:48:08.808161Z",
     "shell.execute_reply": "2022-11-12T20:48:08.806986Z"
    },
    "origin_pos": 6,
    "tab": [
     "pytorch"
    ]
   },
   "outputs": [
    {
     "data": {
      "text/plain": [
       "tensor([[19., 25.],\n",
       "        [37., 43.]])"
      ]
     },
     "execution_count": 3,
     "metadata": {},
     "output_type": "execute_result"
    }
   ],
   "source": [
    "X = torch.tensor([[0.0, 1.0, 2.0], [3.0, 4.0, 5.0], [6.0, 7.0, 8.0]])\n",
    "K = torch.tensor([[0.0, 1.0], [2.0, 3.0]])\n",
    "corr2d(X, K)"
   ]
  },
  {
   "cell_type": "markdown",
   "id": "a82e5554",
   "metadata": {
    "slideshow": {
     "slide_type": "slide"
    }
   },
   "source": [
    "Implement a two-dimensional convolutional layer"
   ]
  },
  {
   "cell_type": "code",
   "execution_count": 4,
   "id": "908a6753",
   "metadata": {
    "execution": {
     "iopub.execute_input": "2022-11-12T20:48:08.816733Z",
     "iopub.status.busy": "2022-11-12T20:48:08.815734Z",
     "iopub.status.idle": "2022-11-12T20:48:08.825797Z",
     "shell.execute_reply": "2022-11-12T20:48:08.820759Z"
    },
    "origin_pos": 9,
    "tab": [
     "pytorch"
    ]
   },
   "outputs": [],
   "source": [
    "class Conv2D(nn.Module):\n",
    "    def __init__(self, kernel_size):\n",
    "        super().__init__()\n",
    "        self.weight = nn.Parameter(torch.rand(kernel_size))\n",
    "        self.bias = nn.Parameter(torch.zeros(1))\n",
    "\n",
    "    def forward(self, x):\n",
    "        return corr2d(x, self.weight) + self.bias"
   ]
  },
  {
   "cell_type": "markdown",
   "id": "032f7860",
   "metadata": {
    "slideshow": {
     "slide_type": "slide"
    }
   },
   "source": [
    "A simple application of a convolutional layer:\n",
    "detecting the edge of an object in an image"
   ]
  },
  {
   "cell_type": "code",
   "execution_count": 5,
   "id": "24c11a5d",
   "metadata": {
    "execution": {
     "iopub.execute_input": "2022-11-12T20:48:08.831645Z",
     "iopub.status.busy": "2022-11-12T20:48:08.830430Z",
     "iopub.status.idle": "2022-11-12T20:48:08.841313Z",
     "shell.execute_reply": "2022-11-12T20:48:08.839891Z"
    },
    "origin_pos": 12,
    "tab": [
     "pytorch"
    ]
   },
   "outputs": [
    {
     "data": {
      "text/plain": [
       "tensor([[1., 1., 0., 0., 0., 0., 1., 1.],\n",
       "        [1., 1., 0., 0., 0., 0., 1., 1.],\n",
       "        [1., 1., 0., 0., 0., 0., 1., 1.],\n",
       "        [1., 1., 0., 0., 0., 0., 1., 1.],\n",
       "        [1., 1., 0., 0., 0., 0., 1., 1.],\n",
       "        [1., 1., 0., 0., 0., 0., 1., 1.]])"
      ]
     },
     "execution_count": 5,
     "metadata": {},
     "output_type": "execute_result"
    }
   ],
   "source": [
    "X = torch.ones((6, 8))\n",
    "X[:, 2:6] = 0\n",
    "X"
   ]
  },
  {
   "cell_type": "code",
   "execution_count": 6,
   "id": "bd75d831",
   "metadata": {
    "execution": {
     "iopub.execute_input": "2022-11-12T20:48:08.846113Z",
     "iopub.status.busy": "2022-11-12T20:48:08.845266Z",
     "iopub.status.idle": "2022-11-12T20:48:08.851910Z",
     "shell.execute_reply": "2022-11-12T20:48:08.850667Z"
    },
    "origin_pos": 15,
    "tab": [
     "pytorch"
    ]
   },
   "outputs": [],
   "source": [
    "K = torch.tensor([[1.0, -1.0]])"
   ]
  },
  {
   "cell_type": "markdown",
   "id": "6be944d1",
   "metadata": {
    "slideshow": {
     "slide_type": "slide"
    }
   },
   "source": [
    "We detect 1 for the edge from white to black\n",
    "and -1 for the edge from black to white"
   ]
  },
  {
   "cell_type": "code",
   "execution_count": 7,
   "id": "8bdc128d",
   "metadata": {
    "execution": {
     "iopub.execute_input": "2022-11-12T20:48:08.856943Z",
     "iopub.status.busy": "2022-11-12T20:48:08.856583Z",
     "iopub.status.idle": "2022-11-12T20:48:08.869951Z",
     "shell.execute_reply": "2022-11-12T20:48:08.868798Z"
    },
    "origin_pos": 17,
    "tab": [
     "pytorch"
    ]
   },
   "outputs": [
    {
     "data": {
      "text/plain": [
       "tensor([[ 0.,  1.,  0.,  0.,  0., -1.,  0.],\n",
       "        [ 0.,  1.,  0.,  0.,  0., -1.,  0.],\n",
       "        [ 0.,  1.,  0.,  0.,  0., -1.,  0.],\n",
       "        [ 0.,  1.,  0.,  0.,  0., -1.,  0.],\n",
       "        [ 0.,  1.,  0.,  0.,  0., -1.,  0.],\n",
       "        [ 0.,  1.,  0.,  0.,  0., -1.,  0.]])"
      ]
     },
     "execution_count": 7,
     "metadata": {},
     "output_type": "execute_result"
    }
   ],
   "source": [
    "Y = corr2d(X, K)\n",
    "Y"
   ]
  },
  {
   "cell_type": "markdown",
   "id": "604c205d",
   "metadata": {
    "slideshow": {
     "slide_type": "slide"
    }
   },
   "source": [
    "The kernel `K` only detects vertical edges"
   ]
  },
  {
   "cell_type": "code",
   "execution_count": 8,
   "id": "a0573fb8",
   "metadata": {
    "execution": {
     "iopub.execute_input": "2022-11-12T20:48:08.875040Z",
     "iopub.status.busy": "2022-11-12T20:48:08.874394Z",
     "iopub.status.idle": "2022-11-12T20:48:08.882954Z",
     "shell.execute_reply": "2022-11-12T20:48:08.881906Z"
    },
    "origin_pos": 19,
    "tab": [
     "pytorch"
    ]
   },
   "outputs": [
    {
     "data": {
      "text/plain": [
       "tensor([[0., 0., 0., 0., 0.],\n",
       "        [0., 0., 0., 0., 0.],\n",
       "        [0., 0., 0., 0., 0.],\n",
       "        [0., 0., 0., 0., 0.],\n",
       "        [0., 0., 0., 0., 0.],\n",
       "        [0., 0., 0., 0., 0.],\n",
       "        [0., 0., 0., 0., 0.],\n",
       "        [0., 0., 0., 0., 0.]])"
      ]
     },
     "execution_count": 8,
     "metadata": {},
     "output_type": "execute_result"
    }
   ],
   "source": [
    "corr2d(X.t(), K)"
   ]
  },
  {
   "cell_type": "markdown",
   "id": "7f6f3367",
   "metadata": {
    "slideshow": {
     "slide_type": "slide"
    }
   },
   "source": [
    "Learn the kernel that generated `Y` from `X`"
   ]
  },
  {
   "cell_type": "code",
   "execution_count": 9,
   "id": "7e2424a3",
   "metadata": {
    "execution": {
     "iopub.execute_input": "2022-11-12T20:48:08.886839Z",
     "iopub.status.busy": "2022-11-12T20:48:08.886273Z",
     "iopub.status.idle": "2022-11-12T20:48:08.973844Z",
     "shell.execute_reply": "2022-11-12T20:48:08.972614Z"
    },
    "origin_pos": 22,
    "tab": [
     "pytorch"
    ]
   },
   "outputs": [
    {
     "name": "stdout",
     "output_type": "stream",
     "text": [
      "epoch 2, loss 19.278\n",
      "epoch 4, loss 6.614\n",
      "epoch 6, loss 2.494\n",
      "epoch 8, loss 0.985\n",
      "epoch 10, loss 0.398\n"
     ]
    }
   ],
   "source": [
    "conv2d = nn.Conv2d(1,1, kernel_size=(1, 2), bias=False)\n",
    "\n",
    "X = X.reshape((1, 1, 6, 8))\n",
    "Y = Y.reshape((1, 1, 6, 7))\n",
    "lr = 3e-2\n",
    "\n",
    "for i in range(10):\n",
    "    Y_hat = conv2d(X)\n",
    "    l = (Y_hat - Y) ** 2\n",
    "    conv2d.zero_grad()\n",
    "    l.sum().backward()\n",
    "    conv2d.weight.data[:] -= lr * conv2d.weight.grad\n",
    "    if (i + 1) % 2 == 0:\n",
    "        print(f'epoch {i + 1}, loss {l.sum():.3f}')"
   ]
  },
  {
   "cell_type": "markdown",
   "id": "5e6efa3c",
   "metadata": {
    "slideshow": {
     "slide_type": "slide"
    }
   },
   "source": [
    "Take a look at the kernel tensor we learned"
   ]
  },
  {
   "cell_type": "code",
   "execution_count": 10,
   "id": "7cbdd153",
   "metadata": {
    "execution": {
     "iopub.execute_input": "2022-11-12T20:48:08.978401Z",
     "iopub.status.busy": "2022-11-12T20:48:08.977727Z",
     "iopub.status.idle": "2022-11-12T20:48:08.985107Z",
     "shell.execute_reply": "2022-11-12T20:48:08.984265Z"
    },
    "origin_pos": 26,
    "tab": [
     "pytorch"
    ]
   },
   "outputs": [
    {
     "data": {
      "text/plain": [
       "tensor([[ 1.0528, -0.9233]])"
      ]
     },
     "execution_count": 10,
     "metadata": {},
     "output_type": "execute_result"
    }
   ],
   "source": [
    "conv2d.weight.data.reshape((1, 2))"
   ]
  }
 ],
 "metadata": {
  "celltoolbar": "Slideshow",
  "language_info": {
   "name": "python"
  },
  "rise": {
   "autolaunch": true,
   "enable_chalkboard": true,
   "overlay": "<div class='my-top-right'><img height=80px src='http://d2l.ai/_static/logo-with-text.png'/></div><div class='my-top-left'></div>",
   "scroll": true
  }
 },
 "nbformat": 4,
 "nbformat_minor": 5
}