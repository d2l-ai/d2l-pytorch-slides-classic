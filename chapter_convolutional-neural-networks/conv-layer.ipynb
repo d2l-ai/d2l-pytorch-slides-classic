{
 "cells": [
  {
   "cell_type": "markdown",
   "id": "d925203a",
   "metadata": {
    "slideshow": {
     "slide_type": "-"
    }
   },
   "source": [
    "# Convolutions for Images\n",
    "\n",
    "Cross-correlation operation"
   ]
  },
  {
   "cell_type": "code",
   "execution_count": 2,
   "id": "b08695d8",
   "metadata": {
    "execution": {
     "iopub.execute_input": "2022-07-10T02:54:45.363466Z",
     "iopub.status.busy": "2022-07-10T02:54:45.362762Z",
     "iopub.status.idle": "2022-07-10T02:54:45.368797Z",
     "shell.execute_reply": "2022-07-10T02:54:45.367783Z"
    },
    "origin_pos": 3,
    "tab": [
     "pytorch"
    ]
   },
   "outputs": [],
   "source": [
    "import torch\n",
    "from torch import nn\n",
    "from d2l import torch as d2l\n",
    "\n",
    "def corr2d(X, K):  \n",
    "    \"\"\"Compute 2D cross-correlation.\"\"\"\n",
    "    h, w = K.shape\n",
    "    Y = torch.zeros((X.shape[0] - h + 1, X.shape[1] - w + 1))\n",
    "    for i in range(Y.shape[0]):\n",
    "        for j in range(Y.shape[1]):\n",
    "            Y[i, j] = (X[i:i + h, j:j + w] * K).sum()\n",
    "    return Y"
   ]
  },
  {
   "cell_type": "markdown",
   "id": "8880dc79",
   "metadata": {
    "slideshow": {
     "slide_type": "slide"
    }
   },
   "source": [
    "Validate the output of the above implementation"
   ]
  },
  {
   "cell_type": "code",
   "execution_count": 3,
   "id": "12a2f8d8",
   "metadata": {
    "execution": {
     "iopub.execute_input": "2022-07-10T02:54:45.372654Z",
     "iopub.status.busy": "2022-07-10T02:54:45.372224Z",
     "iopub.status.idle": "2022-07-10T02:54:45.403161Z",
     "shell.execute_reply": "2022-07-10T02:54:45.402084Z"
    },
    "origin_pos": 6,
    "tab": [
     "pytorch"
    ]
   },
   "outputs": [
    {
     "data": {
      "text/plain": [
       "tensor([[19., 25.],\n",
       "        [37., 43.]])"
      ]
     },
     "execution_count": 3,
     "metadata": {},
     "output_type": "execute_result"
    }
   ],
   "source": [
    "X = torch.tensor([[0.0, 1.0, 2.0], [3.0, 4.0, 5.0], [6.0, 7.0, 8.0]])\n",
    "K = torch.tensor([[0.0, 1.0], [2.0, 3.0]])\n",
    "corr2d(X, K)"
   ]
  },
  {
   "cell_type": "markdown",
   "id": "0282d2d5",
   "metadata": {
    "slideshow": {
     "slide_type": "slide"
    }
   },
   "source": [
    "Implement a two-dimensional convolutional layer"
   ]
  },
  {
   "cell_type": "code",
   "execution_count": 4,
   "id": "90077b0f",
   "metadata": {
    "execution": {
     "iopub.execute_input": "2022-07-10T02:54:45.407240Z",
     "iopub.status.busy": "2022-07-10T02:54:45.406746Z",
     "iopub.status.idle": "2022-07-10T02:54:45.412007Z",
     "shell.execute_reply": "2022-07-10T02:54:45.410980Z"
    },
    "origin_pos": 9,
    "tab": [
     "pytorch"
    ]
   },
   "outputs": [],
   "source": [
    "class Conv2D(nn.Module):\n",
    "    def __init__(self, kernel_size):\n",
    "        super().__init__()\n",
    "        self.weight = nn.Parameter(torch.rand(kernel_size))\n",
    "        self.bias = nn.Parameter(torch.zeros(1))\n",
    "\n",
    "    def forward(self, x):\n",
    "        return corr2d(x, self.weight) + self.bias"
   ]
  },
  {
   "cell_type": "markdown",
   "id": "84ea5587",
   "metadata": {
    "slideshow": {
     "slide_type": "slide"
    }
   },
   "source": [
    "A simple application of a convolutional layer:\n",
    "detecting the edge of an object in an image"
   ]
  },
  {
   "cell_type": "code",
   "execution_count": 5,
   "id": "3debf468",
   "metadata": {
    "execution": {
     "iopub.execute_input": "2022-07-10T02:54:45.415907Z",
     "iopub.status.busy": "2022-07-10T02:54:45.415443Z",
     "iopub.status.idle": "2022-07-10T02:54:45.423147Z",
     "shell.execute_reply": "2022-07-10T02:54:45.422115Z"
    },
    "origin_pos": 12,
    "tab": [
     "pytorch"
    ]
   },
   "outputs": [
    {
     "data": {
      "text/plain": [
       "tensor([[1., 1., 0., 0., 0., 0., 1., 1.],\n",
       "        [1., 1., 0., 0., 0., 0., 1., 1.],\n",
       "        [1., 1., 0., 0., 0., 0., 1., 1.],\n",
       "        [1., 1., 0., 0., 0., 0., 1., 1.],\n",
       "        [1., 1., 0., 0., 0., 0., 1., 1.],\n",
       "        [1., 1., 0., 0., 0., 0., 1., 1.]])"
      ]
     },
     "execution_count": 5,
     "metadata": {},
     "output_type": "execute_result"
    }
   ],
   "source": [
    "X = torch.ones((6, 8))\n",
    "X[:, 2:6] = 0\n",
    "X"
   ]
  },
  {
   "cell_type": "code",
   "execution_count": 6,
   "id": "c725cda4",
   "metadata": {
    "execution": {
     "iopub.execute_input": "2022-07-10T02:54:45.426948Z",
     "iopub.status.busy": "2022-07-10T02:54:45.426499Z",
     "iopub.status.idle": "2022-07-10T02:54:45.430862Z",
     "shell.execute_reply": "2022-07-10T02:54:45.429902Z"
    },
    "origin_pos": 15,
    "tab": [
     "pytorch"
    ]
   },
   "outputs": [],
   "source": [
    "K = torch.tensor([[1.0, -1.0]])"
   ]
  },
  {
   "cell_type": "markdown",
   "id": "7bd08da1",
   "metadata": {
    "slideshow": {
     "slide_type": "slide"
    }
   },
   "source": [
    "We detect 1 for the edge from white to black\n",
    "and -1 for the edge from black to white"
   ]
  },
  {
   "cell_type": "code",
   "execution_count": 7,
   "id": "e9d146e6",
   "metadata": {
    "execution": {
     "iopub.execute_input": "2022-07-10T02:54:45.434955Z",
     "iopub.status.busy": "2022-07-10T02:54:45.434255Z",
     "iopub.status.idle": "2022-07-10T02:54:45.442380Z",
     "shell.execute_reply": "2022-07-10T02:54:45.441513Z"
    },
    "origin_pos": 17,
    "tab": [
     "pytorch"
    ]
   },
   "outputs": [
    {
     "data": {
      "text/plain": [
       "tensor([[ 0.,  1.,  0.,  0.,  0., -1.,  0.],\n",
       "        [ 0.,  1.,  0.,  0.,  0., -1.,  0.],\n",
       "        [ 0.,  1.,  0.,  0.,  0., -1.,  0.],\n",
       "        [ 0.,  1.,  0.,  0.,  0., -1.,  0.],\n",
       "        [ 0.,  1.,  0.,  0.,  0., -1.,  0.],\n",
       "        [ 0.,  1.,  0.,  0.,  0., -1.,  0.]])"
      ]
     },
     "execution_count": 7,
     "metadata": {},
     "output_type": "execute_result"
    }
   ],
   "source": [
    "Y = corr2d(X, K)\n",
    "Y"
   ]
  },
  {
   "cell_type": "markdown",
   "id": "82c48676",
   "metadata": {
    "slideshow": {
     "slide_type": "slide"
    }
   },
   "source": [
    "The kernel `K` only detects vertical edges"
   ]
  },
  {
   "cell_type": "code",
   "execution_count": 8,
   "id": "2055b1e2",
   "metadata": {
    "execution": {
     "iopub.execute_input": "2022-07-10T02:54:45.446514Z",
     "iopub.status.busy": "2022-07-10T02:54:45.445776Z",
     "iopub.status.idle": "2022-07-10T02:54:45.454144Z",
     "shell.execute_reply": "2022-07-10T02:54:45.453210Z"
    },
    "origin_pos": 19,
    "tab": [
     "pytorch"
    ]
   },
   "outputs": [
    {
     "data": {
      "text/plain": [
       "tensor([[0., 0., 0., 0., 0.],\n",
       "        [0., 0., 0., 0., 0.],\n",
       "        [0., 0., 0., 0., 0.],\n",
       "        [0., 0., 0., 0., 0.],\n",
       "        [0., 0., 0., 0., 0.],\n",
       "        [0., 0., 0., 0., 0.],\n",
       "        [0., 0., 0., 0., 0.],\n",
       "        [0., 0., 0., 0., 0.]])"
      ]
     },
     "execution_count": 8,
     "metadata": {},
     "output_type": "execute_result"
    }
   ],
   "source": [
    "corr2d(X.t(), K)"
   ]
  },
  {
   "cell_type": "markdown",
   "id": "ed767284",
   "metadata": {
    "slideshow": {
     "slide_type": "slide"
    }
   },
   "source": [
    "Learn the kernel that generated `Y` from `X`"
   ]
  },
  {
   "cell_type": "code",
   "execution_count": 9,
   "id": "fd3f89c2",
   "metadata": {
    "execution": {
     "iopub.execute_input": "2022-07-10T02:54:45.457814Z",
     "iopub.status.busy": "2022-07-10T02:54:45.457526Z",
     "iopub.status.idle": "2022-07-10T02:54:45.472505Z",
     "shell.execute_reply": "2022-07-10T02:54:45.471573Z"
    },
    "origin_pos": 22,
    "tab": [
     "pytorch"
    ]
   },
   "outputs": [
    {
     "name": "stdout",
     "output_type": "stream",
     "text": [
      "epoch 2, loss 10.265\n",
      "epoch 4, loss 2.159\n",
      "epoch 6, loss 0.541\n",
      "epoch 8, loss 0.164\n",
      "epoch 10, loss 0.058\n"
     ]
    }
   ],
   "source": [
    "conv2d = nn.Conv2d(1,1, kernel_size=(1, 2), bias=False)\n",
    "\n",
    "X = X.reshape((1, 1, 6, 8))\n",
    "Y = Y.reshape((1, 1, 6, 7))\n",
    "lr = 3e-2\n",
    "\n",
    "for i in range(10):\n",
    "    Y_hat = conv2d(X)\n",
    "    l = (Y_hat - Y) ** 2\n",
    "    conv2d.zero_grad()\n",
    "    l.sum().backward()\n",
    "    conv2d.weight.data[:] -= lr * conv2d.weight.grad\n",
    "    if (i + 1) % 2 == 0:\n",
    "        print(f'epoch {i + 1}, loss {l.sum():.3f}')"
   ]
  },
  {
   "cell_type": "markdown",
   "id": "fc5ebb37",
   "metadata": {
    "slideshow": {
     "slide_type": "slide"
    }
   },
   "source": [
    "Take a look at the kernel tensor we learned"
   ]
  },
  {
   "cell_type": "code",
   "execution_count": 10,
   "id": "f32eefde",
   "metadata": {
    "execution": {
     "iopub.execute_input": "2022-07-10T02:54:45.475978Z",
     "iopub.status.busy": "2022-07-10T02:54:45.475404Z",
     "iopub.status.idle": "2022-07-10T02:54:45.481208Z",
     "shell.execute_reply": "2022-07-10T02:54:45.480419Z"
    },
    "origin_pos": 26,
    "tab": [
     "pytorch"
    ]
   },
   "outputs": [
    {
     "data": {
      "text/plain": [
       "tensor([[ 1.0082, -0.9616]])"
      ]
     },
     "execution_count": 10,
     "metadata": {},
     "output_type": "execute_result"
    }
   ],
   "source": [
    "conv2d.weight.data.reshape((1, 2))"
   ]
  }
 ],
 "metadata": {
  "celltoolbar": "Slideshow",
  "language_info": {
   "name": "python"
  },
  "rise": {
   "autolaunch": true,
   "enable_chalkboard": true,
   "overlay": "<div class='my-top-right'><img height=80px src='http://d2l.ai/_static/logo-with-text.png'/></div><div class='my-top-left'></div>",
   "scroll": true
  }
 },
 "nbformat": 4,
 "nbformat_minor": 5
}