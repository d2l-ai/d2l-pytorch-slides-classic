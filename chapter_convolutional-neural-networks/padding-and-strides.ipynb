{
 "cells": [
  {
   "cell_type": "markdown",
   "id": "ddfc34ca",
   "metadata": {
    "slideshow": {
     "slide_type": "-"
    }
   },
   "source": [
    "# Padding and Stride\n",
    "\n",
    "Apply 1 pixel of padding on all sides"
   ]
  },
  {
   "cell_type": "code",
   "execution_count": 1,
   "id": "bf0fee95",
   "metadata": {
    "execution": {
     "iopub.execute_input": "2022-11-12T20:48:41.285695Z",
     "iopub.status.busy": "2022-11-12T20:48:41.285179Z",
     "iopub.status.idle": "2022-11-12T20:48:42.156554Z",
     "shell.execute_reply": "2022-11-12T20:48:42.155759Z"
    },
    "origin_pos": 2,
    "tab": [
     "pytorch"
    ]
   },
   "outputs": [
    {
     "data": {
      "text/plain": [
       "torch.Size([8, 8])"
      ]
     },
     "execution_count": 1,
     "metadata": {},
     "output_type": "execute_result"
    }
   ],
   "source": [
    "import torch\n",
    "from torch import nn\n",
    "\n",
    "\n",
    "def comp_conv2d(conv2d, X):\n",
    "    X = X.reshape((1, 1) + X.shape)\n",
    "    Y = conv2d(X)\n",
    "    return Y.reshape(Y.shape[2:])\n",
    "conv2d = nn.Conv2d(1, 1, kernel_size=3, padding=1)\n",
    "X = torch.rand(size=(8, 8))\n",
    "comp_conv2d(conv2d, X).shape"
   ]
  },
  {
   "cell_type": "markdown",
   "id": "90521b1a",
   "metadata": {
    "slideshow": {
     "slide_type": "slide"
    }
   },
   "source": [
    "Setting different padding numbers for height and width"
   ]
  },
  {
   "cell_type": "code",
   "execution_count": 2,
   "id": "27dc066f",
   "metadata": {
    "execution": {
     "iopub.execute_input": "2022-11-12T20:48:42.161045Z",
     "iopub.status.busy": "2022-11-12T20:48:42.160542Z",
     "iopub.status.idle": "2022-11-12T20:48:42.167544Z",
     "shell.execute_reply": "2022-11-12T20:48:42.166668Z"
    },
    "origin_pos": 6,
    "tab": [
     "pytorch"
    ]
   },
   "outputs": [
    {
     "data": {
      "text/plain": [
       "torch.Size([8, 8])"
      ]
     },
     "execution_count": 2,
     "metadata": {},
     "output_type": "execute_result"
    }
   ],
   "source": [
    "conv2d = nn.Conv2d(1, 1, kernel_size=(5, 3), padding=(2, 1))\n",
    "comp_conv2d(conv2d, X).shape"
   ]
  },
  {
   "cell_type": "markdown",
   "id": "d49b5056",
   "metadata": {
    "slideshow": {
     "slide_type": "slide"
    }
   },
   "source": [
    "Set the strides on both the height and width to 2"
   ]
  },
  {
   "cell_type": "code",
   "execution_count": 3,
   "id": "0ccda481",
   "metadata": {
    "execution": {
     "iopub.execute_input": "2022-11-12T20:48:42.171135Z",
     "iopub.status.busy": "2022-11-12T20:48:42.170522Z",
     "iopub.status.idle": "2022-11-12T20:48:42.177095Z",
     "shell.execute_reply": "2022-11-12T20:48:42.176190Z"
    },
    "origin_pos": 10,
    "tab": [
     "pytorch"
    ]
   },
   "outputs": [
    {
     "data": {
      "text/plain": [
       "torch.Size([4, 4])"
      ]
     },
     "execution_count": 3,
     "metadata": {},
     "output_type": "execute_result"
    }
   ],
   "source": [
    "conv2d = nn.Conv2d(1, 1, kernel_size=3, padding=1, stride=2)\n",
    "comp_conv2d(conv2d, X).shape"
   ]
  },
  {
   "cell_type": "markdown",
   "id": "25c2f13e",
   "metadata": {
    "slideshow": {
     "slide_type": "-"
    }
   },
   "source": [
    "A slightly more complicated example"
   ]
  },
  {
   "cell_type": "code",
   "execution_count": 4,
   "id": "997833b2",
   "metadata": {
    "execution": {
     "iopub.execute_input": "2022-11-12T20:48:42.180989Z",
     "iopub.status.busy": "2022-11-12T20:48:42.180433Z",
     "iopub.status.idle": "2022-11-12T20:48:42.188320Z",
     "shell.execute_reply": "2022-11-12T20:48:42.187466Z"
    },
    "origin_pos": 14,
    "tab": [
     "pytorch"
    ]
   },
   "outputs": [
    {
     "data": {
      "text/plain": [
       "torch.Size([2, 2])"
      ]
     },
     "execution_count": 4,
     "metadata": {},
     "output_type": "execute_result"
    }
   ],
   "source": [
    "conv2d = nn.Conv2d(1, 1, kernel_size=(3, 5), padding=(0, 1), stride=(3, 4))\n",
    "comp_conv2d(conv2d, X).shape"
   ]
  }
 ],
 "metadata": {
  "celltoolbar": "Slideshow",
  "language_info": {
   "name": "python"
  },
  "rise": {
   "autolaunch": true,
   "enable_chalkboard": true,
   "overlay": "<div class='my-top-right'><img height=80px src='http://d2l.ai/_static/logo-with-text.png'/></div><div class='my-top-left'></div>",
   "scroll": true
  }
 },
 "nbformat": 4,
 "nbformat_minor": 5
}