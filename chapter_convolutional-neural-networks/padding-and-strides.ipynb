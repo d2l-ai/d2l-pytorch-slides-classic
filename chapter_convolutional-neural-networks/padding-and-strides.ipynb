{
 "cells": [
  {
   "cell_type": "markdown",
   "id": "30406178",
   "metadata": {
    "slideshow": {
     "slide_type": "-"
    }
   },
   "source": [
    "# Padding and Stride\n",
    "\n",
    "Apply 1 pixel of padding on all sides"
   ]
  },
  {
   "cell_type": "code",
   "execution_count": 1,
   "id": "5984b13f",
   "metadata": {
    "execution": {
     "iopub.execute_input": "2022-07-10T02:53:43.489047Z",
     "iopub.status.busy": "2022-07-10T02:53:43.488419Z",
     "iopub.status.idle": "2022-07-10T02:53:44.385967Z",
     "shell.execute_reply": "2022-07-10T02:53:44.385043Z"
    },
    "origin_pos": 2,
    "tab": [
     "pytorch"
    ]
   },
   "outputs": [
    {
     "data": {
      "text/plain": [
       "torch.Size([8, 8])"
      ]
     },
     "execution_count": 1,
     "metadata": {},
     "output_type": "execute_result"
    }
   ],
   "source": [
    "import torch\n",
    "from torch import nn\n",
    "\n",
    "\n",
    "def comp_conv2d(conv2d, X):\n",
    "    X = X.reshape((1, 1) + X.shape)\n",
    "    Y = conv2d(X)\n",
    "    return Y.reshape(Y.shape[2:])\n",
    "conv2d = nn.Conv2d(1, 1, kernel_size=3, padding=1)\n",
    "X = torch.rand(size=(8, 8))\n",
    "comp_conv2d(conv2d, X).shape"
   ]
  },
  {
   "cell_type": "markdown",
   "id": "1f59080e",
   "metadata": {
    "slideshow": {
     "slide_type": "slide"
    }
   },
   "source": [
    "Setting different padding numbers for height and width"
   ]
  },
  {
   "cell_type": "code",
   "execution_count": 2,
   "id": "02cc916d",
   "metadata": {
    "execution": {
     "iopub.execute_input": "2022-07-10T02:53:44.389988Z",
     "iopub.status.busy": "2022-07-10T02:53:44.389360Z",
     "iopub.status.idle": "2022-07-10T02:53:44.397586Z",
     "shell.execute_reply": "2022-07-10T02:53:44.396508Z"
    },
    "origin_pos": 6,
    "tab": [
     "pytorch"
    ]
   },
   "outputs": [
    {
     "data": {
      "text/plain": [
       "torch.Size([8, 8])"
      ]
     },
     "execution_count": 2,
     "metadata": {},
     "output_type": "execute_result"
    }
   ],
   "source": [
    "conv2d = nn.Conv2d(1, 1, kernel_size=(5, 3), padding=(2, 1))\n",
    "comp_conv2d(conv2d, X).shape"
   ]
  },
  {
   "cell_type": "markdown",
   "id": "c84ac605",
   "metadata": {
    "slideshow": {
     "slide_type": "slide"
    }
   },
   "source": [
    "Set the strides on both the height and width to 2"
   ]
  },
  {
   "cell_type": "code",
   "execution_count": 3,
   "id": "4d1508dc",
   "metadata": {
    "execution": {
     "iopub.execute_input": "2022-07-10T02:53:44.401085Z",
     "iopub.status.busy": "2022-07-10T02:53:44.400619Z",
     "iopub.status.idle": "2022-07-10T02:53:44.407401Z",
     "shell.execute_reply": "2022-07-10T02:53:44.406423Z"
    },
    "origin_pos": 10,
    "tab": [
     "pytorch"
    ]
   },
   "outputs": [
    {
     "data": {
      "text/plain": [
       "torch.Size([4, 4])"
      ]
     },
     "execution_count": 3,
     "metadata": {},
     "output_type": "execute_result"
    }
   ],
   "source": [
    "conv2d = nn.Conv2d(1, 1, kernel_size=3, padding=1, stride=2)\n",
    "comp_conv2d(conv2d, X).shape"
   ]
  },
  {
   "cell_type": "markdown",
   "id": "1d172362",
   "metadata": {
    "slideshow": {
     "slide_type": "-"
    }
   },
   "source": [
    "A slightly more complicated example"
   ]
  },
  {
   "cell_type": "code",
   "execution_count": 4,
   "id": "883ad600",
   "metadata": {
    "execution": {
     "iopub.execute_input": "2022-07-10T02:53:44.411576Z",
     "iopub.status.busy": "2022-07-10T02:53:44.410935Z",
     "iopub.status.idle": "2022-07-10T02:53:44.417729Z",
     "shell.execute_reply": "2022-07-10T02:53:44.416943Z"
    },
    "origin_pos": 14,
    "tab": [
     "pytorch"
    ]
   },
   "outputs": [
    {
     "data": {
      "text/plain": [
       "torch.Size([2, 2])"
      ]
     },
     "execution_count": 4,
     "metadata": {},
     "output_type": "execute_result"
    }
   ],
   "source": [
    "conv2d = nn.Conv2d(1, 1, kernel_size=(3, 5), padding=(0, 1), stride=(3, 4))\n",
    "comp_conv2d(conv2d, X).shape"
   ]
  }
 ],
 "metadata": {
  "celltoolbar": "Slideshow",
  "language_info": {
   "name": "python"
  },
  "rise": {
   "autolaunch": true,
   "enable_chalkboard": true,
   "overlay": "<div class='my-top-right'><img height=80px src='http://d2l.ai/_static/logo-with-text.png'/></div><div class='my-top-left'></div>",
   "scroll": true
  }
 },
 "nbformat": 4,
 "nbformat_minor": 5
}