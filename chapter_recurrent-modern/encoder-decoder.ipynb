{
 "cells": [
  {
   "cell_type": "markdown",
   "id": "60b806f6",
   "metadata": {
    "slideshow": {
     "slide_type": "-"
    }
   },
   "source": [
    "# Encoder-Decoder Architecture\n",
    "\n",
    "Encoder"
   ]
  },
  {
   "cell_type": "code",
   "execution_count": 1,
   "id": "7d617376",
   "metadata": {
    "execution": {
     "iopub.execute_input": "2022-11-12T20:41:53.629992Z",
     "iopub.status.busy": "2022-11-12T20:41:53.629549Z",
     "iopub.status.idle": "2022-11-12T20:41:54.501630Z",
     "shell.execute_reply": "2022-11-12T20:41:54.500764Z"
    },
    "origin_pos": 2,
    "tab": [
     "pytorch"
    ]
   },
   "outputs": [],
   "source": [
    "from torch import nn\n",
    "\n",
    "\n",
    "class Encoder(nn.Module):\n",
    "    \"\"\"The base encoder interface for the encoder-decoder architecture.\"\"\"\n",
    "    def __init__(self, **kwargs):\n",
    "        super(Encoder, self).__init__(**kwargs)\n",
    "\n",
    "    def forward(self, X, *args):\n",
    "        raise NotImplementedError"
   ]
  },
  {
   "cell_type": "markdown",
   "id": "e9fe4abd",
   "metadata": {
    "slideshow": {
     "slide_type": "slide"
    }
   },
   "source": [
    "Decoder"
   ]
  },
  {
   "cell_type": "code",
   "execution_count": 2,
   "id": "5465db61",
   "metadata": {
    "execution": {
     "iopub.execute_input": "2022-11-12T20:41:54.506002Z",
     "iopub.status.busy": "2022-11-12T20:41:54.505446Z",
     "iopub.status.idle": "2022-11-12T20:41:54.510484Z",
     "shell.execute_reply": "2022-11-12T20:41:54.509702Z"
    },
    "origin_pos": 6,
    "tab": [
     "pytorch"
    ]
   },
   "outputs": [],
   "source": [
    "class Decoder(nn.Module):\n",
    "    \"\"\"The base decoder interface for the encoder-decoder architecture.\"\"\"\n",
    "    def __init__(self, **kwargs):\n",
    "        super(Decoder, self).__init__(**kwargs)\n",
    "\n",
    "    def init_state(self, enc_outputs, *args):\n",
    "        raise NotImplementedError\n",
    "\n",
    "    def forward(self, X, state):\n",
    "        raise NotImplementedError"
   ]
  },
  {
   "cell_type": "markdown",
   "id": "c7695555",
   "metadata": {
    "slideshow": {
     "slide_type": "slide"
    }
   },
   "source": [
    "Putting the Encoder and Decoder Together"
   ]
  },
  {
   "cell_type": "code",
   "execution_count": 3,
   "id": "66563919",
   "metadata": {
    "execution": {
     "iopub.execute_input": "2022-11-12T20:41:54.513923Z",
     "iopub.status.busy": "2022-11-12T20:41:54.513475Z",
     "iopub.status.idle": "2022-11-12T20:41:54.518868Z",
     "shell.execute_reply": "2022-11-12T20:41:54.517937Z"
    },
    "origin_pos": 10,
    "tab": [
     "pytorch"
    ]
   },
   "outputs": [],
   "source": [
    "class EncoderDecoder(nn.Module):\n",
    "    \"\"\"The base class for the encoder-decoder architecture.\"\"\"\n",
    "    def __init__(self, encoder, decoder, **kwargs):\n",
    "        super(EncoderDecoder, self).__init__(**kwargs)\n",
    "        self.encoder = encoder\n",
    "        self.decoder = decoder\n",
    "\n",
    "    def forward(self, enc_X, dec_X, *args):\n",
    "        enc_outputs = self.encoder(enc_X, *args)\n",
    "        dec_state = self.decoder.init_state(enc_outputs, *args)\n",
    "        return self.decoder(dec_X, dec_state)"
   ]
  }
 ],
 "metadata": {
  "celltoolbar": "Slideshow",
  "language_info": {
   "name": "python"
  },
  "rise": {
   "autolaunch": true,
   "enable_chalkboard": true,
   "overlay": "<div class='my-top-right'><img height=80px src='http://d2l.ai/_static/logo-with-text.png'/></div><div class='my-top-left'></div>",
   "scroll": true
  }
 },
 "nbformat": 4,
 "nbformat_minor": 5
}