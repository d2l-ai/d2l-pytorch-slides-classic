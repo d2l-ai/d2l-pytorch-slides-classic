{
 "cells": [
  {
   "cell_type": "markdown",
   "id": "3d808b06",
   "metadata": {
    "slideshow": {
     "slide_type": "-"
    }
   },
   "source": [
    "# Data Preprocessing\n",
    "\n",
    "Creating an artificial dataset that is stored in a\n",
    "csv (comma-separated values) file"
   ]
  },
  {
   "cell_type": "code",
   "execution_count": 1,
   "id": "5938bfd1",
   "metadata": {
    "execution": {
     "iopub.execute_input": "2022-11-12T20:48:20.434019Z",
     "iopub.status.busy": "2022-11-12T20:48:20.433632Z",
     "iopub.status.idle": "2022-11-12T20:48:20.445560Z",
     "shell.execute_reply": "2022-11-12T20:48:20.444675Z"
    },
    "origin_pos": 1,
    "tab": [
     "pytorch"
    ]
   },
   "outputs": [],
   "source": [
    "import os\n",
    "\n",
    "os.makedirs(os.path.join('..', 'data'), exist_ok=True)\n",
    "data_file = os.path.join('..', 'data', 'house_tiny.csv')\n",
    "with open(data_file, 'w') as f:\n",
    "    f.write('NumRooms,Alley,Price\\n')\n",
    "    f.write('NA,Pave,127500\\n')\n",
    "    f.write('2,NA,106000\\n')\n",
    "    f.write('4,NA,178100\\n')\n",
    "    f.write('NA,NA,140000\\n')"
   ]
  },
  {
   "cell_type": "markdown",
   "id": "30f7aef8",
   "metadata": {
    "slideshow": {
     "slide_type": "slide"
    }
   },
   "source": [
    "Load the raw dataset from the created csv file"
   ]
  },
  {
   "cell_type": "code",
   "execution_count": 2,
   "id": "81555196",
   "metadata": {
    "execution": {
     "iopub.execute_input": "2022-11-12T20:48:20.450575Z",
     "iopub.status.busy": "2022-11-12T20:48:20.450229Z",
     "iopub.status.idle": "2022-11-12T20:48:20.966561Z",
     "shell.execute_reply": "2022-11-12T20:48:20.965412Z"
    },
    "origin_pos": 3,
    "tab": [
     "pytorch"
    ]
   },
   "outputs": [
    {
     "name": "stdout",
     "output_type": "stream",
     "text": [
      "   NumRooms Alley   Price\n",
      "0       NaN  Pave  127500\n",
      "1       2.0   NaN  106000\n",
      "2       4.0   NaN  178100\n",
      "3       NaN   NaN  140000\n"
     ]
    }
   ],
   "source": [
    "import pandas as pd\n",
    "\n",
    "data = pd.read_csv(data_file)\n",
    "print(data)"
   ]
  },
  {
   "cell_type": "markdown",
   "id": "93af220d",
   "metadata": {
    "slideshow": {
     "slide_type": "slide"
    }
   },
   "source": [
    "Replace the \"NaN\" entries with the mean value of the same column"
   ]
  },
  {
   "cell_type": "code",
   "execution_count": 3,
   "id": "31efc627",
   "metadata": {
    "execution": {
     "iopub.execute_input": "2022-11-12T20:48:20.971413Z",
     "iopub.status.busy": "2022-11-12T20:48:20.970934Z",
     "iopub.status.idle": "2022-11-12T20:48:20.982472Z",
     "shell.execute_reply": "2022-11-12T20:48:20.981370Z"
    },
    "origin_pos": 5,
    "tab": [
     "pytorch"
    ]
   },
   "outputs": [
    {
     "name": "stdout",
     "output_type": "stream",
     "text": [
      "   NumRooms Alley\n",
      "0       3.0  Pave\n",
      "1       2.0   NaN\n",
      "2       4.0   NaN\n",
      "3       3.0   NaN\n"
     ]
    }
   ],
   "source": [
    "inputs, outputs = data.iloc[:, 0:2], data.iloc[:, 2]\n",
    "inputs = inputs.fillna(inputs.mean())\n",
    "print(inputs)"
   ]
  },
  {
   "cell_type": "markdown",
   "id": "fba5a8bd",
   "metadata": {
    "slideshow": {
     "slide_type": "slide"
    }
   },
   "source": [
    "For categorical or discrete values in `inputs`, we consider \"NaN\" as a category"
   ]
  },
  {
   "cell_type": "code",
   "execution_count": 4,
   "id": "80631813",
   "metadata": {
    "execution": {
     "iopub.execute_input": "2022-11-12T20:48:20.987390Z",
     "iopub.status.busy": "2022-11-12T20:48:20.986383Z",
     "iopub.status.idle": "2022-11-12T20:48:21.001370Z",
     "shell.execute_reply": "2022-11-12T20:48:21.000159Z"
    },
    "origin_pos": 7,
    "tab": [
     "pytorch"
    ]
   },
   "outputs": [
    {
     "name": "stdout",
     "output_type": "stream",
     "text": [
      "   NumRooms  Alley_Pave  Alley_nan\n",
      "0       3.0           1          0\n",
      "1       2.0           0          1\n",
      "2       4.0           0          1\n",
      "3       3.0           0          1\n"
     ]
    }
   ],
   "source": [
    "inputs = pd.get_dummies(inputs, dummy_na=True)\n",
    "print(inputs)"
   ]
  },
  {
   "cell_type": "markdown",
   "id": "19c4da96",
   "metadata": {
    "slideshow": {
     "slide_type": "slide"
    }
   },
   "source": [
    "All the entries in `inputs` and `outputs` are numerical, they can be converted to the tensor format"
   ]
  },
  {
   "cell_type": "code",
   "execution_count": 5,
   "id": "b3fb23f2",
   "metadata": {
    "execution": {
     "iopub.execute_input": "2022-11-12T20:48:21.006590Z",
     "iopub.status.busy": "2022-11-12T20:48:21.005896Z",
     "iopub.status.idle": "2022-11-12T20:48:21.940870Z",
     "shell.execute_reply": "2022-11-12T20:48:21.939665Z"
    },
    "origin_pos": 10,
    "tab": [
     "pytorch"
    ]
   },
   "outputs": [
    {
     "data": {
      "text/plain": [
       "(tensor([[3., 1., 0.],\n",
       "         [2., 0., 1.],\n",
       "         [4., 0., 1.],\n",
       "         [3., 0., 1.]], dtype=torch.float64),\n",
       " tensor([127500, 106000, 178100, 140000]))"
      ]
     },
     "execution_count": 5,
     "metadata": {},
     "output_type": "execute_result"
    }
   ],
   "source": [
    "import torch\n",
    "\n",
    "X, y = torch.tensor(inputs.values), torch.tensor(outputs.values)\n",
    "X, y"
   ]
  }
 ],
 "metadata": {
  "celltoolbar": "Slideshow",
  "language_info": {
   "name": "python"
  },
  "rise": {
   "autolaunch": true,
   "enable_chalkboard": true,
   "overlay": "<div class='my-top-right'><img height=80px src='http://d2l.ai/_static/logo-with-text.png'/></div><div class='my-top-left'></div>",
   "scroll": true
  }
 },
 "nbformat": 4,
 "nbformat_minor": 5
}