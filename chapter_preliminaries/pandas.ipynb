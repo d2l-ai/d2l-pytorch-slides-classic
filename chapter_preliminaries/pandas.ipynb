{
 "cells": [
  {
   "cell_type": "markdown",
   "id": "0c38d90b",
   "metadata": {
    "slideshow": {
     "slide_type": "-"
    }
   },
   "source": [
    "# Data Preprocessing\n",
    "\n",
    "Creating an artificial dataset that is stored in a\n",
    "csv (comma-separated values) file"
   ]
  },
  {
   "cell_type": "code",
   "execution_count": 1,
   "id": "bfa5d7eb",
   "metadata": {
    "execution": {
     "iopub.execute_input": "2022-07-10T03:06:13.044023Z",
     "iopub.status.busy": "2022-07-10T03:06:13.043402Z",
     "iopub.status.idle": "2022-07-10T03:06:13.052972Z",
     "shell.execute_reply": "2022-07-10T03:06:13.052229Z"
    },
    "origin_pos": 1,
    "tab": [
     "pytorch"
    ]
   },
   "outputs": [],
   "source": [
    "import os\n",
    "\n",
    "os.makedirs(os.path.join('..', 'data'), exist_ok=True)\n",
    "data_file = os.path.join('..', 'data', 'house_tiny.csv')\n",
    "with open(data_file, 'w') as f:\n",
    "    f.write('NumRooms,Alley,Price\\n')\n",
    "    f.write('NA,Pave,127500\\n')\n",
    "    f.write('2,NA,106000\\n')\n",
    "    f.write('4,NA,178100\\n')\n",
    "    f.write('NA,NA,140000\\n')"
   ]
  },
  {
   "cell_type": "markdown",
   "id": "c52d4a79",
   "metadata": {
    "slideshow": {
     "slide_type": "slide"
    }
   },
   "source": [
    "Load the raw dataset from the created csv file"
   ]
  },
  {
   "cell_type": "code",
   "execution_count": 2,
   "id": "b93094da",
   "metadata": {
    "execution": {
     "iopub.execute_input": "2022-07-10T03:06:13.085006Z",
     "iopub.status.busy": "2022-07-10T03:06:13.084451Z",
     "iopub.status.idle": "2022-07-10T03:06:13.505573Z",
     "shell.execute_reply": "2022-07-10T03:06:13.504465Z"
    },
    "origin_pos": 3,
    "tab": [
     "pytorch"
    ]
   },
   "outputs": [
    {
     "name": "stdout",
     "output_type": "stream",
     "text": [
      "   NumRooms Alley   Price\n",
      "0       NaN  Pave  127500\n",
      "1       2.0   NaN  106000\n",
      "2       4.0   NaN  178100\n",
      "3       NaN   NaN  140000\n"
     ]
    }
   ],
   "source": [
    "import pandas as pd\n",
    "\n",
    "data = pd.read_csv(data_file)\n",
    "print(data)"
   ]
  },
  {
   "cell_type": "markdown",
   "id": "6585580b",
   "metadata": {
    "slideshow": {
     "slide_type": "slide"
    }
   },
   "source": [
    "Replace the \"NaN\" entries with the mean value of the same column"
   ]
  },
  {
   "cell_type": "code",
   "execution_count": 3,
   "id": "5a89e4c5",
   "metadata": {
    "execution": {
     "iopub.execute_input": "2022-07-10T03:06:13.509908Z",
     "iopub.status.busy": "2022-07-10T03:06:13.509337Z",
     "iopub.status.idle": "2022-07-10T03:06:13.517888Z",
     "shell.execute_reply": "2022-07-10T03:06:13.516839Z"
    },
    "origin_pos": 5,
    "tab": [
     "pytorch"
    ]
   },
   "outputs": [
    {
     "name": "stdout",
     "output_type": "stream",
     "text": [
      "   NumRooms Alley\n",
      "0       3.0  Pave\n",
      "1       2.0   NaN\n",
      "2       4.0   NaN\n",
      "3       3.0   NaN\n"
     ]
    }
   ],
   "source": [
    "inputs, outputs = data.iloc[:, 0:2], data.iloc[:, 2]\n",
    "inputs = inputs.fillna(inputs.mean())\n",
    "print(inputs)"
   ]
  },
  {
   "cell_type": "markdown",
   "id": "dc5b162c",
   "metadata": {
    "slideshow": {
     "slide_type": "slide"
    }
   },
   "source": [
    "For categorical or discrete values in `inputs`, we consider \"NaN\" as a category"
   ]
  },
  {
   "cell_type": "code",
   "execution_count": 4,
   "id": "0e45214a",
   "metadata": {
    "execution": {
     "iopub.execute_input": "2022-07-10T03:06:13.521952Z",
     "iopub.status.busy": "2022-07-10T03:06:13.521417Z",
     "iopub.status.idle": "2022-07-10T03:06:13.532024Z",
     "shell.execute_reply": "2022-07-10T03:06:13.530950Z"
    },
    "origin_pos": 7,
    "tab": [
     "pytorch"
    ]
   },
   "outputs": [
    {
     "name": "stdout",
     "output_type": "stream",
     "text": [
      "   NumRooms  Alley_Pave  Alley_nan\n",
      "0       3.0           1          0\n",
      "1       2.0           0          1\n",
      "2       4.0           0          1\n",
      "3       3.0           0          1\n"
     ]
    }
   ],
   "source": [
    "inputs = pd.get_dummies(inputs, dummy_na=True)\n",
    "print(inputs)"
   ]
  },
  {
   "cell_type": "markdown",
   "id": "249b53bc",
   "metadata": {
    "slideshow": {
     "slide_type": "slide"
    }
   },
   "source": [
    "All the entries in `inputs` and `outputs` are numerical, they can be converted to the tensor format"
   ]
  },
  {
   "cell_type": "code",
   "execution_count": 5,
   "id": "4653ff4e",
   "metadata": {
    "execution": {
     "iopub.execute_input": "2022-07-10T03:06:13.535939Z",
     "iopub.status.busy": "2022-07-10T03:06:13.535658Z",
     "iopub.status.idle": "2022-07-10T03:06:14.256278Z",
     "shell.execute_reply": "2022-07-10T03:06:14.255059Z"
    },
    "origin_pos": 10,
    "tab": [
     "pytorch"
    ]
   },
   "outputs": [
    {
     "data": {
      "text/plain": [
       "(tensor([[3., 1., 0.],\n",
       "         [2., 0., 1.],\n",
       "         [4., 0., 1.],\n",
       "         [3., 0., 1.]], dtype=torch.float64),\n",
       " tensor([127500, 106000, 178100, 140000]))"
      ]
     },
     "execution_count": 5,
     "metadata": {},
     "output_type": "execute_result"
    }
   ],
   "source": [
    "import torch\n",
    "\n",
    "X, y = torch.tensor(inputs.values), torch.tensor(outputs.values)\n",
    "X, y"
   ]
  }
 ],
 "metadata": {
  "celltoolbar": "Slideshow",
  "language_info": {
   "name": "python"
  },
  "rise": {
   "autolaunch": true,
   "enable_chalkboard": true,
   "overlay": "<div class='my-top-right'><img height=80px src='http://d2l.ai/_static/logo-with-text.png'/></div><div class='my-top-left'></div>",
   "scroll": true
  }
 },
 "nbformat": 4,
 "nbformat_minor": 5
}