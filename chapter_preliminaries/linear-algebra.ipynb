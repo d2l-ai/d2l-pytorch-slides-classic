{
 "cells": [
  {
   "cell_type": "markdown",
   "id": "edf361ac",
   "metadata": {
    "slideshow": {
     "slide_type": "-"
    }
   },
   "source": [
    "# Linear Algebra\n",
    "\n",
    "A scalar is represented by a tensor with just one element"
   ]
  },
  {
   "cell_type": "code",
   "execution_count": 1,
   "id": "792a2125",
   "metadata": {
    "execution": {
     "iopub.execute_input": "2022-07-10T02:54:47.556811Z",
     "iopub.status.busy": "2022-07-10T02:54:47.556222Z",
     "iopub.status.idle": "2022-07-10T02:54:48.435234Z",
     "shell.execute_reply": "2022-07-10T02:54:48.434269Z"
    },
    "origin_pos": 2,
    "tab": [
     "pytorch"
    ]
   },
   "outputs": [
    {
     "data": {
      "text/plain": [
       "(tensor(5.), tensor(6.), tensor(1.5000), tensor(9.))"
      ]
     },
     "execution_count": 1,
     "metadata": {},
     "output_type": "execute_result"
    }
   ],
   "source": [
    "import torch\n",
    "\n",
    "x = torch.tensor(3.0)\n",
    "y = torch.tensor(2.0)\n",
    "\n",
    "x + y, x * y, x / y, x**y"
   ]
  },
  {
   "cell_type": "markdown",
   "id": "7a798571",
   "metadata": {
    "slideshow": {
     "slide_type": "slide"
    }
   },
   "source": [
    "You can think of a vector as simply a list of scalar values"
   ]
  },
  {
   "cell_type": "code",
   "execution_count": 2,
   "id": "2647ab65",
   "metadata": {
    "execution": {
     "iopub.execute_input": "2022-07-10T02:54:48.439550Z",
     "iopub.status.busy": "2022-07-10T02:54:48.438764Z",
     "iopub.status.idle": "2022-07-10T02:54:48.445005Z",
     "shell.execute_reply": "2022-07-10T02:54:48.443857Z"
    },
    "origin_pos": 6,
    "tab": [
     "pytorch"
    ]
   },
   "outputs": [
    {
     "data": {
      "text/plain": [
       "tensor([0, 1, 2, 3])"
      ]
     },
     "execution_count": 2,
     "metadata": {},
     "output_type": "execute_result"
    }
   ],
   "source": [
    "x = torch.arange(4)\n",
    "x"
   ]
  },
  {
   "cell_type": "markdown",
   "id": "a9578c27",
   "metadata": {
    "slideshow": {
     "slide_type": "-"
    }
   },
   "source": [
    "Access any element by indexing into the tensor"
   ]
  },
  {
   "cell_type": "code",
   "execution_count": 3,
   "id": "5737916e",
   "metadata": {
    "execution": {
     "iopub.execute_input": "2022-07-10T02:54:48.448554Z",
     "iopub.status.busy": "2022-07-10T02:54:48.448263Z",
     "iopub.status.idle": "2022-07-10T02:54:48.455029Z",
     "shell.execute_reply": "2022-07-10T02:54:48.454189Z"
    },
    "origin_pos": 10,
    "tab": [
     "pytorch"
    ]
   },
   "outputs": [
    {
     "data": {
      "text/plain": [
       "tensor(3)"
      ]
     },
     "execution_count": 3,
     "metadata": {},
     "output_type": "execute_result"
    }
   ],
   "source": [
    "x[3]"
   ]
  },
  {
   "cell_type": "markdown",
   "id": "9badf094",
   "metadata": {
    "slideshow": {
     "slide_type": "slide"
    }
   },
   "source": [
    "Can access the length of a tensor"
   ]
  },
  {
   "cell_type": "code",
   "execution_count": 4,
   "id": "5ed657c8",
   "metadata": {
    "execution": {
     "iopub.execute_input": "2022-07-10T02:54:48.458960Z",
     "iopub.status.busy": "2022-07-10T02:54:48.458155Z",
     "iopub.status.idle": "2022-07-10T02:54:48.463393Z",
     "shell.execute_reply": "2022-07-10T02:54:48.462609Z"
    },
    "origin_pos": 14,
    "tab": [
     "pytorch"
    ]
   },
   "outputs": [
    {
     "data": {
      "text/plain": [
       "4"
      ]
     },
     "execution_count": 4,
     "metadata": {},
     "output_type": "execute_result"
    }
   ],
   "source": [
    "len(x)"
   ]
  },
  {
   "cell_type": "markdown",
   "id": "643c1578",
   "metadata": {
    "slideshow": {
     "slide_type": "-"
    }
   },
   "source": [
    "For tensors with just one axis, the shape has just one element"
   ]
  },
  {
   "cell_type": "code",
   "execution_count": 5,
   "id": "5be6d3fc",
   "metadata": {
    "execution": {
     "iopub.execute_input": "2022-07-10T02:54:48.466529Z",
     "iopub.status.busy": "2022-07-10T02:54:48.466254Z",
     "iopub.status.idle": "2022-07-10T02:54:48.471223Z",
     "shell.execute_reply": "2022-07-10T02:54:48.470393Z"
    },
    "origin_pos": 18,
    "tab": [
     "pytorch"
    ]
   },
   "outputs": [
    {
     "data": {
      "text/plain": [
       "torch.Size([4])"
      ]
     },
     "execution_count": 5,
     "metadata": {},
     "output_type": "execute_result"
    }
   ],
   "source": [
    "x.shape"
   ]
  },
  {
   "cell_type": "markdown",
   "id": "3008a449",
   "metadata": {
    "slideshow": {
     "slide_type": "slide"
    }
   },
   "source": [
    "Create an $m \\times n$ matrix"
   ]
  },
  {
   "cell_type": "code",
   "execution_count": 6,
   "id": "074a357b",
   "metadata": {
    "execution": {
     "iopub.execute_input": "2022-07-10T02:54:48.474570Z",
     "iopub.status.busy": "2022-07-10T02:54:48.474132Z",
     "iopub.status.idle": "2022-07-10T02:54:48.479915Z",
     "shell.execute_reply": "2022-07-10T02:54:48.479146Z"
    },
    "origin_pos": 22,
    "tab": [
     "pytorch"
    ]
   },
   "outputs": [
    {
     "data": {
      "text/plain": [
       "tensor([[ 0,  1,  2,  3],\n",
       "        [ 4,  5,  6,  7],\n",
       "        [ 8,  9, 10, 11],\n",
       "        [12, 13, 14, 15],\n",
       "        [16, 17, 18, 19]])"
      ]
     },
     "execution_count": 6,
     "metadata": {},
     "output_type": "execute_result"
    }
   ],
   "source": [
    "A = torch.arange(20).reshape(5, 4)\n",
    "A"
   ]
  },
  {
   "cell_type": "markdown",
   "id": "fab4691e",
   "metadata": {
    "slideshow": {
     "slide_type": "-"
    }
   },
   "source": [
    "Matrix's transpose"
   ]
  },
  {
   "cell_type": "code",
   "execution_count": 7,
   "id": "d9d43e2e",
   "metadata": {
    "execution": {
     "iopub.execute_input": "2022-07-10T02:54:48.483263Z",
     "iopub.status.busy": "2022-07-10T02:54:48.482798Z",
     "iopub.status.idle": "2022-07-10T02:54:48.488967Z",
     "shell.execute_reply": "2022-07-10T02:54:48.488221Z"
    },
    "origin_pos": 26,
    "tab": [
     "pytorch"
    ]
   },
   "outputs": [
    {
     "data": {
      "text/plain": [
       "tensor([[ 0,  4,  8, 12, 16],\n",
       "        [ 1,  5,  9, 13, 17],\n",
       "        [ 2,  6, 10, 14, 18],\n",
       "        [ 3,  7, 11, 15, 19]])"
      ]
     },
     "execution_count": 7,
     "metadata": {},
     "output_type": "execute_result"
    }
   ],
   "source": [
    "A.T"
   ]
  },
  {
   "cell_type": "markdown",
   "id": "d6dcd494",
   "metadata": {
    "slideshow": {
     "slide_type": "slide"
    }
   },
   "source": [
    "A *symmetric matrix* $\\mathbf{A}$ is equal to its transpose:\n",
    "$\\mathbf{A} = \\mathbf{A}^\\top$"
   ]
  },
  {
   "cell_type": "code",
   "execution_count": 8,
   "id": "6e455209",
   "metadata": {
    "execution": {
     "iopub.execute_input": "2022-07-10T02:54:48.492440Z",
     "iopub.status.busy": "2022-07-10T02:54:48.491908Z",
     "iopub.status.idle": "2022-07-10T02:54:48.498026Z",
     "shell.execute_reply": "2022-07-10T02:54:48.497219Z"
    },
    "origin_pos": 30,
    "tab": [
     "pytorch"
    ]
   },
   "outputs": [
    {
     "data": {
      "text/plain": [
       "tensor([[1, 2, 3],\n",
       "        [2, 0, 4],\n",
       "        [3, 4, 5]])"
      ]
     },
     "execution_count": 8,
     "metadata": {},
     "output_type": "execute_result"
    }
   ],
   "source": [
    "B = torch.tensor([[1, 2, 3], [2, 0, 4], [3, 4, 5]])\n",
    "B"
   ]
  },
  {
   "cell_type": "code",
   "execution_count": 9,
   "id": "6fea2b08",
   "metadata": {
    "execution": {
     "iopub.execute_input": "2022-07-10T02:54:48.501564Z",
     "iopub.status.busy": "2022-07-10T02:54:48.501011Z",
     "iopub.status.idle": "2022-07-10T02:54:48.506476Z",
     "shell.execute_reply": "2022-07-10T02:54:48.505663Z"
    },
    "origin_pos": 34,
    "tab": [
     "pytorch"
    ]
   },
   "outputs": [
    {
     "data": {
      "text/plain": [
       "tensor([[True, True, True],\n",
       "        [True, True, True],\n",
       "        [True, True, True]])"
      ]
     },
     "execution_count": 9,
     "metadata": {},
     "output_type": "execute_result"
    }
   ],
   "source": [
    "B == B.T"
   ]
  },
  {
   "cell_type": "markdown",
   "id": "0a0fdfdc",
   "metadata": {
    "slideshow": {
     "slide_type": "slide"
    }
   },
   "source": [
    "Tensors\n",
    "give us a generic way of describing $n$-dimensional arrays with an arbitrary number of axes"
   ]
  },
  {
   "cell_type": "code",
   "execution_count": 10,
   "id": "e04fc9df",
   "metadata": {
    "execution": {
     "iopub.execute_input": "2022-07-10T02:54:48.510393Z",
     "iopub.status.busy": "2022-07-10T02:54:48.509489Z",
     "iopub.status.idle": "2022-07-10T02:54:48.517098Z",
     "shell.execute_reply": "2022-07-10T02:54:48.516039Z"
    },
    "origin_pos": 38,
    "tab": [
     "pytorch"
    ]
   },
   "outputs": [
    {
     "data": {
      "text/plain": [
       "tensor([[[ 0,  1,  2,  3],\n",
       "         [ 4,  5,  6,  7],\n",
       "         [ 8,  9, 10, 11]],\n",
       "\n",
       "        [[12, 13, 14, 15],\n",
       "         [16, 17, 18, 19],\n",
       "         [20, 21, 22, 23]]])"
      ]
     },
     "execution_count": 10,
     "metadata": {},
     "output_type": "execute_result"
    }
   ],
   "source": [
    "X = torch.arange(24).reshape(2, 3, 4)\n",
    "X"
   ]
  },
  {
   "cell_type": "markdown",
   "id": "b341ded2",
   "metadata": {
    "slideshow": {
     "slide_type": "slide"
    }
   },
   "source": [
    "Given any two tensors with the same shape,\n",
    "the result of any binary elementwise operation\n",
    "will be a tensor of that same shape"
   ]
  },
  {
   "cell_type": "code",
   "execution_count": 11,
   "id": "d7c7886d",
   "metadata": {
    "execution": {
     "iopub.execute_input": "2022-07-10T02:54:48.520883Z",
     "iopub.status.busy": "2022-07-10T02:54:48.520069Z",
     "iopub.status.idle": "2022-07-10T02:54:48.528607Z",
     "shell.execute_reply": "2022-07-10T02:54:48.527546Z"
    },
    "origin_pos": 42,
    "tab": [
     "pytorch"
    ]
   },
   "outputs": [
    {
     "data": {
      "text/plain": [
       "(tensor([[ 0.,  1.,  2.,  3.],\n",
       "         [ 4.,  5.,  6.,  7.],\n",
       "         [ 8.,  9., 10., 11.],\n",
       "         [12., 13., 14., 15.],\n",
       "         [16., 17., 18., 19.]]),\n",
       " tensor([[ 0.,  2.,  4.,  6.],\n",
       "         [ 8., 10., 12., 14.],\n",
       "         [16., 18., 20., 22.],\n",
       "         [24., 26., 28., 30.],\n",
       "         [32., 34., 36., 38.]]))"
      ]
     },
     "execution_count": 11,
     "metadata": {},
     "output_type": "execute_result"
    }
   ],
   "source": [
    "A = torch.arange(20, dtype=torch.float32).reshape(5, 4)\n",
    "B = A.clone()\n",
    "A, A + B"
   ]
  },
  {
   "cell_type": "markdown",
   "id": "dd4b5cea",
   "metadata": {
    "slideshow": {
     "slide_type": "slide"
    }
   },
   "source": [
    "Elementwise multiplication of two matrices is called their *Hadamard product*"
   ]
  },
  {
   "cell_type": "code",
   "execution_count": 12,
   "id": "1a06d0a9",
   "metadata": {
    "execution": {
     "iopub.execute_input": "2022-07-10T02:54:48.532075Z",
     "iopub.status.busy": "2022-07-10T02:54:48.531541Z",
     "iopub.status.idle": "2022-07-10T02:54:48.537338Z",
     "shell.execute_reply": "2022-07-10T02:54:48.536570Z"
    },
    "origin_pos": 46,
    "tab": [
     "pytorch"
    ]
   },
   "outputs": [
    {
     "data": {
      "text/plain": [
       "tensor([[  0.,   1.,   4.,   9.],\n",
       "        [ 16.,  25.,  36.,  49.],\n",
       "        [ 64.,  81., 100., 121.],\n",
       "        [144., 169., 196., 225.],\n",
       "        [256., 289., 324., 361.]])"
      ]
     },
     "execution_count": 12,
     "metadata": {},
     "output_type": "execute_result"
    }
   ],
   "source": [
    "A * B"
   ]
  },
  {
   "cell_type": "markdown",
   "id": "65fdb9b2",
   "metadata": {
    "slideshow": {
     "slide_type": "slide"
    }
   },
   "source": [
    "Multiplying or adding a tensor by a scalar"
   ]
  },
  {
   "cell_type": "code",
   "execution_count": 13,
   "id": "68195ddb",
   "metadata": {
    "execution": {
     "iopub.execute_input": "2022-07-10T02:54:48.542098Z",
     "iopub.status.busy": "2022-07-10T02:54:48.541539Z",
     "iopub.status.idle": "2022-07-10T02:54:48.548285Z",
     "shell.execute_reply": "2022-07-10T02:54:48.547502Z"
    },
    "origin_pos": 50,
    "tab": [
     "pytorch"
    ]
   },
   "outputs": [
    {
     "data": {
      "text/plain": [
       "(tensor([[[ 2,  3,  4,  5],\n",
       "          [ 6,  7,  8,  9],\n",
       "          [10, 11, 12, 13]],\n",
       " \n",
       "         [[14, 15, 16, 17],\n",
       "          [18, 19, 20, 21],\n",
       "          [22, 23, 24, 25]]]),\n",
       " torch.Size([2, 3, 4]))"
      ]
     },
     "execution_count": 13,
     "metadata": {},
     "output_type": "execute_result"
    }
   ],
   "source": [
    "a = 2\n",
    "X = torch.arange(24).reshape(2, 3, 4)\n",
    "a + X, (a * X).shape"
   ]
  },
  {
   "cell_type": "markdown",
   "id": "2a821ea6",
   "metadata": {
    "slideshow": {
     "slide_type": "slide"
    }
   },
   "source": [
    "The sum of their elements"
   ]
  },
  {
   "cell_type": "code",
   "execution_count": 14,
   "id": "8d4768c3",
   "metadata": {
    "execution": {
     "iopub.execute_input": "2022-07-10T02:54:48.553081Z",
     "iopub.status.busy": "2022-07-10T02:54:48.552533Z",
     "iopub.status.idle": "2022-07-10T02:54:48.558693Z",
     "shell.execute_reply": "2022-07-10T02:54:48.557830Z"
    },
    "origin_pos": 54,
    "tab": [
     "pytorch"
    ]
   },
   "outputs": [
    {
     "data": {
      "text/plain": [
       "(tensor([0., 1., 2., 3.]), tensor(6.))"
      ]
     },
     "execution_count": 14,
     "metadata": {},
     "output_type": "execute_result"
    }
   ],
   "source": [
    "x = torch.arange(4, dtype=torch.float32)\n",
    "x, x.sum()"
   ]
  },
  {
   "cell_type": "markdown",
   "id": "407751ca",
   "metadata": {
    "slideshow": {
     "slide_type": "slide"
    }
   },
   "source": [
    "Sums over the elements of tensors of arbitrary shape"
   ]
  },
  {
   "cell_type": "code",
   "execution_count": 15,
   "id": "9c10fb7d",
   "metadata": {
    "execution": {
     "iopub.execute_input": "2022-07-10T02:54:48.562151Z",
     "iopub.status.busy": "2022-07-10T02:54:48.561549Z",
     "iopub.status.idle": "2022-07-10T02:54:48.568281Z",
     "shell.execute_reply": "2022-07-10T02:54:48.567454Z"
    },
    "origin_pos": 58,
    "tab": [
     "pytorch"
    ]
   },
   "outputs": [
    {
     "data": {
      "text/plain": [
       "(torch.Size([5, 4]), tensor(190.))"
      ]
     },
     "execution_count": 15,
     "metadata": {},
     "output_type": "execute_result"
    }
   ],
   "source": [
    "A.shape, A.sum()"
   ]
  },
  {
   "cell_type": "markdown",
   "id": "7108bce8",
   "metadata": {
    "slideshow": {
     "slide_type": "slide"
    }
   },
   "source": [
    "Specify the axes along which the tensor is reduced via summation"
   ]
  },
  {
   "cell_type": "code",
   "execution_count": 16,
   "id": "0a29abc5",
   "metadata": {
    "execution": {
     "iopub.execute_input": "2022-07-10T02:54:48.572126Z",
     "iopub.status.busy": "2022-07-10T02:54:48.571485Z",
     "iopub.status.idle": "2022-07-10T02:54:48.578306Z",
     "shell.execute_reply": "2022-07-10T02:54:48.577487Z"
    },
    "origin_pos": 62,
    "tab": [
     "pytorch"
    ]
   },
   "outputs": [
    {
     "data": {
      "text/plain": [
       "(tensor([40., 45., 50., 55.]), torch.Size([4]))"
      ]
     },
     "execution_count": 16,
     "metadata": {},
     "output_type": "execute_result"
    }
   ],
   "source": [
    "A_sum_axis0 = A.sum(axis=0)\n",
    "A_sum_axis0, A_sum_axis0.shape"
   ]
  },
  {
   "cell_type": "code",
   "execution_count": 17,
   "id": "6d92cbfd",
   "metadata": {
    "execution": {
     "iopub.execute_input": "2022-07-10T02:54:48.581848Z",
     "iopub.status.busy": "2022-07-10T02:54:48.581287Z",
     "iopub.status.idle": "2022-07-10T02:54:48.587914Z",
     "shell.execute_reply": "2022-07-10T02:54:48.587043Z"
    },
    "origin_pos": 66,
    "tab": [
     "pytorch"
    ]
   },
   "outputs": [
    {
     "data": {
      "text/plain": [
       "(tensor([ 6., 22., 38., 54., 70.]), torch.Size([5]))"
      ]
     },
     "execution_count": 17,
     "metadata": {},
     "output_type": "execute_result"
    }
   ],
   "source": [
    "A_sum_axis1 = A.sum(axis=1)\n",
    "A_sum_axis1, A_sum_axis1.shape"
   ]
  },
  {
   "cell_type": "code",
   "execution_count": 18,
   "id": "47922e5c",
   "metadata": {
    "execution": {
     "iopub.execute_input": "2022-07-10T02:54:48.591498Z",
     "iopub.status.busy": "2022-07-10T02:54:48.590914Z",
     "iopub.status.idle": "2022-07-10T02:54:48.596747Z",
     "shell.execute_reply": "2022-07-10T02:54:48.595852Z"
    },
    "origin_pos": 70,
    "tab": [
     "pytorch"
    ]
   },
   "outputs": [
    {
     "data": {
      "text/plain": [
       "tensor(190.)"
      ]
     },
     "execution_count": 18,
     "metadata": {},
     "output_type": "execute_result"
    }
   ],
   "source": [
    "A.sum(axis=[0, 1])"
   ]
  },
  {
   "cell_type": "markdown",
   "id": "de2a983b",
   "metadata": {
    "slideshow": {
     "slide_type": "slide"
    }
   },
   "source": [
    "A related quantity is the *mean*, which is also called the *average*"
   ]
  },
  {
   "cell_type": "code",
   "execution_count": 19,
   "id": "12e80edf",
   "metadata": {
    "execution": {
     "iopub.execute_input": "2022-07-10T02:54:48.600329Z",
     "iopub.status.busy": "2022-07-10T02:54:48.600056Z",
     "iopub.status.idle": "2022-07-10T02:54:48.606339Z",
     "shell.execute_reply": "2022-07-10T02:54:48.605569Z"
    },
    "origin_pos": 74,
    "tab": [
     "pytorch"
    ]
   },
   "outputs": [
    {
     "data": {
      "text/plain": [
       "(tensor(9.5000), tensor(9.5000))"
      ]
     },
     "execution_count": 19,
     "metadata": {},
     "output_type": "execute_result"
    }
   ],
   "source": [
    "A.mean(), A.sum() / A.numel()"
   ]
  },
  {
   "cell_type": "code",
   "execution_count": 20,
   "id": "5114a31d",
   "metadata": {
    "execution": {
     "iopub.execute_input": "2022-07-10T02:54:48.610106Z",
     "iopub.status.busy": "2022-07-10T02:54:48.609547Z",
     "iopub.status.idle": "2022-07-10T02:54:48.615704Z",
     "shell.execute_reply": "2022-07-10T02:54:48.614920Z"
    },
    "origin_pos": 78,
    "tab": [
     "pytorch"
    ]
   },
   "outputs": [
    {
     "data": {
      "text/plain": [
       "(tensor([ 8.,  9., 10., 11.]), tensor([ 8.,  9., 10., 11.]))"
      ]
     },
     "execution_count": 20,
     "metadata": {},
     "output_type": "execute_result"
    }
   ],
   "source": [
    "A.mean(axis=0), A.sum(axis=0) / A.shape[0]"
   ]
  },
  {
   "cell_type": "markdown",
   "id": "dc0d0417",
   "metadata": {
    "slideshow": {
     "slide_type": "slide"
    }
   },
   "source": [
    "Keep the number of axes unchanged"
   ]
  },
  {
   "cell_type": "code",
   "execution_count": 21,
   "id": "af1f92e4",
   "metadata": {
    "execution": {
     "iopub.execute_input": "2022-07-10T02:54:48.618796Z",
     "iopub.status.busy": "2022-07-10T02:54:48.618523Z",
     "iopub.status.idle": "2022-07-10T02:54:48.624295Z",
     "shell.execute_reply": "2022-07-10T02:54:48.623532Z"
    },
    "origin_pos": 82,
    "tab": [
     "pytorch"
    ]
   },
   "outputs": [
    {
     "data": {
      "text/plain": [
       "tensor([[ 6.],\n",
       "        [22.],\n",
       "        [38.],\n",
       "        [54.],\n",
       "        [70.]])"
      ]
     },
     "execution_count": 21,
     "metadata": {},
     "output_type": "execute_result"
    }
   ],
   "source": [
    "sum_A = A.sum(axis=1, keepdims=True)\n",
    "sum_A"
   ]
  },
  {
   "cell_type": "markdown",
   "id": "93569464",
   "metadata": {
    "slideshow": {
     "slide_type": "-"
    }
   },
   "source": [
    "Divide `A` by `sum_A` with broadcasting"
   ]
  },
  {
   "cell_type": "code",
   "execution_count": 22,
   "id": "991a29b1",
   "metadata": {
    "execution": {
     "iopub.execute_input": "2022-07-10T02:54:48.628380Z",
     "iopub.status.busy": "2022-07-10T02:54:48.627800Z",
     "iopub.status.idle": "2022-07-10T02:54:48.633563Z",
     "shell.execute_reply": "2022-07-10T02:54:48.632783Z"
    },
    "origin_pos": 86,
    "tab": [
     "pytorch"
    ]
   },
   "outputs": [
    {
     "data": {
      "text/plain": [
       "tensor([[0.0000, 0.1667, 0.3333, 0.5000],\n",
       "        [0.1818, 0.2273, 0.2727, 0.3182],\n",
       "        [0.2105, 0.2368, 0.2632, 0.2895],\n",
       "        [0.2222, 0.2407, 0.2593, 0.2778],\n",
       "        [0.2286, 0.2429, 0.2571, 0.2714]])"
      ]
     },
     "execution_count": 22,
     "metadata": {},
     "output_type": "execute_result"
    }
   ],
   "source": [
    "A / sum_A"
   ]
  },
  {
   "cell_type": "markdown",
   "id": "97bf873b",
   "metadata": {
    "slideshow": {
     "slide_type": "slide"
    }
   },
   "source": [
    "The cumulative sum of elements of `A` along some axis"
   ]
  },
  {
   "cell_type": "code",
   "execution_count": 23,
   "id": "bf5cd342",
   "metadata": {
    "execution": {
     "iopub.execute_input": "2022-07-10T02:54:48.637220Z",
     "iopub.status.busy": "2022-07-10T02:54:48.636490Z",
     "iopub.status.idle": "2022-07-10T02:54:48.642367Z",
     "shell.execute_reply": "2022-07-10T02:54:48.641593Z"
    },
    "origin_pos": 90,
    "tab": [
     "pytorch"
    ]
   },
   "outputs": [
    {
     "data": {
      "text/plain": [
       "tensor([[ 0.,  1.,  2.,  3.],\n",
       "        [ 4.,  6.,  8., 10.],\n",
       "        [12., 15., 18., 21.],\n",
       "        [24., 28., 32., 36.],\n",
       "        [40., 45., 50., 55.]])"
      ]
     },
     "execution_count": 23,
     "metadata": {},
     "output_type": "execute_result"
    }
   ],
   "source": [
    "A.cumsum(axis=0)"
   ]
  },
  {
   "cell_type": "markdown",
   "id": "f6cd3b54",
   "metadata": {
    "slideshow": {
     "slide_type": "slide"
    }
   },
   "source": [
    "The *dot product* of two vectors is a sum over the products of the elements at the same position"
   ]
  },
  {
   "cell_type": "code",
   "execution_count": 24,
   "id": "2ae5528f",
   "metadata": {
    "execution": {
     "iopub.execute_input": "2022-07-10T02:54:48.645889Z",
     "iopub.status.busy": "2022-07-10T02:54:48.645158Z",
     "iopub.status.idle": "2022-07-10T02:54:48.651906Z",
     "shell.execute_reply": "2022-07-10T02:54:48.651171Z"
    },
    "origin_pos": 94,
    "tab": [
     "pytorch"
    ]
   },
   "outputs": [
    {
     "data": {
      "text/plain": [
       "(tensor([0., 1., 2., 3.]), tensor([1., 1., 1., 1.]), tensor(6.))"
      ]
     },
     "execution_count": 24,
     "metadata": {},
     "output_type": "execute_result"
    }
   ],
   "source": [
    "y = torch.ones(4, dtype = torch.float32)\n",
    "x, y, torch.dot(x, y)"
   ]
  },
  {
   "cell_type": "markdown",
   "id": "9827a1bf",
   "metadata": {
    "slideshow": {
     "slide_type": "-"
    }
   },
   "source": [
    "We can express the dot product of two vectors equivalently by performing an elementwise multiplication and then a sum"
   ]
  },
  {
   "cell_type": "code",
   "execution_count": 25,
   "id": "d3c5f727",
   "metadata": {
    "execution": {
     "iopub.execute_input": "2022-07-10T02:54:48.655367Z",
     "iopub.status.busy": "2022-07-10T02:54:48.654813Z",
     "iopub.status.idle": "2022-07-10T02:54:48.660343Z",
     "shell.execute_reply": "2022-07-10T02:54:48.659565Z"
    },
    "origin_pos": 98,
    "tab": [
     "pytorch"
    ]
   },
   "outputs": [
    {
     "data": {
      "text/plain": [
       "tensor(6.)"
      ]
     },
     "execution_count": 25,
     "metadata": {},
     "output_type": "execute_result"
    }
   ],
   "source": [
    "torch.sum(x * y)"
   ]
  },
  {
   "cell_type": "markdown",
   "id": "f8918175",
   "metadata": {
    "slideshow": {
     "slide_type": "slide"
    }
   },
   "source": [
    "The matrix-vector product $\\mathbf{A}\\mathbf{x}$\n",
    "is simply a column vector of length $m$,\n",
    "whose $i^\\mathrm{th}$ element is the dot product $\\mathbf{a}^\\top_i \\mathbf{x}$"
   ]
  },
  {
   "cell_type": "code",
   "execution_count": 26,
   "id": "bfe4574e",
   "metadata": {
    "execution": {
     "iopub.execute_input": "2022-07-10T02:54:48.664417Z",
     "iopub.status.busy": "2022-07-10T02:54:48.663936Z",
     "iopub.status.idle": "2022-07-10T02:54:48.669890Z",
     "shell.execute_reply": "2022-07-10T02:54:48.669129Z"
    },
    "origin_pos": 105,
    "tab": [
     "pytorch"
    ]
   },
   "outputs": [
    {
     "data": {
      "text/plain": [
       "(torch.Size([5, 4]), torch.Size([4]), tensor([ 14.,  38.,  62.,  86., 110.]))"
      ]
     },
     "execution_count": 26,
     "metadata": {},
     "output_type": "execute_result"
    }
   ],
   "source": [
    "A.shape, x.shape, torch.mv(A, x)"
   ]
  },
  {
   "cell_type": "markdown",
   "id": "dfee0ba8",
   "metadata": {
    "slideshow": {
     "slide_type": "slide"
    }
   },
   "source": [
    "We can think of the matrix-matrix multiplication $\\mathbf{AB}$ as simply performing $m$ matrix-vector products and stitching the results together to form an $n \\times m$ matrix"
   ]
  },
  {
   "cell_type": "code",
   "execution_count": 27,
   "id": "7190b612",
   "metadata": {
    "execution": {
     "iopub.execute_input": "2022-07-10T02:54:48.673412Z",
     "iopub.status.busy": "2022-07-10T02:54:48.672858Z",
     "iopub.status.idle": "2022-07-10T02:54:48.678948Z",
     "shell.execute_reply": "2022-07-10T02:54:48.678133Z"
    },
    "origin_pos": 109,
    "tab": [
     "pytorch"
    ]
   },
   "outputs": [
    {
     "data": {
      "text/plain": [
       "tensor([[ 6.,  6.,  6.],\n",
       "        [22., 22., 22.],\n",
       "        [38., 38., 38.],\n",
       "        [54., 54., 54.],\n",
       "        [70., 70., 70.]])"
      ]
     },
     "execution_count": 27,
     "metadata": {},
     "output_type": "execute_result"
    }
   ],
   "source": [
    "B = torch.ones(4, 3)\n",
    "torch.mm(A, B)"
   ]
  },
  {
   "cell_type": "markdown",
   "id": "58aaa223",
   "metadata": {
    "slideshow": {
     "slide_type": "slide"
    }
   },
   "source": [
    "The $L_2$ *norm* of $\\mathbf{x}$ is the square root of the sum of the squares of the vector elements:\n",
    "$$\\|\\mathbf{x}\\|_2 = \\sqrt{\\sum_{i=1}^n x_i^2}$$"
   ]
  },
  {
   "cell_type": "code",
   "execution_count": 28,
   "id": "444a043e",
   "metadata": {
    "execution": {
     "iopub.execute_input": "2022-07-10T02:54:48.682389Z",
     "iopub.status.busy": "2022-07-10T02:54:48.681831Z",
     "iopub.status.idle": "2022-07-10T02:54:48.687714Z",
     "shell.execute_reply": "2022-07-10T02:54:48.686940Z"
    },
    "origin_pos": 113,
    "tab": [
     "pytorch"
    ]
   },
   "outputs": [
    {
     "data": {
      "text/plain": [
       "tensor(5.)"
      ]
     },
     "execution_count": 28,
     "metadata": {},
     "output_type": "execute_result"
    }
   ],
   "source": [
    "u = torch.tensor([3.0, -4.0])\n",
    "torch.norm(u)"
   ]
  },
  {
   "cell_type": "markdown",
   "id": "2a0434c1",
   "metadata": {
    "slideshow": {
     "slide_type": "slide"
    }
   },
   "source": [
    "The $L_1$ *norm*\n",
    "$$\\|\\mathbf{x}\\|_1 = \\sum_{i=1}^n \\left|x_i \\right|$$"
   ]
  },
  {
   "cell_type": "code",
   "execution_count": 29,
   "id": "ddce15de",
   "metadata": {
    "execution": {
     "iopub.execute_input": "2022-07-10T02:54:48.691813Z",
     "iopub.status.busy": "2022-07-10T02:54:48.691234Z",
     "iopub.status.idle": "2022-07-10T02:54:48.696823Z",
     "shell.execute_reply": "2022-07-10T02:54:48.696074Z"
    },
    "origin_pos": 117,
    "tab": [
     "pytorch"
    ]
   },
   "outputs": [
    {
     "data": {
      "text/plain": [
       "tensor(7.)"
      ]
     },
     "execution_count": 29,
     "metadata": {},
     "output_type": "execute_result"
    }
   ],
   "source": [
    "torch.abs(u).sum()"
   ]
  },
  {
   "cell_type": "markdown",
   "id": "483bc038",
   "metadata": {
    "slideshow": {
     "slide_type": "slide"
    }
   },
   "source": [
    "The *Frobenius norm* of a matrix $\\mathbf{X} \\in \\mathbb{R}^{m \\times n}$\n",
    "$$\\|\\mathbf{X}\\|_F = \\sqrt{\\sum_{i=1}^m \\sum_{j=1}^n x_{ij}^2}$$"
   ]
  },
  {
   "cell_type": "code",
   "execution_count": 30,
   "id": "9b9a97d2",
   "metadata": {
    "execution": {
     "iopub.execute_input": "2022-07-10T02:54:48.700395Z",
     "iopub.status.busy": "2022-07-10T02:54:48.699845Z",
     "iopub.status.idle": "2022-07-10T02:54:48.705491Z",
     "shell.execute_reply": "2022-07-10T02:54:48.704750Z"
    },
    "origin_pos": 121,
    "tab": [
     "pytorch"
    ]
   },
   "outputs": [
    {
     "data": {
      "text/plain": [
       "tensor(6.)"
      ]
     },
     "execution_count": 30,
     "metadata": {},
     "output_type": "execute_result"
    }
   ],
   "source": [
    "torch.norm(torch.ones((4, 9)))"
   ]
  }
 ],
 "metadata": {
  "celltoolbar": "Slideshow",
  "language_info": {
   "name": "python"
  },
  "rise": {
   "autolaunch": true,
   "enable_chalkboard": true,
   "overlay": "<div class='my-top-right'><img height=80px src='http://d2l.ai/_static/logo-with-text.png'/></div><div class='my-top-left'></div>",
   "scroll": true
  }
 },
 "nbformat": 4,
 "nbformat_minor": 5
}