{
 "cells": [
  {
   "cell_type": "markdown",
   "id": "1cb7e9ba",
   "metadata": {
    "slideshow": {
     "slide_type": "-"
    }
   },
   "source": [
    "# Automatic Differentiation\n",
    "\n",
    "Differentiating the function\n",
    "$y = 2\\mathbf{x}^{\\top}\\mathbf{x}$\n",
    "with respect to the column vector $\\mathbf{x}$"
   ]
  },
  {
   "cell_type": "code",
   "execution_count": 1,
   "id": "cfe5e288",
   "metadata": {
    "execution": {
     "iopub.execute_input": "2022-07-10T02:54:34.329197Z",
     "iopub.status.busy": "2022-07-10T02:54:34.328499Z",
     "iopub.status.idle": "2022-07-10T02:54:35.188502Z",
     "shell.execute_reply": "2022-07-10T02:54:35.187363Z"
    },
    "origin_pos": 2,
    "tab": [
     "pytorch"
    ]
   },
   "outputs": [
    {
     "data": {
      "text/plain": [
       "tensor([0., 1., 2., 3.])"
      ]
     },
     "execution_count": 1,
     "metadata": {},
     "output_type": "execute_result"
    }
   ],
   "source": [
    "import torch\n",
    "\n",
    "x = torch.arange(4.0)\n",
    "x"
   ]
  },
  {
   "cell_type": "markdown",
   "id": "283ad492",
   "metadata": {
    "slideshow": {
     "slide_type": "slide"
    }
   },
   "source": [
    "Before we even calculate the gradient\n",
    "of $y$ with respect to $\\mathbf{x}$,\n",
    "we will need a place to store it"
   ]
  },
  {
   "cell_type": "code",
   "execution_count": 2,
   "id": "1938a318",
   "metadata": {
    "execution": {
     "iopub.execute_input": "2022-07-10T02:54:35.192672Z",
     "iopub.status.busy": "2022-07-10T02:54:35.192036Z",
     "iopub.status.idle": "2022-07-10T02:54:35.196147Z",
     "shell.execute_reply": "2022-07-10T02:54:35.195354Z"
    },
    "origin_pos": 6,
    "tab": [
     "pytorch"
    ]
   },
   "outputs": [],
   "source": [
    "x.requires_grad_(True)\n",
    "x.grad"
   ]
  },
  {
   "cell_type": "markdown",
   "id": "367f7265",
   "metadata": {
    "slideshow": {
     "slide_type": "-"
    }
   },
   "source": [
    "Now let us calculate $y$"
   ]
  },
  {
   "cell_type": "code",
   "execution_count": 3,
   "id": "86a149e4",
   "metadata": {
    "execution": {
     "iopub.execute_input": "2022-07-10T02:54:35.199661Z",
     "iopub.status.busy": "2022-07-10T02:54:35.199123Z",
     "iopub.status.idle": "2022-07-10T02:54:35.204827Z",
     "shell.execute_reply": "2022-07-10T02:54:35.204065Z"
    },
    "origin_pos": 10,
    "tab": [
     "pytorch"
    ]
   },
   "outputs": [
    {
     "data": {
      "text/plain": [
       "tensor(28., grad_fn=<MulBackward0>)"
      ]
     },
     "execution_count": 3,
     "metadata": {},
     "output_type": "execute_result"
    }
   ],
   "source": [
    "y = 2 * torch.dot(x, x)\n",
    "y"
   ]
  },
  {
   "cell_type": "markdown",
   "id": "bedc1ba5",
   "metadata": {
    "slideshow": {
     "slide_type": "slide"
    }
   },
   "source": [
    "We can automatically calculate the gradient of `y`\n",
    "with respect to each component of `x`"
   ]
  },
  {
   "cell_type": "code",
   "execution_count": 4,
   "id": "1166046f",
   "metadata": {
    "execution": {
     "iopub.execute_input": "2022-07-10T02:54:35.209328Z",
     "iopub.status.busy": "2022-07-10T02:54:35.208775Z",
     "iopub.status.idle": "2022-07-10T02:54:35.214572Z",
     "shell.execute_reply": "2022-07-10T02:54:35.213801Z"
    },
    "origin_pos": 14,
    "tab": [
     "pytorch"
    ]
   },
   "outputs": [
    {
     "data": {
      "text/plain": [
       "tensor([ 0.,  4.,  8., 12.])"
      ]
     },
     "execution_count": 4,
     "metadata": {},
     "output_type": "execute_result"
    }
   ],
   "source": [
    "y.backward()\n",
    "x.grad"
   ]
  },
  {
   "cell_type": "markdown",
   "id": "9ccb4347",
   "metadata": {
    "slideshow": {
     "slide_type": "-"
    }
   },
   "source": [
    "The gradient of the function $y = 2\\mathbf{x}^{\\top}\\mathbf{x}$\n",
    "with respect to $\\mathbf{x}$ should be $4\\mathbf{x}$"
   ]
  },
  {
   "cell_type": "code",
   "execution_count": 5,
   "id": "f39f8898",
   "metadata": {
    "execution": {
     "iopub.execute_input": "2022-07-10T02:54:35.218135Z",
     "iopub.status.busy": "2022-07-10T02:54:35.217585Z",
     "iopub.status.idle": "2022-07-10T02:54:35.223206Z",
     "shell.execute_reply": "2022-07-10T02:54:35.222408Z"
    },
    "origin_pos": 18,
    "tab": [
     "pytorch"
    ]
   },
   "outputs": [
    {
     "data": {
      "text/plain": [
       "tensor([True, True, True, True])"
      ]
     },
     "execution_count": 5,
     "metadata": {},
     "output_type": "execute_result"
    }
   ],
   "source": [
    "x.grad == 4 * x"
   ]
  },
  {
   "cell_type": "markdown",
   "id": "59fd6f56",
   "metadata": {
    "slideshow": {
     "slide_type": "slide"
    }
   },
   "source": [
    "Now let us calculate another function of `x`"
   ]
  },
  {
   "cell_type": "code",
   "execution_count": 6,
   "id": "c0a4e1eb",
   "metadata": {
    "execution": {
     "iopub.execute_input": "2022-07-10T02:54:35.226411Z",
     "iopub.status.busy": "2022-07-10T02:54:35.226128Z",
     "iopub.status.idle": "2022-07-10T02:54:35.233549Z",
     "shell.execute_reply": "2022-07-10T02:54:35.232658Z"
    },
    "origin_pos": 22,
    "tab": [
     "pytorch"
    ]
   },
   "outputs": [
    {
     "data": {
      "text/plain": [
       "tensor([1., 1., 1., 1.])"
      ]
     },
     "execution_count": 6,
     "metadata": {},
     "output_type": "execute_result"
    }
   ],
   "source": [
    "x.grad.zero_()\n",
    "y = x.sum()\n",
    "y.backward()\n",
    "x.grad"
   ]
  },
  {
   "cell_type": "markdown",
   "id": "8cf527fc",
   "metadata": {
    "slideshow": {
     "slide_type": "slide"
    }
   },
   "source": [
    "In deep learning\n",
    "when we are calling backward on a vector,\n",
    "our intent is\n",
    "the sum of the partial derivatives\n",
    "computed individually for each example"
   ]
  },
  {
   "cell_type": "code",
   "execution_count": 7,
   "id": "2703b9f4",
   "metadata": {
    "execution": {
     "iopub.execute_input": "2022-07-10T02:54:35.238546Z",
     "iopub.status.busy": "2022-07-10T02:54:35.237849Z",
     "iopub.status.idle": "2022-07-10T02:54:35.244540Z",
     "shell.execute_reply": "2022-07-10T02:54:35.243757Z"
    },
    "origin_pos": 26,
    "tab": [
     "pytorch"
    ]
   },
   "outputs": [
    {
     "data": {
      "text/plain": [
       "tensor([0., 2., 4., 6.])"
      ]
     },
     "execution_count": 7,
     "metadata": {},
     "output_type": "execute_result"
    }
   ],
   "source": [
    "x.grad.zero_()\n",
    "y = x * x\n",
    "y.sum().backward()\n",
    "x.grad"
   ]
  },
  {
   "cell_type": "markdown",
   "id": "5c02e203",
   "metadata": {
    "slideshow": {
     "slide_type": "slide"
    }
   },
   "source": [
    "Move some calculations\n",
    "outside of the recorded computational graph"
   ]
  },
  {
   "cell_type": "code",
   "execution_count": 8,
   "id": "bdafb6f2",
   "metadata": {
    "execution": {
     "iopub.execute_input": "2022-07-10T02:54:35.249284Z",
     "iopub.status.busy": "2022-07-10T02:54:35.248753Z",
     "iopub.status.idle": "2022-07-10T02:54:35.255314Z",
     "shell.execute_reply": "2022-07-10T02:54:35.254416Z"
    },
    "origin_pos": 30,
    "tab": [
     "pytorch"
    ]
   },
   "outputs": [
    {
     "data": {
      "text/plain": [
       "tensor([True, True, True, True])"
      ]
     },
     "execution_count": 8,
     "metadata": {},
     "output_type": "execute_result"
    }
   ],
   "source": [
    "x.grad.zero_()\n",
    "y = x * x\n",
    "u = y.detach()\n",
    "z = u * x\n",
    "\n",
    "z.sum().backward()\n",
    "x.grad == u"
   ]
  },
  {
   "cell_type": "code",
   "execution_count": 9,
   "id": "f3d45bd1",
   "metadata": {
    "execution": {
     "iopub.execute_input": "2022-07-10T02:54:35.258969Z",
     "iopub.status.busy": "2022-07-10T02:54:35.258391Z",
     "iopub.status.idle": "2022-07-10T02:54:35.264442Z",
     "shell.execute_reply": "2022-07-10T02:54:35.263584Z"
    },
    "origin_pos": 34,
    "tab": [
     "pytorch"
    ]
   },
   "outputs": [
    {
     "data": {
      "text/plain": [
       "tensor([True, True, True, True])"
      ]
     },
     "execution_count": 9,
     "metadata": {},
     "output_type": "execute_result"
    }
   ],
   "source": [
    "x.grad.zero_()\n",
    "y.sum().backward()\n",
    "x.grad == 2 * x"
   ]
  },
  {
   "cell_type": "markdown",
   "id": "b4c0001b",
   "metadata": {
    "slideshow": {
     "slide_type": "slide"
    }
   },
   "source": [
    "Even if\n",
    "a function\n",
    "required passing through a maze of Python control flow\n",
    "we can still calculate the gradient of the resulting variable"
   ]
  },
  {
   "cell_type": "code",
   "execution_count": 12,
   "id": "e5eedbe6",
   "metadata": {
    "execution": {
     "iopub.execute_input": "2022-07-10T02:54:35.283789Z",
     "iopub.status.busy": "2022-07-10T02:54:35.283004Z",
     "iopub.status.idle": "2022-07-10T02:54:35.288993Z",
     "shell.execute_reply": "2022-07-10T02:54:35.288249Z"
    },
    "origin_pos": 46,
    "tab": [
     "pytorch"
    ]
   },
   "outputs": [
    {
     "data": {
      "text/plain": [
       "tensor(True)"
      ]
     },
     "execution_count": 12,
     "metadata": {},
     "output_type": "execute_result"
    }
   ],
   "source": [
    "def f(a):\n",
    "    b = a * 2\n",
    "    while b.norm() < 1000:\n",
    "        b = b * 2\n",
    "    if b.sum() > 0:\n",
    "        c = b\n",
    "    else:\n",
    "        c = 100 * b\n",
    "    return c\n",
    "\n",
    "a = torch.randn(size=(), requires_grad=True)\n",
    "d = f(a)\n",
    "d.backward()\n",
    "\n",
    "a.grad == d / a"
   ]
  }
 ],
 "metadata": {
  "celltoolbar": "Slideshow",
  "language_info": {
   "name": "python"
  },
  "rise": {
   "autolaunch": true,
   "enable_chalkboard": true,
   "overlay": "<div class='my-top-right'><img height=80px src='http://d2l.ai/_static/logo-with-text.png'/></div><div class='my-top-left'></div>",
   "scroll": true
  }
 },
 "nbformat": 4,
 "nbformat_minor": 5
}