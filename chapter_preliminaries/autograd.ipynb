{
 "cells": [
  {
   "cell_type": "markdown",
   "id": "0b0eb02c",
   "metadata": {
    "slideshow": {
     "slide_type": "-"
    }
   },
   "source": [
    "# Automatic Differentiation\n",
    "\n",
    "Differentiating the function\n",
    "$y = 2\\mathbf{x}^{\\top}\\mathbf{x}$\n",
    "with respect to the column vector $\\mathbf{x}$"
   ]
  },
  {
   "cell_type": "code",
   "execution_count": 1,
   "id": "b58b60e2",
   "metadata": {
    "execution": {
     "iopub.execute_input": "2022-11-12T20:41:39.409644Z",
     "iopub.status.busy": "2022-11-12T20:41:39.409037Z",
     "iopub.status.idle": "2022-11-12T20:41:40.270103Z",
     "shell.execute_reply": "2022-11-12T20:41:40.269231Z"
    },
    "origin_pos": 2,
    "tab": [
     "pytorch"
    ]
   },
   "outputs": [
    {
     "data": {
      "text/plain": [
       "tensor([0., 1., 2., 3.])"
      ]
     },
     "execution_count": 1,
     "metadata": {},
     "output_type": "execute_result"
    }
   ],
   "source": [
    "import torch\n",
    "\n",
    "x = torch.arange(4.0)\n",
    "x"
   ]
  },
  {
   "cell_type": "markdown",
   "id": "4b8a0734",
   "metadata": {
    "slideshow": {
     "slide_type": "slide"
    }
   },
   "source": [
    "Before we even calculate the gradient\n",
    "of $y$ with respect to $\\mathbf{x}$,\n",
    "we will need a place to store it"
   ]
  },
  {
   "cell_type": "code",
   "execution_count": 2,
   "id": "3eb5bb71",
   "metadata": {
    "execution": {
     "iopub.execute_input": "2022-11-12T20:41:40.274095Z",
     "iopub.status.busy": "2022-11-12T20:41:40.273545Z",
     "iopub.status.idle": "2022-11-12T20:41:40.277600Z",
     "shell.execute_reply": "2022-11-12T20:41:40.276835Z"
    },
    "origin_pos": 6,
    "tab": [
     "pytorch"
    ]
   },
   "outputs": [],
   "source": [
    "x.requires_grad_(True)\n",
    "x.grad"
   ]
  },
  {
   "cell_type": "markdown",
   "id": "5bd022ee",
   "metadata": {
    "slideshow": {
     "slide_type": "-"
    }
   },
   "source": [
    "Now let us calculate $y$"
   ]
  },
  {
   "cell_type": "code",
   "execution_count": 3,
   "id": "67a1fed5",
   "metadata": {
    "execution": {
     "iopub.execute_input": "2022-11-12T20:41:40.280956Z",
     "iopub.status.busy": "2022-11-12T20:41:40.280523Z",
     "iopub.status.idle": "2022-11-12T20:41:40.286403Z",
     "shell.execute_reply": "2022-11-12T20:41:40.285596Z"
    },
    "origin_pos": 10,
    "tab": [
     "pytorch"
    ]
   },
   "outputs": [
    {
     "data": {
      "text/plain": [
       "tensor(28., grad_fn=<MulBackward0>)"
      ]
     },
     "execution_count": 3,
     "metadata": {},
     "output_type": "execute_result"
    }
   ],
   "source": [
    "y = 2 * torch.dot(x, x)\n",
    "y"
   ]
  },
  {
   "cell_type": "markdown",
   "id": "abb83832",
   "metadata": {
    "slideshow": {
     "slide_type": "slide"
    }
   },
   "source": [
    "We can automatically calculate the gradient of `y`\n",
    "with respect to each component of `x`"
   ]
  },
  {
   "cell_type": "code",
   "execution_count": 4,
   "id": "6ff13f52",
   "metadata": {
    "execution": {
     "iopub.execute_input": "2022-11-12T20:41:40.289941Z",
     "iopub.status.busy": "2022-11-12T20:41:40.289413Z",
     "iopub.status.idle": "2022-11-12T20:41:40.295127Z",
     "shell.execute_reply": "2022-11-12T20:41:40.294304Z"
    },
    "origin_pos": 14,
    "tab": [
     "pytorch"
    ]
   },
   "outputs": [
    {
     "data": {
      "text/plain": [
       "tensor([ 0.,  4.,  8., 12.])"
      ]
     },
     "execution_count": 4,
     "metadata": {},
     "output_type": "execute_result"
    }
   ],
   "source": [
    "y.backward()\n",
    "x.grad"
   ]
  },
  {
   "cell_type": "markdown",
   "id": "6d49b33d",
   "metadata": {
    "slideshow": {
     "slide_type": "-"
    }
   },
   "source": [
    "The gradient of the function $y = 2\\mathbf{x}^{\\top}\\mathbf{x}$\n",
    "with respect to $\\mathbf{x}$ should be $4\\mathbf{x}$"
   ]
  },
  {
   "cell_type": "code",
   "execution_count": 5,
   "id": "aed5be8b",
   "metadata": {
    "execution": {
     "iopub.execute_input": "2022-11-12T20:41:40.298889Z",
     "iopub.status.busy": "2022-11-12T20:41:40.298331Z",
     "iopub.status.idle": "2022-11-12T20:41:40.303902Z",
     "shell.execute_reply": "2022-11-12T20:41:40.303127Z"
    },
    "origin_pos": 18,
    "tab": [
     "pytorch"
    ]
   },
   "outputs": [
    {
     "data": {
      "text/plain": [
       "tensor([True, True, True, True])"
      ]
     },
     "execution_count": 5,
     "metadata": {},
     "output_type": "execute_result"
    }
   ],
   "source": [
    "x.grad == 4 * x"
   ]
  },
  {
   "cell_type": "markdown",
   "id": "cf8b1ef5",
   "metadata": {
    "slideshow": {
     "slide_type": "slide"
    }
   },
   "source": [
    "Now let us calculate another function of `x`"
   ]
  },
  {
   "cell_type": "code",
   "execution_count": 6,
   "id": "a3834d52",
   "metadata": {
    "execution": {
     "iopub.execute_input": "2022-11-12T20:41:40.308390Z",
     "iopub.status.busy": "2022-11-12T20:41:40.308097Z",
     "iopub.status.idle": "2022-11-12T20:41:40.314606Z",
     "shell.execute_reply": "2022-11-12T20:41:40.313809Z"
    },
    "origin_pos": 22,
    "tab": [
     "pytorch"
    ]
   },
   "outputs": [
    {
     "data": {
      "text/plain": [
       "tensor([1., 1., 1., 1.])"
      ]
     },
     "execution_count": 6,
     "metadata": {},
     "output_type": "execute_result"
    }
   ],
   "source": [
    "x.grad.zero_()\n",
    "y = x.sum()\n",
    "y.backward()\n",
    "x.grad"
   ]
  },
  {
   "cell_type": "markdown",
   "id": "4ed9327b",
   "metadata": {
    "slideshow": {
     "slide_type": "slide"
    }
   },
   "source": [
    "In deep learning\n",
    "when we are calling backward on a vector,\n",
    "our intent is\n",
    "the sum of the partial derivatives\n",
    "computed individually for each example"
   ]
  },
  {
   "cell_type": "code",
   "execution_count": 7,
   "id": "a8268e16",
   "metadata": {
    "execution": {
     "iopub.execute_input": "2022-11-12T20:41:40.319377Z",
     "iopub.status.busy": "2022-11-12T20:41:40.318788Z",
     "iopub.status.idle": "2022-11-12T20:41:40.325194Z",
     "shell.execute_reply": "2022-11-12T20:41:40.324430Z"
    },
    "origin_pos": 26,
    "tab": [
     "pytorch"
    ]
   },
   "outputs": [
    {
     "data": {
      "text/plain": [
       "tensor([0., 2., 4., 6.])"
      ]
     },
     "execution_count": 7,
     "metadata": {},
     "output_type": "execute_result"
    }
   ],
   "source": [
    "x.grad.zero_()\n",
    "y = x * x\n",
    "y.sum().backward()\n",
    "x.grad"
   ]
  },
  {
   "cell_type": "markdown",
   "id": "d2a81a30",
   "metadata": {
    "slideshow": {
     "slide_type": "slide"
    }
   },
   "source": [
    "Move some calculations\n",
    "outside of the recorded computational graph"
   ]
  },
  {
   "cell_type": "code",
   "execution_count": 8,
   "id": "f05ea880",
   "metadata": {
    "execution": {
     "iopub.execute_input": "2022-11-12T20:41:40.329980Z",
     "iopub.status.busy": "2022-11-12T20:41:40.329391Z",
     "iopub.status.idle": "2022-11-12T20:41:40.335879Z",
     "shell.execute_reply": "2022-11-12T20:41:40.335078Z"
    },
    "origin_pos": 30,
    "tab": [
     "pytorch"
    ]
   },
   "outputs": [
    {
     "data": {
      "text/plain": [
       "tensor([True, True, True, True])"
      ]
     },
     "execution_count": 8,
     "metadata": {},
     "output_type": "execute_result"
    }
   ],
   "source": [
    "x.grad.zero_()\n",
    "y = x * x\n",
    "u = y.detach()\n",
    "z = u * x\n",
    "\n",
    "z.sum().backward()\n",
    "x.grad == u"
   ]
  },
  {
   "cell_type": "code",
   "execution_count": 9,
   "id": "92accd42",
   "metadata": {
    "execution": {
     "iopub.execute_input": "2022-11-12T20:41:40.340588Z",
     "iopub.status.busy": "2022-11-12T20:41:40.340003Z",
     "iopub.status.idle": "2022-11-12T20:41:40.345916Z",
     "shell.execute_reply": "2022-11-12T20:41:40.345149Z"
    },
    "origin_pos": 34,
    "tab": [
     "pytorch"
    ]
   },
   "outputs": [
    {
     "data": {
      "text/plain": [
       "tensor([True, True, True, True])"
      ]
     },
     "execution_count": 9,
     "metadata": {},
     "output_type": "execute_result"
    }
   ],
   "source": [
    "x.grad.zero_()\n",
    "y.sum().backward()\n",
    "x.grad == 2 * x"
   ]
  },
  {
   "cell_type": "markdown",
   "id": "47c67faf",
   "metadata": {
    "slideshow": {
     "slide_type": "slide"
    }
   },
   "source": [
    "Even if\n",
    "a function\n",
    "required passing through a maze of Python control flow\n",
    "we can still calculate the gradient of the resulting variable"
   ]
  },
  {
   "cell_type": "code",
   "execution_count": 12,
   "id": "4253564d",
   "metadata": {
    "execution": {
     "iopub.execute_input": "2022-11-12T20:41:40.366536Z",
     "iopub.status.busy": "2022-11-12T20:41:40.365955Z",
     "iopub.status.idle": "2022-11-12T20:41:40.371513Z",
     "shell.execute_reply": "2022-11-12T20:41:40.370671Z"
    },
    "origin_pos": 46,
    "tab": [
     "pytorch"
    ]
   },
   "outputs": [
    {
     "data": {
      "text/plain": [
       "tensor(True)"
      ]
     },
     "execution_count": 12,
     "metadata": {},
     "output_type": "execute_result"
    }
   ],
   "source": [
    "def f(a):\n",
    "    b = a * 2\n",
    "    while b.norm() < 1000:\n",
    "        b = b * 2\n",
    "    if b.sum() > 0:\n",
    "        c = b\n",
    "    else:\n",
    "        c = 100 * b\n",
    "    return c\n",
    "\n",
    "a = torch.randn(size=(), requires_grad=True)\n",
    "d = f(a)\n",
    "d.backward()\n",
    "\n",
    "a.grad == d / a"
   ]
  }
 ],
 "metadata": {
  "celltoolbar": "Slideshow",
  "language_info": {
   "name": "python"
  },
  "rise": {
   "autolaunch": true,
   "enable_chalkboard": true,
   "overlay": "<div class='my-top-right'><img height=80px src='http://d2l.ai/_static/logo-with-text.png'/></div><div class='my-top-left'></div>",
   "scroll": true
  }
 },
 "nbformat": 4,
 "nbformat_minor": 5
}