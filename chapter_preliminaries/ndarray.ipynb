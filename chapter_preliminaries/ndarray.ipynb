{
 "cells": [
  {
   "cell_type": "markdown",
   "id": "c7836f10",
   "metadata": {
    "slideshow": {
     "slide_type": "-"
    }
   },
   "source": [
    "# Data Manipulation\n",
    "\n"
   ]
  },
  {
   "cell_type": "markdown",
   "id": "615c0df8",
   "metadata": {
    "slideshow": {
     "slide_type": "-"
    }
   },
   "source": [
    "To start, we import `torch`. Note that though it's called PyTorch, we should\n",
    "import `torch` instead of `pytorch`"
   ]
  },
  {
   "cell_type": "code",
   "execution_count": 1,
   "id": "bb116442",
   "metadata": {
    "execution": {
     "iopub.execute_input": "2022-11-12T20:46:44.910595Z",
     "iopub.status.busy": "2022-11-12T20:46:44.909742Z",
     "iopub.status.idle": "2022-11-12T20:46:45.895158Z",
     "shell.execute_reply": "2022-11-12T20:46:45.894233Z"
    },
    "origin_pos": 5,
    "tab": [
     "pytorch"
    ]
   },
   "outputs": [],
   "source": [
    "import torch"
   ]
  },
  {
   "cell_type": "markdown",
   "id": "be27deac",
   "metadata": {
    "slideshow": {
     "slide_type": "slide"
    }
   },
   "source": [
    "A tensor represents a (possibly multi-dimensional) array of numerical values"
   ]
  },
  {
   "cell_type": "code",
   "execution_count": 2,
   "id": "526536fb",
   "metadata": {
    "execution": {
     "iopub.execute_input": "2022-11-12T20:46:45.900259Z",
     "iopub.status.busy": "2022-11-12T20:46:45.899278Z",
     "iopub.status.idle": "2022-11-12T20:46:45.916856Z",
     "shell.execute_reply": "2022-11-12T20:46:45.916039Z"
    },
    "origin_pos": 12,
    "tab": [
     "pytorch"
    ]
   },
   "outputs": [
    {
     "data": {
      "text/plain": [
       "tensor([ 0.,  1.,  2.,  3.,  4.,  5.,  6.,  7.,  8.,  9., 10., 11.])"
      ]
     },
     "execution_count": 2,
     "metadata": {},
     "output_type": "execute_result"
    }
   ],
   "source": [
    "x = torch.arange(12, dtype=torch.float32)\n",
    "x"
   ]
  },
  {
   "cell_type": "markdown",
   "id": "031452e6",
   "metadata": {
    "slideshow": {
     "slide_type": "-"
    }
   },
   "source": [
    "We can access a tensor's *shape*\n",
    "and the total number of elements"
   ]
  },
  {
   "cell_type": "code",
   "execution_count": 3,
   "id": "edebbd3a",
   "metadata": {
    "execution": {
     "iopub.execute_input": "2022-11-12T20:46:45.920328Z",
     "iopub.status.busy": "2022-11-12T20:46:45.919870Z",
     "iopub.status.idle": "2022-11-12T20:46:45.924880Z",
     "shell.execute_reply": "2022-11-12T20:46:45.924127Z"
    },
    "origin_pos": 15,
    "tab": [
     "pytorch"
    ]
   },
   "outputs": [
    {
     "data": {
      "text/plain": [
       "torch.Size([12])"
      ]
     },
     "execution_count": 3,
     "metadata": {},
     "output_type": "execute_result"
    }
   ],
   "source": [
    "x.shape"
   ]
  },
  {
   "cell_type": "code",
   "execution_count": 4,
   "id": "bf558403",
   "metadata": {
    "execution": {
     "iopub.execute_input": "2022-11-12T20:46:45.928977Z",
     "iopub.status.busy": "2022-11-12T20:46:45.928156Z",
     "iopub.status.idle": "2022-11-12T20:46:45.933316Z",
     "shell.execute_reply": "2022-11-12T20:46:45.932564Z"
    },
    "origin_pos": 18,
    "tab": [
     "pytorch"
    ]
   },
   "outputs": [
    {
     "data": {
      "text/plain": [
       "12"
      ]
     },
     "execution_count": 4,
     "metadata": {},
     "output_type": "execute_result"
    }
   ],
   "source": [
    "x.numel()"
   ]
  },
  {
   "cell_type": "markdown",
   "id": "844181db",
   "metadata": {
    "slideshow": {
     "slide_type": "slide"
    }
   },
   "source": [
    "Change the shape of a tensor without altering\n",
    "either the number of elements or their values"
   ]
  },
  {
   "cell_type": "code",
   "execution_count": 5,
   "id": "231d55bc",
   "metadata": {
    "execution": {
     "iopub.execute_input": "2022-11-12T20:46:45.936711Z",
     "iopub.status.busy": "2022-11-12T20:46:45.936266Z",
     "iopub.status.idle": "2022-11-12T20:46:45.942643Z",
     "shell.execute_reply": "2022-11-12T20:46:45.941878Z"
    },
    "origin_pos": 21,
    "tab": [
     "pytorch"
    ]
   },
   "outputs": [
    {
     "data": {
      "text/plain": [
       "tensor([[ 0.,  1.,  2.,  3.],\n",
       "        [ 4.,  5.,  6.,  7.],\n",
       "        [ 8.,  9., 10., 11.]])"
      ]
     },
     "execution_count": 5,
     "metadata": {},
     "output_type": "execute_result"
    }
   ],
   "source": [
    "X = x.reshape(3, 4)\n",
    "X"
   ]
  },
  {
   "cell_type": "markdown",
   "id": "8033bf61",
   "metadata": {
    "slideshow": {
     "slide_type": "slide"
    }
   },
   "source": [
    "We can create a tensor representing a tensor with all elements\n",
    "set to 0\n",
    "or 1"
   ]
  },
  {
   "cell_type": "code",
   "execution_count": 6,
   "id": "0daeb0ac",
   "metadata": {
    "execution": {
     "iopub.execute_input": "2022-11-12T20:46:45.947215Z",
     "iopub.status.busy": "2022-11-12T20:46:45.946419Z",
     "iopub.status.idle": "2022-11-12T20:46:45.953089Z",
     "shell.execute_reply": "2022-11-12T20:46:45.952335Z"
    },
    "origin_pos": 25,
    "tab": [
     "pytorch"
    ]
   },
   "outputs": [
    {
     "data": {
      "text/plain": [
       "tensor([[[0., 0., 0., 0.],\n",
       "         [0., 0., 0., 0.],\n",
       "         [0., 0., 0., 0.]],\n",
       "\n",
       "        [[0., 0., 0., 0.],\n",
       "         [0., 0., 0., 0.],\n",
       "         [0., 0., 0., 0.]]])"
      ]
     },
     "execution_count": 6,
     "metadata": {},
     "output_type": "execute_result"
    }
   ],
   "source": [
    "torch.zeros((2, 3, 4))"
   ]
  },
  {
   "cell_type": "code",
   "execution_count": 7,
   "id": "8ebd965b",
   "metadata": {
    "execution": {
     "iopub.execute_input": "2022-11-12T20:46:45.956591Z",
     "iopub.status.busy": "2022-11-12T20:46:45.956049Z",
     "iopub.status.idle": "2022-11-12T20:46:45.962935Z",
     "shell.execute_reply": "2022-11-12T20:46:45.961989Z"
    },
    "origin_pos": 29,
    "tab": [
     "pytorch"
    ]
   },
   "outputs": [
    {
     "data": {
      "text/plain": [
       "tensor([[[1., 1., 1., 1.],\n",
       "         [1., 1., 1., 1.],\n",
       "         [1., 1., 1., 1.]],\n",
       "\n",
       "        [[1., 1., 1., 1.],\n",
       "         [1., 1., 1., 1.],\n",
       "         [1., 1., 1., 1.]]])"
      ]
     },
     "execution_count": 7,
     "metadata": {},
     "output_type": "execute_result"
    }
   ],
   "source": [
    "torch.ones((2, 3, 4))"
   ]
  },
  {
   "cell_type": "markdown",
   "id": "1d941ceb",
   "metadata": {
    "slideshow": {
     "slide_type": "slide"
    }
   },
   "source": [
    "Randomly sample the values\n",
    "for each element in a tensor"
   ]
  },
  {
   "cell_type": "code",
   "execution_count": 8,
   "id": "651d2586",
   "metadata": {
    "execution": {
     "iopub.execute_input": "2022-11-12T20:46:45.967436Z",
     "iopub.status.busy": "2022-11-12T20:46:45.966595Z",
     "iopub.status.idle": "2022-11-12T20:46:45.972793Z",
     "shell.execute_reply": "2022-11-12T20:46:45.972025Z"
    },
    "origin_pos": 33,
    "tab": [
     "pytorch"
    ]
   },
   "outputs": [
    {
     "data": {
      "text/plain": [
       "tensor([[-0.6715, -0.2678,  0.1801,  0.3640],\n",
       "        [ 0.8030,  0.5554, -1.0327,  0.1885],\n",
       "        [-1.1527, -1.7143,  0.6783, -0.3666]])"
      ]
     },
     "execution_count": 8,
     "metadata": {},
     "output_type": "execute_result"
    }
   ],
   "source": [
    "torch.randn(3, 4)"
   ]
  },
  {
   "cell_type": "markdown",
   "id": "dbf44cdd",
   "metadata": {
    "slideshow": {
     "slide_type": "slide"
    }
   },
   "source": [
    "Specify the exact values for each element"
   ]
  },
  {
   "cell_type": "code",
   "execution_count": 9,
   "id": "fc740b26",
   "metadata": {
    "execution": {
     "iopub.execute_input": "2022-11-12T20:46:45.976458Z",
     "iopub.status.busy": "2022-11-12T20:46:45.975694Z",
     "iopub.status.idle": "2022-11-12T20:46:45.983446Z",
     "shell.execute_reply": "2022-11-12T20:46:45.982438Z"
    },
    "origin_pos": 37,
    "tab": [
     "pytorch"
    ]
   },
   "outputs": [
    {
     "data": {
      "text/plain": [
       "tensor([[2, 1, 4, 3],\n",
       "        [1, 2, 3, 4],\n",
       "        [4, 3, 2, 1]])"
      ]
     },
     "execution_count": 9,
     "metadata": {},
     "output_type": "execute_result"
    }
   ],
   "source": [
    "torch.tensor([[2, 1, 4, 3], [1, 2, 3, 4], [4, 3, 2, 1]])"
   ]
  },
  {
   "cell_type": "markdown",
   "id": "6c887c47",
   "metadata": {
    "slideshow": {
     "slide_type": "slide"
    }
   },
   "source": [
    "The common standard arithmetic operators\n",
    "(`+`, `-`, `*`, `/`, and `**`)\n",
    "have all been *lifted* to elementwise operations"
   ]
  },
  {
   "cell_type": "code",
   "execution_count": 10,
   "id": "d6de58af",
   "metadata": {
    "execution": {
     "iopub.execute_input": "2022-11-12T20:46:45.987965Z",
     "iopub.status.busy": "2022-11-12T20:46:45.987222Z",
     "iopub.status.idle": "2022-11-12T20:46:45.996977Z",
     "shell.execute_reply": "2022-11-12T20:46:45.996056Z"
    },
    "origin_pos": 41,
    "tab": [
     "pytorch"
    ]
   },
   "outputs": [
    {
     "data": {
      "text/plain": [
       "(tensor([ 3.,  4.,  6., 10.]),\n",
       " tensor([-1.,  0.,  2.,  6.]),\n",
       " tensor([ 2.,  4.,  8., 16.]),\n",
       " tensor([0.5000, 1.0000, 2.0000, 4.0000]),\n",
       " tensor([ 1.,  4., 16., 64.]))"
      ]
     },
     "execution_count": 10,
     "metadata": {},
     "output_type": "execute_result"
    }
   ],
   "source": [
    "x = torch.tensor([1.0, 2, 4, 8])\n",
    "y = torch.tensor([2, 2, 2, 2])\n",
    "x + y, x - y, x * y, x / y, x ** y"
   ]
  },
  {
   "cell_type": "markdown",
   "id": "45fc041b",
   "metadata": {
    "slideshow": {
     "slide_type": "-"
    }
   },
   "source": [
    "More operations can be applied elementwise"
   ]
  },
  {
   "cell_type": "code",
   "execution_count": 11,
   "id": "4a17bfdf",
   "metadata": {
    "execution": {
     "iopub.execute_input": "2022-11-12T20:46:46.001059Z",
     "iopub.status.busy": "2022-11-12T20:46:46.000524Z",
     "iopub.status.idle": "2022-11-12T20:46:46.006631Z",
     "shell.execute_reply": "2022-11-12T20:46:46.005859Z"
    },
    "origin_pos": 45,
    "tab": [
     "pytorch"
    ]
   },
   "outputs": [
    {
     "data": {
      "text/plain": [
       "tensor([2.7183e+00, 7.3891e+00, 5.4598e+01, 2.9810e+03])"
      ]
     },
     "execution_count": 11,
     "metadata": {},
     "output_type": "execute_result"
    }
   ],
   "source": [
    "torch.exp(x)"
   ]
  },
  {
   "cell_type": "markdown",
   "id": "3c7eb106",
   "metadata": {
    "slideshow": {
     "slide_type": "slide"
    }
   },
   "source": [
    "*concatenate* multiple tensors together"
   ]
  },
  {
   "cell_type": "code",
   "execution_count": 12,
   "id": "3ebeb98d",
   "metadata": {
    "execution": {
     "iopub.execute_input": "2022-11-12T20:46:46.010773Z",
     "iopub.status.busy": "2022-11-12T20:46:46.010135Z",
     "iopub.status.idle": "2022-11-12T20:46:46.020506Z",
     "shell.execute_reply": "2022-11-12T20:46:46.019697Z"
    },
    "origin_pos": 49,
    "tab": [
     "pytorch"
    ]
   },
   "outputs": [
    {
     "data": {
      "text/plain": [
       "(tensor([[ 0.,  1.,  2.,  3.],\n",
       "         [ 4.,  5.,  6.,  7.],\n",
       "         [ 8.,  9., 10., 11.],\n",
       "         [ 2.,  1.,  4.,  3.],\n",
       "         [ 1.,  2.,  3.,  4.],\n",
       "         [ 4.,  3.,  2.,  1.]]),\n",
       " tensor([[ 0.,  1.,  2.,  3.,  2.,  1.,  4.,  3.],\n",
       "         [ 4.,  5.,  6.,  7.,  1.,  2.,  3.,  4.],\n",
       "         [ 8.,  9., 10., 11.,  4.,  3.,  2.,  1.]]))"
      ]
     },
     "execution_count": 12,
     "metadata": {},
     "output_type": "execute_result"
    }
   ],
   "source": [
    "X = torch.arange(12, dtype=torch.float32).reshape((3,4))\n",
    "Y = torch.tensor([[2.0, 1, 4, 3], [1, 2, 3, 4], [4, 3, 2, 1]])\n",
    "torch.cat((X, Y), dim=0), torch.cat((X, Y), dim=1)"
   ]
  },
  {
   "cell_type": "markdown",
   "id": "337b39b8",
   "metadata": {
    "slideshow": {
     "slide_type": "slide"
    }
   },
   "source": [
    "Construct a binary tensor via *logical statements*"
   ]
  },
  {
   "cell_type": "code",
   "execution_count": 13,
   "id": "407d9749",
   "metadata": {
    "execution": {
     "iopub.execute_input": "2022-11-12T20:46:46.024035Z",
     "iopub.status.busy": "2022-11-12T20:46:46.023504Z",
     "iopub.status.idle": "2022-11-12T20:46:46.029589Z",
     "shell.execute_reply": "2022-11-12T20:46:46.028637Z"
    },
    "origin_pos": 52,
    "tab": [
     "pytorch"
    ]
   },
   "outputs": [
    {
     "data": {
      "text/plain": [
       "tensor([[False,  True, False,  True],\n",
       "        [False, False, False, False],\n",
       "        [False, False, False, False]])"
      ]
     },
     "execution_count": 13,
     "metadata": {},
     "output_type": "execute_result"
    }
   ],
   "source": [
    "X == Y"
   ]
  },
  {
   "cell_type": "markdown",
   "id": "81e71dc7",
   "metadata": {
    "slideshow": {
     "slide_type": "slide"
    }
   },
   "source": [
    "Summing all the elements in the tensor"
   ]
  },
  {
   "cell_type": "code",
   "execution_count": 14,
   "id": "e45dfb01",
   "metadata": {
    "execution": {
     "iopub.execute_input": "2022-11-12T20:46:46.033752Z",
     "iopub.status.busy": "2022-11-12T20:46:46.033038Z",
     "iopub.status.idle": "2022-11-12T20:46:46.039548Z",
     "shell.execute_reply": "2022-11-12T20:46:46.038606Z"
    },
    "origin_pos": 54,
    "tab": [
     "pytorch"
    ]
   },
   "outputs": [
    {
     "data": {
      "text/plain": [
       "tensor(66.)"
      ]
     },
     "execution_count": 14,
     "metadata": {},
     "output_type": "execute_result"
    }
   ],
   "source": [
    "X.sum()"
   ]
  },
  {
   "cell_type": "markdown",
   "id": "9d6e0938",
   "metadata": {
    "slideshow": {
     "slide_type": "slide"
    }
   },
   "source": [
    "Perform elementwise operations\n",
    "by invoking the *broadcasting mechanism*"
   ]
  },
  {
   "cell_type": "code",
   "execution_count": 15,
   "id": "7a2d8996",
   "metadata": {
    "execution": {
     "iopub.execute_input": "2022-11-12T20:46:46.043459Z",
     "iopub.status.busy": "2022-11-12T20:46:46.042633Z",
     "iopub.status.idle": "2022-11-12T20:46:46.050093Z",
     "shell.execute_reply": "2022-11-12T20:46:46.049100Z"
    },
    "origin_pos": 58,
    "tab": [
     "pytorch"
    ]
   },
   "outputs": [
    {
     "data": {
      "text/plain": [
       "(tensor([[0],\n",
       "         [1],\n",
       "         [2]]),\n",
       " tensor([[0, 1]]))"
      ]
     },
     "execution_count": 15,
     "metadata": {},
     "output_type": "execute_result"
    }
   ],
   "source": [
    "a = torch.arange(3).reshape((3, 1))\n",
    "b = torch.arange(2).reshape((1, 2))\n",
    "a, b"
   ]
  },
  {
   "cell_type": "code",
   "execution_count": 16,
   "id": "8f4297f9",
   "metadata": {
    "execution": {
     "iopub.execute_input": "2022-11-12T20:46:46.054345Z",
     "iopub.status.busy": "2022-11-12T20:46:46.053603Z",
     "iopub.status.idle": "2022-11-12T20:46:46.059968Z",
     "shell.execute_reply": "2022-11-12T20:46:46.058950Z"
    },
    "origin_pos": 61,
    "tab": [
     "pytorch"
    ]
   },
   "outputs": [
    {
     "data": {
      "text/plain": [
       "tensor([[0, 1],\n",
       "        [1, 2],\n",
       "        [2, 3]])"
      ]
     },
     "execution_count": 16,
     "metadata": {},
     "output_type": "execute_result"
    }
   ],
   "source": [
    "a + b"
   ]
  },
  {
   "cell_type": "markdown",
   "id": "4da32381",
   "metadata": {
    "slideshow": {
     "slide_type": "slide"
    }
   },
   "source": [
    "`[-1]` selects the last element and `[1:3]`\n",
    "selects the second and the third elements"
   ]
  },
  {
   "cell_type": "code",
   "execution_count": 17,
   "id": "274eed68",
   "metadata": {
    "execution": {
     "iopub.execute_input": "2022-11-12T20:46:46.064271Z",
     "iopub.status.busy": "2022-11-12T20:46:46.063738Z",
     "iopub.status.idle": "2022-11-12T20:46:46.070944Z",
     "shell.execute_reply": "2022-11-12T20:46:46.070112Z"
    },
    "origin_pos": 63,
    "tab": [
     "pytorch"
    ]
   },
   "outputs": [
    {
     "data": {
      "text/plain": [
       "(tensor([ 8.,  9., 10., 11.]),\n",
       " tensor([[ 4.,  5.,  6.,  7.],\n",
       "         [ 8.,  9., 10., 11.]]))"
      ]
     },
     "execution_count": 17,
     "metadata": {},
     "output_type": "execute_result"
    }
   ],
   "source": [
    "X[-1], X[1:3]"
   ]
  },
  {
   "cell_type": "markdown",
   "id": "aae766be",
   "metadata": {
    "slideshow": {
     "slide_type": "-"
    }
   },
   "source": [
    "We can also write elements of a matrix by specifying indices"
   ]
  },
  {
   "cell_type": "code",
   "execution_count": 18,
   "id": "c7c0f890",
   "metadata": {
    "execution": {
     "iopub.execute_input": "2022-11-12T20:46:46.074395Z",
     "iopub.status.busy": "2022-11-12T20:46:46.073872Z",
     "iopub.status.idle": "2022-11-12T20:46:46.080610Z",
     "shell.execute_reply": "2022-11-12T20:46:46.079582Z"
    },
    "origin_pos": 66,
    "tab": [
     "pytorch"
    ]
   },
   "outputs": [
    {
     "data": {
      "text/plain": [
       "tensor([[ 0.,  1.,  2.,  3.],\n",
       "        [ 4.,  5.,  9.,  7.],\n",
       "        [ 8.,  9., 10., 11.]])"
      ]
     },
     "execution_count": 18,
     "metadata": {},
     "output_type": "execute_result"
    }
   ],
   "source": [
    "X[1, 2] = 9\n",
    "X"
   ]
  },
  {
   "cell_type": "markdown",
   "id": "83e076e1",
   "metadata": {
    "slideshow": {
     "slide_type": "slide"
    }
   },
   "source": [
    "To assign multiple elements the same value,\n",
    "we simply index all of them and then assign them the value"
   ]
  },
  {
   "cell_type": "code",
   "execution_count": 19,
   "id": "5399f80c",
   "metadata": {
    "execution": {
     "iopub.execute_input": "2022-11-12T20:46:46.086354Z",
     "iopub.status.busy": "2022-11-12T20:46:46.085551Z",
     "iopub.status.idle": "2022-11-12T20:46:46.093566Z",
     "shell.execute_reply": "2022-11-12T20:46:46.092537Z"
    },
    "origin_pos": 69,
    "tab": [
     "pytorch"
    ]
   },
   "outputs": [
    {
     "data": {
      "text/plain": [
       "tensor([[12., 12., 12., 12.],\n",
       "        [12., 12., 12., 12.],\n",
       "        [ 8.,  9., 10., 11.]])"
      ]
     },
     "execution_count": 19,
     "metadata": {},
     "output_type": "execute_result"
    }
   ],
   "source": [
    "X[0:2, :] = 12\n",
    "X"
   ]
  },
  {
   "cell_type": "markdown",
   "id": "2dd1ad27",
   "metadata": {
    "slideshow": {
     "slide_type": "slide"
    }
   },
   "source": [
    "Running operations can cause new memory to be\n",
    "allocated to host results"
   ]
  },
  {
   "cell_type": "code",
   "execution_count": 20,
   "id": "fa2c5fc2",
   "metadata": {
    "execution": {
     "iopub.execute_input": "2022-11-12T20:46:46.098100Z",
     "iopub.status.busy": "2022-11-12T20:46:46.097551Z",
     "iopub.status.idle": "2022-11-12T20:46:46.103327Z",
     "shell.execute_reply": "2022-11-12T20:46:46.102516Z"
    },
    "origin_pos": 72,
    "tab": [
     "pytorch"
    ]
   },
   "outputs": [
    {
     "data": {
      "text/plain": [
       "False"
      ]
     },
     "execution_count": 20,
     "metadata": {},
     "output_type": "execute_result"
    }
   ],
   "source": [
    "before = id(Y)\n",
    "Y = Y + X\n",
    "id(Y) == before"
   ]
  },
  {
   "cell_type": "markdown",
   "id": "8bea02d3",
   "metadata": {
    "slideshow": {
     "slide_type": "-"
    }
   },
   "source": [
    "Performing in-place operations"
   ]
  },
  {
   "cell_type": "code",
   "execution_count": 21,
   "id": "a9df48f0",
   "metadata": {
    "execution": {
     "iopub.execute_input": "2022-11-12T20:46:46.107248Z",
     "iopub.status.busy": "2022-11-12T20:46:46.106689Z",
     "iopub.status.idle": "2022-11-12T20:46:46.112219Z",
     "shell.execute_reply": "2022-11-12T20:46:46.111393Z"
    },
    "origin_pos": 77,
    "tab": [
     "pytorch"
    ]
   },
   "outputs": [
    {
     "name": "stdout",
     "output_type": "stream",
     "text": [
      "id(Z): 139771322421872\n",
      "id(Z): 139771322421872\n"
     ]
    }
   ],
   "source": [
    "Z = torch.zeros_like(Y)\n",
    "print('id(Z):', id(Z))\n",
    "Z[:] = X + Y\n",
    "print('id(Z):', id(Z))"
   ]
  },
  {
   "cell_type": "markdown",
   "id": "5ed13be1",
   "metadata": {
    "slideshow": {
     "slide_type": "slide"
    }
   },
   "source": [
    "If the value of `X` is not reused in subsequent computations,\n",
    "we can also use `X[:] = X + Y` or `X += Y`\n",
    "to reduce the memory overhead of the operation"
   ]
  },
  {
   "cell_type": "code",
   "execution_count": 22,
   "id": "d70d5c2c",
   "metadata": {
    "execution": {
     "iopub.execute_input": "2022-11-12T20:46:46.115923Z",
     "iopub.status.busy": "2022-11-12T20:46:46.115262Z",
     "iopub.status.idle": "2022-11-12T20:46:46.120803Z",
     "shell.execute_reply": "2022-11-12T20:46:46.120029Z"
    },
    "origin_pos": 81,
    "tab": [
     "pytorch"
    ]
   },
   "outputs": [
    {
     "data": {
      "text/plain": [
       "True"
      ]
     },
     "execution_count": 22,
     "metadata": {},
     "output_type": "execute_result"
    }
   ],
   "source": [
    "before = id(X)\n",
    "X += Y\n",
    "id(X) == before"
   ]
  },
  {
   "cell_type": "markdown",
   "id": "4f2f1492",
   "metadata": {
    "slideshow": {
     "slide_type": "slide"
    }
   },
   "source": [
    "Converting to a NumPy tensor (`ndarray`)"
   ]
  },
  {
   "cell_type": "code",
   "execution_count": 23,
   "id": "2dae03d6",
   "metadata": {
    "execution": {
     "iopub.execute_input": "2022-11-12T20:46:46.124529Z",
     "iopub.status.busy": "2022-11-12T20:46:46.123945Z",
     "iopub.status.idle": "2022-11-12T20:46:46.129611Z",
     "shell.execute_reply": "2022-11-12T20:46:46.128789Z"
    },
    "origin_pos": 87,
    "tab": [
     "pytorch"
    ]
   },
   "outputs": [
    {
     "data": {
      "text/plain": [
       "(numpy.ndarray, torch.Tensor)"
      ]
     },
     "execution_count": 23,
     "metadata": {},
     "output_type": "execute_result"
    }
   ],
   "source": [
    "A = X.numpy()\n",
    "B = torch.from_numpy(A)\n",
    "type(A), type(B)"
   ]
  },
  {
   "cell_type": "markdown",
   "id": "0e5b8a16",
   "metadata": {
    "slideshow": {
     "slide_type": "-"
    }
   },
   "source": [
    "Convert a size-1 tensor to a Python scalar"
   ]
  },
  {
   "cell_type": "code",
   "execution_count": 24,
   "id": "f51c089e",
   "metadata": {
    "execution": {
     "iopub.execute_input": "2022-11-12T20:46:46.133190Z",
     "iopub.status.busy": "2022-11-12T20:46:46.132622Z",
     "iopub.status.idle": "2022-11-12T20:46:46.138887Z",
     "shell.execute_reply": "2022-11-12T20:46:46.138071Z"
    },
    "origin_pos": 91,
    "tab": [
     "pytorch"
    ]
   },
   "outputs": [
    {
     "data": {
      "text/plain": [
       "(tensor([3.5000]), 3.5, 3.5, 3)"
      ]
     },
     "execution_count": 24,
     "metadata": {},
     "output_type": "execute_result"
    }
   ],
   "source": [
    "a = torch.tensor([3.5])\n",
    "a, a.item(), float(a), int(a)"
   ]
  }
 ],
 "metadata": {
  "celltoolbar": "Slideshow",
  "language_info": {
   "name": "python"
  },
  "rise": {
   "autolaunch": true,
   "enable_chalkboard": true,
   "overlay": "<div class='my-top-right'><img height=80px src='http://d2l.ai/_static/logo-with-text.png'/></div><div class='my-top-left'></div>",
   "scroll": true
  }
 },
 "nbformat": 4,
 "nbformat_minor": 5
}