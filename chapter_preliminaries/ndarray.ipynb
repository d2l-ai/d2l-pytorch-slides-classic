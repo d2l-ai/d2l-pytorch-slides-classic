{
 "cells": [
  {
   "cell_type": "markdown",
   "id": "6e0255ea",
   "metadata": {
    "slideshow": {
     "slide_type": "-"
    }
   },
   "source": [
    "# Data Manipulation\n",
    "\n"
   ]
  },
  {
   "cell_type": "markdown",
   "id": "9576f545",
   "metadata": {
    "slideshow": {
     "slide_type": "-"
    }
   },
   "source": [
    "To start, we import `torch`. Note that though it's called PyTorch, we should\n",
    "import `torch` instead of `pytorch`"
   ]
  },
  {
   "cell_type": "code",
   "execution_count": 1,
   "id": "5d1a1809",
   "metadata": {
    "execution": {
     "iopub.execute_input": "2022-07-10T03:00:19.443067Z",
     "iopub.status.busy": "2022-07-10T03:00:19.442134Z",
     "iopub.status.idle": "2022-07-10T03:00:20.286204Z",
     "shell.execute_reply": "2022-07-10T03:00:20.285272Z"
    },
    "origin_pos": 5,
    "tab": [
     "pytorch"
    ]
   },
   "outputs": [],
   "source": [
    "import torch"
   ]
  },
  {
   "cell_type": "markdown",
   "id": "dda972ae",
   "metadata": {
    "slideshow": {
     "slide_type": "slide"
    }
   },
   "source": [
    "A tensor represents a (possibly multi-dimensional) array of numerical values"
   ]
  },
  {
   "cell_type": "code",
   "execution_count": 2,
   "id": "4be9e4b5",
   "metadata": {
    "execution": {
     "iopub.execute_input": "2022-07-10T03:00:20.290722Z",
     "iopub.status.busy": "2022-07-10T03:00:20.290002Z",
     "iopub.status.idle": "2022-07-10T03:00:20.303652Z",
     "shell.execute_reply": "2022-07-10T03:00:20.302821Z"
    },
    "origin_pos": 12,
    "tab": [
     "pytorch"
    ]
   },
   "outputs": [
    {
     "data": {
      "text/plain": [
       "tensor([ 0.,  1.,  2.,  3.,  4.,  5.,  6.,  7.,  8.,  9., 10., 11.])"
      ]
     },
     "execution_count": 2,
     "metadata": {},
     "output_type": "execute_result"
    }
   ],
   "source": [
    "x = torch.arange(12, dtype=torch.float32)\n",
    "x"
   ]
  },
  {
   "cell_type": "markdown",
   "id": "1ca8f9f4",
   "metadata": {
    "slideshow": {
     "slide_type": "-"
    }
   },
   "source": [
    "We can access a tensor's *shape*\n",
    "and the total number of elements"
   ]
  },
  {
   "cell_type": "code",
   "execution_count": 3,
   "id": "e2400837",
   "metadata": {
    "execution": {
     "iopub.execute_input": "2022-07-10T03:00:20.307073Z",
     "iopub.status.busy": "2022-07-10T03:00:20.306609Z",
     "iopub.status.idle": "2022-07-10T03:00:20.311839Z",
     "shell.execute_reply": "2022-07-10T03:00:20.311014Z"
    },
    "origin_pos": 15,
    "tab": [
     "pytorch"
    ]
   },
   "outputs": [
    {
     "data": {
      "text/plain": [
       "torch.Size([12])"
      ]
     },
     "execution_count": 3,
     "metadata": {},
     "output_type": "execute_result"
    }
   ],
   "source": [
    "x.shape"
   ]
  },
  {
   "cell_type": "code",
   "execution_count": 4,
   "id": "be87c4e4",
   "metadata": {
    "execution": {
     "iopub.execute_input": "2022-07-10T03:00:20.315182Z",
     "iopub.status.busy": "2022-07-10T03:00:20.314701Z",
     "iopub.status.idle": "2022-07-10T03:00:20.319892Z",
     "shell.execute_reply": "2022-07-10T03:00:20.319066Z"
    },
    "origin_pos": 18,
    "tab": [
     "pytorch"
    ]
   },
   "outputs": [
    {
     "data": {
      "text/plain": [
       "12"
      ]
     },
     "execution_count": 4,
     "metadata": {},
     "output_type": "execute_result"
    }
   ],
   "source": [
    "x.numel()"
   ]
  },
  {
   "cell_type": "markdown",
   "id": "d4092ef6",
   "metadata": {
    "slideshow": {
     "slide_type": "slide"
    }
   },
   "source": [
    "Change the shape of a tensor without altering\n",
    "either the number of elements or their values"
   ]
  },
  {
   "cell_type": "code",
   "execution_count": 5,
   "id": "f4fc8908",
   "metadata": {
    "execution": {
     "iopub.execute_input": "2022-07-10T03:00:20.323433Z",
     "iopub.status.busy": "2022-07-10T03:00:20.322738Z",
     "iopub.status.idle": "2022-07-10T03:00:20.328638Z",
     "shell.execute_reply": "2022-07-10T03:00:20.327832Z"
    },
    "origin_pos": 21,
    "tab": [
     "pytorch"
    ]
   },
   "outputs": [
    {
     "data": {
      "text/plain": [
       "tensor([[ 0.,  1.,  2.,  3.],\n",
       "        [ 4.,  5.,  6.,  7.],\n",
       "        [ 8.,  9., 10., 11.]])"
      ]
     },
     "execution_count": 5,
     "metadata": {},
     "output_type": "execute_result"
    }
   ],
   "source": [
    "X = x.reshape(3, 4)\n",
    "X"
   ]
  },
  {
   "cell_type": "markdown",
   "id": "db3062c5",
   "metadata": {
    "slideshow": {
     "slide_type": "slide"
    }
   },
   "source": [
    "We can create a tensor representing a tensor with all elements\n",
    "set to 0\n",
    "or 1"
   ]
  },
  {
   "cell_type": "code",
   "execution_count": 6,
   "id": "1243bffe",
   "metadata": {
    "execution": {
     "iopub.execute_input": "2022-07-10T03:00:20.332039Z",
     "iopub.status.busy": "2022-07-10T03:00:20.331480Z",
     "iopub.status.idle": "2022-07-10T03:00:20.337290Z",
     "shell.execute_reply": "2022-07-10T03:00:20.336428Z"
    },
    "origin_pos": 25,
    "tab": [
     "pytorch"
    ]
   },
   "outputs": [
    {
     "data": {
      "text/plain": [
       "tensor([[[0., 0., 0., 0.],\n",
       "         [0., 0., 0., 0.],\n",
       "         [0., 0., 0., 0.]],\n",
       "\n",
       "        [[0., 0., 0., 0.],\n",
       "         [0., 0., 0., 0.],\n",
       "         [0., 0., 0., 0.]]])"
      ]
     },
     "execution_count": 6,
     "metadata": {},
     "output_type": "execute_result"
    }
   ],
   "source": [
    "torch.zeros((2, 3, 4))"
   ]
  },
  {
   "cell_type": "code",
   "execution_count": 7,
   "id": "960c801b",
   "metadata": {
    "execution": {
     "iopub.execute_input": "2022-07-10T03:00:20.340857Z",
     "iopub.status.busy": "2022-07-10T03:00:20.340308Z",
     "iopub.status.idle": "2022-07-10T03:00:20.346563Z",
     "shell.execute_reply": "2022-07-10T03:00:20.345739Z"
    },
    "origin_pos": 29,
    "tab": [
     "pytorch"
    ]
   },
   "outputs": [
    {
     "data": {
      "text/plain": [
       "tensor([[[1., 1., 1., 1.],\n",
       "         [1., 1., 1., 1.],\n",
       "         [1., 1., 1., 1.]],\n",
       "\n",
       "        [[1., 1., 1., 1.],\n",
       "         [1., 1., 1., 1.],\n",
       "         [1., 1., 1., 1.]]])"
      ]
     },
     "execution_count": 7,
     "metadata": {},
     "output_type": "execute_result"
    }
   ],
   "source": [
    "torch.ones((2, 3, 4))"
   ]
  },
  {
   "cell_type": "markdown",
   "id": "33618a9e",
   "metadata": {
    "slideshow": {
     "slide_type": "slide"
    }
   },
   "source": [
    "Randomly sample the values\n",
    "for each element in a tensor"
   ]
  },
  {
   "cell_type": "code",
   "execution_count": 8,
   "id": "abffe14d",
   "metadata": {
    "execution": {
     "iopub.execute_input": "2022-07-10T03:00:20.349979Z",
     "iopub.status.busy": "2022-07-10T03:00:20.349418Z",
     "iopub.status.idle": "2022-07-10T03:00:20.355373Z",
     "shell.execute_reply": "2022-07-10T03:00:20.354552Z"
    },
    "origin_pos": 33,
    "tab": [
     "pytorch"
    ]
   },
   "outputs": [
    {
     "data": {
      "text/plain": [
       "tensor([[ 0.2331, -0.9321, -0.7244,  0.3115],\n",
       "        [ 0.8499, -0.9536,  0.5178, -0.0788],\n",
       "        [ 0.2444, -1.6190,  0.7674, -0.1264]])"
      ]
     },
     "execution_count": 8,
     "metadata": {},
     "output_type": "execute_result"
    }
   ],
   "source": [
    "torch.randn(3, 4)"
   ]
  },
  {
   "cell_type": "markdown",
   "id": "6d14e839",
   "metadata": {
    "slideshow": {
     "slide_type": "slide"
    }
   },
   "source": [
    "Specify the exact values for each element"
   ]
  },
  {
   "cell_type": "code",
   "execution_count": 9,
   "id": "4a648877",
   "metadata": {
    "execution": {
     "iopub.execute_input": "2022-07-10T03:00:20.358876Z",
     "iopub.status.busy": "2022-07-10T03:00:20.358339Z",
     "iopub.status.idle": "2022-07-10T03:00:20.364457Z",
     "shell.execute_reply": "2022-07-10T03:00:20.363637Z"
    },
    "origin_pos": 37,
    "tab": [
     "pytorch"
    ]
   },
   "outputs": [
    {
     "data": {
      "text/plain": [
       "tensor([[2, 1, 4, 3],\n",
       "        [1, 2, 3, 4],\n",
       "        [4, 3, 2, 1]])"
      ]
     },
     "execution_count": 9,
     "metadata": {},
     "output_type": "execute_result"
    }
   ],
   "source": [
    "torch.tensor([[2, 1, 4, 3], [1, 2, 3, 4], [4, 3, 2, 1]])"
   ]
  },
  {
   "cell_type": "markdown",
   "id": "22fff269",
   "metadata": {
    "slideshow": {
     "slide_type": "slide"
    }
   },
   "source": [
    "The common standard arithmetic operators\n",
    "(`+`, `-`, `*`, `/`, and `**`)\n",
    "have all been *lifted* to elementwise operations"
   ]
  },
  {
   "cell_type": "code",
   "execution_count": 10,
   "id": "7996fcd5",
   "metadata": {
    "execution": {
     "iopub.execute_input": "2022-07-10T03:00:20.367851Z",
     "iopub.status.busy": "2022-07-10T03:00:20.367324Z",
     "iopub.status.idle": "2022-07-10T03:00:20.375411Z",
     "shell.execute_reply": "2022-07-10T03:00:20.374582Z"
    },
    "origin_pos": 41,
    "tab": [
     "pytorch"
    ]
   },
   "outputs": [
    {
     "data": {
      "text/plain": [
       "(tensor([ 3.,  4.,  6., 10.]),\n",
       " tensor([-1.,  0.,  2.,  6.]),\n",
       " tensor([ 2.,  4.,  8., 16.]),\n",
       " tensor([0.5000, 1.0000, 2.0000, 4.0000]),\n",
       " tensor([ 1.,  4., 16., 64.]))"
      ]
     },
     "execution_count": 10,
     "metadata": {},
     "output_type": "execute_result"
    }
   ],
   "source": [
    "x = torch.tensor([1.0, 2, 4, 8])\n",
    "y = torch.tensor([2, 2, 2, 2])\n",
    "x + y, x - y, x * y, x / y, x ** y"
   ]
  },
  {
   "cell_type": "markdown",
   "id": "4e387e9b",
   "metadata": {
    "slideshow": {
     "slide_type": "-"
    }
   },
   "source": [
    "More operations can be applied elementwise"
   ]
  },
  {
   "cell_type": "code",
   "execution_count": 11,
   "id": "af345832",
   "metadata": {
    "execution": {
     "iopub.execute_input": "2022-07-10T03:00:20.378865Z",
     "iopub.status.busy": "2022-07-10T03:00:20.378305Z",
     "iopub.status.idle": "2022-07-10T03:00:20.384059Z",
     "shell.execute_reply": "2022-07-10T03:00:20.383244Z"
    },
    "origin_pos": 45,
    "tab": [
     "pytorch"
    ]
   },
   "outputs": [
    {
     "data": {
      "text/plain": [
       "tensor([2.7183e+00, 7.3891e+00, 5.4598e+01, 2.9810e+03])"
      ]
     },
     "execution_count": 11,
     "metadata": {},
     "output_type": "execute_result"
    }
   ],
   "source": [
    "torch.exp(x)"
   ]
  },
  {
   "cell_type": "markdown",
   "id": "9cb66de2",
   "metadata": {
    "slideshow": {
     "slide_type": "slide"
    }
   },
   "source": [
    "*concatenate* multiple tensors together"
   ]
  },
  {
   "cell_type": "code",
   "execution_count": 12,
   "id": "22b785f8",
   "metadata": {
    "execution": {
     "iopub.execute_input": "2022-07-10T03:00:20.387616Z",
     "iopub.status.busy": "2022-07-10T03:00:20.387049Z",
     "iopub.status.idle": "2022-07-10T03:00:20.395381Z",
     "shell.execute_reply": "2022-07-10T03:00:20.394563Z"
    },
    "origin_pos": 49,
    "tab": [
     "pytorch"
    ]
   },
   "outputs": [
    {
     "data": {
      "text/plain": [
       "(tensor([[ 0.,  1.,  2.,  3.],\n",
       "         [ 4.,  5.,  6.,  7.],\n",
       "         [ 8.,  9., 10., 11.],\n",
       "         [ 2.,  1.,  4.,  3.],\n",
       "         [ 1.,  2.,  3.,  4.],\n",
       "         [ 4.,  3.,  2.,  1.]]),\n",
       " tensor([[ 0.,  1.,  2.,  3.,  2.,  1.,  4.,  3.],\n",
       "         [ 4.,  5.,  6.,  7.,  1.,  2.,  3.,  4.],\n",
       "         [ 8.,  9., 10., 11.,  4.,  3.,  2.,  1.]]))"
      ]
     },
     "execution_count": 12,
     "metadata": {},
     "output_type": "execute_result"
    }
   ],
   "source": [
    "X = torch.arange(12, dtype=torch.float32).reshape((3,4))\n",
    "Y = torch.tensor([[2.0, 1, 4, 3], [1, 2, 3, 4], [4, 3, 2, 1]])\n",
    "torch.cat((X, Y), dim=0), torch.cat((X, Y), dim=1)"
   ]
  },
  {
   "cell_type": "markdown",
   "id": "9e621ca7",
   "metadata": {
    "slideshow": {
     "slide_type": "slide"
    }
   },
   "source": [
    "Construct a binary tensor via *logical statements*"
   ]
  },
  {
   "cell_type": "code",
   "execution_count": 13,
   "id": "ffb28fd5",
   "metadata": {
    "execution": {
     "iopub.execute_input": "2022-07-10T03:00:20.398901Z",
     "iopub.status.busy": "2022-07-10T03:00:20.398339Z",
     "iopub.status.idle": "2022-07-10T03:00:20.403827Z",
     "shell.execute_reply": "2022-07-10T03:00:20.403005Z"
    },
    "origin_pos": 52,
    "tab": [
     "pytorch"
    ]
   },
   "outputs": [
    {
     "data": {
      "text/plain": [
       "tensor([[False,  True, False,  True],\n",
       "        [False, False, False, False],\n",
       "        [False, False, False, False]])"
      ]
     },
     "execution_count": 13,
     "metadata": {},
     "output_type": "execute_result"
    }
   ],
   "source": [
    "X == Y"
   ]
  },
  {
   "cell_type": "markdown",
   "id": "fd9dba71",
   "metadata": {
    "slideshow": {
     "slide_type": "slide"
    }
   },
   "source": [
    "Summing all the elements in the tensor"
   ]
  },
  {
   "cell_type": "code",
   "execution_count": 14,
   "id": "e8214b20",
   "metadata": {
    "execution": {
     "iopub.execute_input": "2022-07-10T03:00:20.407410Z",
     "iopub.status.busy": "2022-07-10T03:00:20.406741Z",
     "iopub.status.idle": "2022-07-10T03:00:20.412341Z",
     "shell.execute_reply": "2022-07-10T03:00:20.411527Z"
    },
    "origin_pos": 54,
    "tab": [
     "pytorch"
    ]
   },
   "outputs": [
    {
     "data": {
      "text/plain": [
       "tensor(66.)"
      ]
     },
     "execution_count": 14,
     "metadata": {},
     "output_type": "execute_result"
    }
   ],
   "source": [
    "X.sum()"
   ]
  },
  {
   "cell_type": "markdown",
   "id": "5ea3dfb2",
   "metadata": {
    "slideshow": {
     "slide_type": "slide"
    }
   },
   "source": [
    "Perform elementwise operations\n",
    "by invoking the *broadcasting mechanism*"
   ]
  },
  {
   "cell_type": "code",
   "execution_count": 15,
   "id": "222d4035",
   "metadata": {
    "execution": {
     "iopub.execute_input": "2022-07-10T03:00:20.415752Z",
     "iopub.status.busy": "2022-07-10T03:00:20.415193Z",
     "iopub.status.idle": "2022-07-10T03:00:20.421511Z",
     "shell.execute_reply": "2022-07-10T03:00:20.420681Z"
    },
    "origin_pos": 58,
    "tab": [
     "pytorch"
    ]
   },
   "outputs": [
    {
     "data": {
      "text/plain": [
       "(tensor([[0],\n",
       "         [1],\n",
       "         [2]]),\n",
       " tensor([[0, 1]]))"
      ]
     },
     "execution_count": 15,
     "metadata": {},
     "output_type": "execute_result"
    }
   ],
   "source": [
    "a = torch.arange(3).reshape((3, 1))\n",
    "b = torch.arange(2).reshape((1, 2))\n",
    "a, b"
   ]
  },
  {
   "cell_type": "code",
   "execution_count": 16,
   "id": "ac08016b",
   "metadata": {
    "execution": {
     "iopub.execute_input": "2022-07-10T03:00:20.425008Z",
     "iopub.status.busy": "2022-07-10T03:00:20.424358Z",
     "iopub.status.idle": "2022-07-10T03:00:20.429872Z",
     "shell.execute_reply": "2022-07-10T03:00:20.429057Z"
    },
    "origin_pos": 61,
    "tab": [
     "pytorch"
    ]
   },
   "outputs": [
    {
     "data": {
      "text/plain": [
       "tensor([[0, 1],\n",
       "        [1, 2],\n",
       "        [2, 3]])"
      ]
     },
     "execution_count": 16,
     "metadata": {},
     "output_type": "execute_result"
    }
   ],
   "source": [
    "a + b"
   ]
  },
  {
   "cell_type": "markdown",
   "id": "26d903a0",
   "metadata": {
    "slideshow": {
     "slide_type": "slide"
    }
   },
   "source": [
    "`[-1]` selects the last element and `[1:3]`\n",
    "selects the second and the third elements"
   ]
  },
  {
   "cell_type": "code",
   "execution_count": 17,
   "id": "13d008ec",
   "metadata": {
    "execution": {
     "iopub.execute_input": "2022-07-10T03:00:20.433398Z",
     "iopub.status.busy": "2022-07-10T03:00:20.432732Z",
     "iopub.status.idle": "2022-07-10T03:00:20.438992Z",
     "shell.execute_reply": "2022-07-10T03:00:20.438178Z"
    },
    "origin_pos": 63,
    "tab": [
     "pytorch"
    ]
   },
   "outputs": [
    {
     "data": {
      "text/plain": [
       "(tensor([ 8.,  9., 10., 11.]),\n",
       " tensor([[ 4.,  5.,  6.,  7.],\n",
       "         [ 8.,  9., 10., 11.]]))"
      ]
     },
     "execution_count": 17,
     "metadata": {},
     "output_type": "execute_result"
    }
   ],
   "source": [
    "X[-1], X[1:3]"
   ]
  },
  {
   "cell_type": "markdown",
   "id": "6f365bc9",
   "metadata": {
    "slideshow": {
     "slide_type": "-"
    }
   },
   "source": [
    "We can also write elements of a matrix by specifying indices"
   ]
  },
  {
   "cell_type": "code",
   "execution_count": 18,
   "id": "4590d49d",
   "metadata": {
    "execution": {
     "iopub.execute_input": "2022-07-10T03:00:20.442430Z",
     "iopub.status.busy": "2022-07-10T03:00:20.441901Z",
     "iopub.status.idle": "2022-07-10T03:00:20.447778Z",
     "shell.execute_reply": "2022-07-10T03:00:20.446928Z"
    },
    "origin_pos": 66,
    "tab": [
     "pytorch"
    ]
   },
   "outputs": [
    {
     "data": {
      "text/plain": [
       "tensor([[ 0.,  1.,  2.,  3.],\n",
       "        [ 4.,  5.,  9.,  7.],\n",
       "        [ 8.,  9., 10., 11.]])"
      ]
     },
     "execution_count": 18,
     "metadata": {},
     "output_type": "execute_result"
    }
   ],
   "source": [
    "X[1, 2] = 9\n",
    "X"
   ]
  },
  {
   "cell_type": "markdown",
   "id": "d713a23a",
   "metadata": {
    "slideshow": {
     "slide_type": "slide"
    }
   },
   "source": [
    "To assign multiple elements the same value,\n",
    "we simply index all of them and then assign them the value"
   ]
  },
  {
   "cell_type": "code",
   "execution_count": 19,
   "id": "853966af",
   "metadata": {
    "execution": {
     "iopub.execute_input": "2022-07-10T03:00:20.451320Z",
     "iopub.status.busy": "2022-07-10T03:00:20.450731Z",
     "iopub.status.idle": "2022-07-10T03:00:20.456652Z",
     "shell.execute_reply": "2022-07-10T03:00:20.455844Z"
    },
    "origin_pos": 69,
    "tab": [
     "pytorch"
    ]
   },
   "outputs": [
    {
     "data": {
      "text/plain": [
       "tensor([[12., 12., 12., 12.],\n",
       "        [12., 12., 12., 12.],\n",
       "        [ 8.,  9., 10., 11.]])"
      ]
     },
     "execution_count": 19,
     "metadata": {},
     "output_type": "execute_result"
    }
   ],
   "source": [
    "X[0:2, :] = 12\n",
    "X"
   ]
  },
  {
   "cell_type": "markdown",
   "id": "d1946ff8",
   "metadata": {
    "slideshow": {
     "slide_type": "slide"
    }
   },
   "source": [
    "Running operations can cause new memory to be\n",
    "allocated to host results"
   ]
  },
  {
   "cell_type": "code",
   "execution_count": 20,
   "id": "ba0ebc34",
   "metadata": {
    "execution": {
     "iopub.execute_input": "2022-07-10T03:00:20.459994Z",
     "iopub.status.busy": "2022-07-10T03:00:20.459464Z",
     "iopub.status.idle": "2022-07-10T03:00:20.464955Z",
     "shell.execute_reply": "2022-07-10T03:00:20.464119Z"
    },
    "origin_pos": 72,
    "tab": [
     "pytorch"
    ]
   },
   "outputs": [
    {
     "data": {
      "text/plain": [
       "False"
      ]
     },
     "execution_count": 20,
     "metadata": {},
     "output_type": "execute_result"
    }
   ],
   "source": [
    "before = id(Y)\n",
    "Y = Y + X\n",
    "id(Y) == before"
   ]
  },
  {
   "cell_type": "markdown",
   "id": "4a37a088",
   "metadata": {
    "slideshow": {
     "slide_type": "-"
    }
   },
   "source": [
    "Performing in-place operations"
   ]
  },
  {
   "cell_type": "code",
   "execution_count": 21,
   "id": "cb10e7f0",
   "metadata": {
    "execution": {
     "iopub.execute_input": "2022-07-10T03:00:20.468526Z",
     "iopub.status.busy": "2022-07-10T03:00:20.467971Z",
     "iopub.status.idle": "2022-07-10T03:00:20.473227Z",
     "shell.execute_reply": "2022-07-10T03:00:20.472399Z"
    },
    "origin_pos": 77,
    "tab": [
     "pytorch"
    ]
   },
   "outputs": [
    {
     "name": "stdout",
     "output_type": "stream",
     "text": [
      "id(Z): 139834671418400\n",
      "id(Z): 139834671418400\n"
     ]
    }
   ],
   "source": [
    "Z = torch.zeros_like(Y)\n",
    "print('id(Z):', id(Z))\n",
    "Z[:] = X + Y\n",
    "print('id(Z):', id(Z))"
   ]
  },
  {
   "cell_type": "markdown",
   "id": "cb23e979",
   "metadata": {
    "slideshow": {
     "slide_type": "slide"
    }
   },
   "source": [
    "If the value of `X` is not reused in subsequent computations,\n",
    "we can also use `X[:] = X + Y` or `X += Y`\n",
    "to reduce the memory overhead of the operation"
   ]
  },
  {
   "cell_type": "code",
   "execution_count": 22,
   "id": "1ed8ed4a",
   "metadata": {
    "execution": {
     "iopub.execute_input": "2022-07-10T03:00:20.476706Z",
     "iopub.status.busy": "2022-07-10T03:00:20.476175Z",
     "iopub.status.idle": "2022-07-10T03:00:20.481703Z",
     "shell.execute_reply": "2022-07-10T03:00:20.480859Z"
    },
    "origin_pos": 81,
    "tab": [
     "pytorch"
    ]
   },
   "outputs": [
    {
     "data": {
      "text/plain": [
       "True"
      ]
     },
     "execution_count": 22,
     "metadata": {},
     "output_type": "execute_result"
    }
   ],
   "source": [
    "before = id(X)\n",
    "X += Y\n",
    "id(X) == before"
   ]
  },
  {
   "cell_type": "markdown",
   "id": "6673420f",
   "metadata": {
    "slideshow": {
     "slide_type": "slide"
    }
   },
   "source": [
    "Converting to a NumPy tensor (`ndarray`)"
   ]
  },
  {
   "cell_type": "code",
   "execution_count": 23,
   "id": "22f52684",
   "metadata": {
    "execution": {
     "iopub.execute_input": "2022-07-10T03:00:20.485350Z",
     "iopub.status.busy": "2022-07-10T03:00:20.484791Z",
     "iopub.status.idle": "2022-07-10T03:00:20.490390Z",
     "shell.execute_reply": "2022-07-10T03:00:20.489548Z"
    },
    "origin_pos": 87,
    "tab": [
     "pytorch"
    ]
   },
   "outputs": [
    {
     "data": {
      "text/plain": [
       "(numpy.ndarray, torch.Tensor)"
      ]
     },
     "execution_count": 23,
     "metadata": {},
     "output_type": "execute_result"
    }
   ],
   "source": [
    "A = X.numpy()\n",
    "B = torch.from_numpy(A)\n",
    "type(A), type(B)"
   ]
  },
  {
   "cell_type": "markdown",
   "id": "f111fb69",
   "metadata": {
    "slideshow": {
     "slide_type": "-"
    }
   },
   "source": [
    "Convert a size-1 tensor to a Python scalar"
   ]
  },
  {
   "cell_type": "code",
   "execution_count": 24,
   "id": "ae1169f0",
   "metadata": {
    "execution": {
     "iopub.execute_input": "2022-07-10T03:00:20.493848Z",
     "iopub.status.busy": "2022-07-10T03:00:20.493315Z",
     "iopub.status.idle": "2022-07-10T03:00:20.499735Z",
     "shell.execute_reply": "2022-07-10T03:00:20.498856Z"
    },
    "origin_pos": 91,
    "tab": [
     "pytorch"
    ]
   },
   "outputs": [
    {
     "data": {
      "text/plain": [
       "(tensor([3.5000]), 3.5, 3.5, 3)"
      ]
     },
     "execution_count": 24,
     "metadata": {},
     "output_type": "execute_result"
    }
   ],
   "source": [
    "a = torch.tensor([3.5])\n",
    "a, a.item(), float(a), int(a)"
   ]
  }
 ],
 "metadata": {
  "celltoolbar": "Slideshow",
  "language_info": {
   "name": "python"
  },
  "rise": {
   "autolaunch": true,
   "enable_chalkboard": true,
   "overlay": "<div class='my-top-right'><img height=80px src='http://d2l.ai/_static/logo-with-text.png'/></div><div class='my-top-left'></div>",
   "scroll": true
  }
 },
 "nbformat": 4,
 "nbformat_minor": 5
}