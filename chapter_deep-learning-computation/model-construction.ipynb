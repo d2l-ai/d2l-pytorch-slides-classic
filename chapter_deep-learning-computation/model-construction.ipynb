{
 "cells": [
  {
   "cell_type": "markdown",
   "id": "827898cf",
   "metadata": {
    "slideshow": {
     "slide_type": "slide"
    }
   },
   "source": [
    "# Layers and Blocks\n",
    "\n",
    "To begin, we revisit the code\n",
    "that we used to implement MLPs"
   ]
  },
  {
   "cell_type": "code",
   "execution_count": 1,
   "id": "5b6d0b82",
   "metadata": {
    "execution": {
     "iopub.execute_input": "2022-11-12T20:45:51.878465Z",
     "iopub.status.busy": "2022-11-12T20:45:51.877778Z",
     "iopub.status.idle": "2022-11-12T20:45:52.856642Z",
     "shell.execute_reply": "2022-11-12T20:45:52.855705Z"
    },
    "origin_pos": 2,
    "tab": [
     "pytorch"
    ]
   },
   "outputs": [
    {
     "data": {
      "text/plain": [
       "tensor([[-0.0227,  0.0174, -0.2084,  0.2129,  0.4705,  0.2038, -0.0006,  0.0777,\n",
       "          0.0678, -0.0851],\n",
       "        [ 0.0294,  0.1090, -0.1026,  0.2531,  0.4979,  0.0136, -0.0542,  0.0829,\n",
       "         -0.1305, -0.0116]], grad_fn=<AddmmBackward0>)"
      ]
     },
     "execution_count": 1,
     "metadata": {},
     "output_type": "execute_result"
    }
   ],
   "source": [
    "import torch\n",
    "from torch import nn\n",
    "from torch.nn import functional as F\n",
    "\n",
    "net = nn.Sequential(nn.Linear(20, 256), nn.ReLU(), nn.Linear(256, 10))\n",
    "\n",
    "X = torch.rand(2, 20)\n",
    "net(X)"
   ]
  },
  {
   "cell_type": "markdown",
   "id": "6dcd77e6",
   "metadata": {
    "slideshow": {
     "slide_type": "-"
    }
   },
   "source": [
    "`nn.Sequential` defines a special kind of `Module`"
   ]
  },
  {
   "cell_type": "markdown",
   "id": "b03b26ad",
   "metadata": {
    "slideshow": {
     "slide_type": "slide"
    }
   },
   "source": [
    "A Custom Block"
   ]
  },
  {
   "cell_type": "code",
   "execution_count": 2,
   "id": "e9ee58d4",
   "metadata": {
    "execution": {
     "iopub.execute_input": "2022-11-12T20:45:52.861799Z",
     "iopub.status.busy": "2022-11-12T20:45:52.861065Z",
     "iopub.status.idle": "2022-11-12T20:45:52.866934Z",
     "shell.execute_reply": "2022-11-12T20:45:52.866108Z"
    },
    "origin_pos": 12,
    "tab": [
     "pytorch"
    ]
   },
   "outputs": [],
   "source": [
    "class MLP(nn.Module):\n",
    "    def __init__(self):\n",
    "        super().__init__()\n",
    "        self.hidden = nn.Linear(20, 256)\n",
    "        self.out = nn.Linear(256, 10)\n",
    "\n",
    "    def forward(self, X):\n",
    "        return self.out(F.relu(self.hidden(X)))"
   ]
  },
  {
   "cell_type": "markdown",
   "id": "d4734bea",
   "metadata": {
    "slideshow": {
     "slide_type": "slide"
    }
   },
   "source": [
    "Instantiate the MLP's layers\n",
    "and subsequently invoke these layers"
   ]
  },
  {
   "cell_type": "code",
   "execution_count": 3,
   "id": "3becf465",
   "metadata": {
    "execution": {
     "iopub.execute_input": "2022-11-12T20:45:52.871123Z",
     "iopub.status.busy": "2022-11-12T20:45:52.870574Z",
     "iopub.status.idle": "2022-11-12T20:45:52.877969Z",
     "shell.execute_reply": "2022-11-12T20:45:52.877108Z"
    },
    "origin_pos": 16,
    "tab": [
     "pytorch"
    ]
   },
   "outputs": [
    {
     "data": {
      "text/plain": [
       "tensor([[-0.0724,  0.0468,  0.1732,  0.0501,  0.0392, -0.0757,  0.1858, -0.0532,\n",
       "          0.0358,  0.0045],\n",
       "        [-0.0090,  0.1694,  0.0956,  0.0717,  0.1298, -0.0841, -0.0033, -0.0285,\n",
       "          0.0767,  0.0682]], grad_fn=<AddmmBackward0>)"
      ]
     },
     "execution_count": 3,
     "metadata": {},
     "output_type": "execute_result"
    }
   ],
   "source": [
    "net = MLP()\n",
    "net(X)"
   ]
  },
  {
   "cell_type": "markdown",
   "id": "597bc978",
   "metadata": {
    "slideshow": {
     "slide_type": "slide"
    }
   },
   "source": [
    "The Sequential Block"
   ]
  },
  {
   "cell_type": "code",
   "execution_count": 5,
   "id": "095d51a5",
   "metadata": {
    "execution": {
     "iopub.execute_input": "2022-11-12T20:45:52.890807Z",
     "iopub.status.busy": "2022-11-12T20:45:52.890494Z",
     "iopub.status.idle": "2022-11-12T20:45:52.897838Z",
     "shell.execute_reply": "2022-11-12T20:45:52.897087Z"
    },
    "origin_pos": 26,
    "tab": [
     "pytorch"
    ]
   },
   "outputs": [
    {
     "data": {
      "text/plain": [
       "tensor([[-0.0191, -0.0987,  0.0176,  0.0457,  0.0628,  0.0057, -0.2619,  0.0883,\n",
       "          0.0726, -0.1936],\n",
       "        [ 0.0812, -0.2205,  0.1459,  0.0116, -0.0114,  0.0599, -0.2580,  0.0913,\n",
       "          0.1160, -0.2189]], grad_fn=<AddmmBackward0>)"
      ]
     },
     "execution_count": 5,
     "metadata": {},
     "output_type": "execute_result"
    }
   ],
   "source": [
    "class MySequential(nn.Module):\n",
    "    def __init__(self, *args):\n",
    "        super().__init__()\n",
    "        for idx, module in enumerate(args):\n",
    "            self._modules[str(idx)] = module\n",
    "\n",
    "    def forward(self, X):\n",
    "        for block in self._modules.values():\n",
    "            X = block(X)\n",
    "        return X\n",
    "\n",
    "net = MySequential(nn.Linear(20, 256), nn.ReLU(), nn.Linear(256, 10))\n",
    "net(X)"
   ]
  },
  {
   "cell_type": "markdown",
   "id": "e2b3d4d9",
   "metadata": {
    "slideshow": {
     "slide_type": "slide"
    }
   },
   "source": [
    "Executing Code in the Forward Propagation Function"
   ]
  },
  {
   "cell_type": "code",
   "execution_count": 7,
   "id": "6ca9c221",
   "metadata": {
    "execution": {
     "iopub.execute_input": "2022-11-12T20:45:52.911436Z",
     "iopub.status.busy": "2022-11-12T20:45:52.911061Z",
     "iopub.status.idle": "2022-11-12T20:45:52.918581Z",
     "shell.execute_reply": "2022-11-12T20:45:52.917817Z"
    },
    "origin_pos": 34,
    "tab": [
     "pytorch"
    ]
   },
   "outputs": [
    {
     "data": {
      "text/plain": [
       "tensor(-0.2081, grad_fn=<SumBackward0>)"
      ]
     },
     "execution_count": 7,
     "metadata": {},
     "output_type": "execute_result"
    }
   ],
   "source": [
    "class FixedHiddenMLP(nn.Module):\n",
    "    def __init__(self):\n",
    "        super().__init__()\n",
    "        self.rand_weight = torch.rand((20, 20), requires_grad=False)\n",
    "        self.linear = nn.Linear(20, 20)\n",
    "\n",
    "    def forward(self, X):\n",
    "        X = self.linear(X)\n",
    "        X = F.relu(torch.mm(X, self.rand_weight) + 1)\n",
    "        X = self.linear(X)\n",
    "        while X.abs().sum() > 1:\n",
    "            X /= 2\n",
    "        return X.sum()\n",
    "\n",
    "net = FixedHiddenMLP()\n",
    "net(X)"
   ]
  },
  {
   "cell_type": "markdown",
   "id": "9e91a3ad",
   "metadata": {
    "slideshow": {
     "slide_type": "slide"
    }
   },
   "source": [
    "Mix and match various\n",
    "ways of assembling blocks together"
   ]
  },
  {
   "cell_type": "code",
   "execution_count": 8,
   "id": "130ac7d0",
   "metadata": {
    "execution": {
     "iopub.execute_input": "2022-11-12T20:45:52.923184Z",
     "iopub.status.busy": "2022-11-12T20:45:52.922492Z",
     "iopub.status.idle": "2022-11-12T20:45:52.938346Z",
     "shell.execute_reply": "2022-11-12T20:45:52.937280Z"
    },
    "origin_pos": 37,
    "tab": [
     "pytorch"
    ]
   },
   "outputs": [
    {
     "data": {
      "text/plain": [
       "tensor(-0.1082, grad_fn=<SumBackward0>)"
      ]
     },
     "execution_count": 8,
     "metadata": {},
     "output_type": "execute_result"
    }
   ],
   "source": [
    "class NestMLP(nn.Module):\n",
    "    def __init__(self):\n",
    "        super().__init__()\n",
    "        self.net = nn.Sequential(nn.Linear(20, 64), nn.ReLU(),\n",
    "                                 nn.Linear(64, 32), nn.ReLU())\n",
    "        self.linear = nn.Linear(32, 16)\n",
    "\n",
    "    def forward(self, X):\n",
    "        return self.linear(self.net(X))\n",
    "\n",
    "chimera = nn.Sequential(NestMLP(), nn.Linear(16, 20), FixedHiddenMLP())\n",
    "chimera(X)"
   ]
  }
 ],
 "metadata": {
  "celltoolbar": "Slideshow",
  "language_info": {
   "name": "python"
  },
  "rise": {
   "autolaunch": true,
   "enable_chalkboard": true,
   "overlay": "<div class='my-top-right'><img height=80px src='http://d2l.ai/_static/logo-with-text.png'/></div><div class='my-top-left'></div>",
   "scroll": true
  }
 },
 "nbformat": 4,
 "nbformat_minor": 5
}