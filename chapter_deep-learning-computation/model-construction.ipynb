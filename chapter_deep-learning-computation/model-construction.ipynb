{
 "cells": [
  {
   "cell_type": "markdown",
   "id": "b8385dd7",
   "metadata": {
    "slideshow": {
     "slide_type": "slide"
    }
   },
   "source": [
    "# Layers and Blocks\n",
    "\n",
    "To begin, we revisit the code\n",
    "that we used to implement MLPs"
   ]
  },
  {
   "cell_type": "code",
   "execution_count": 1,
   "id": "3b2671a3",
   "metadata": {
    "execution": {
     "iopub.execute_input": "2022-07-10T03:06:37.317573Z",
     "iopub.status.busy": "2022-07-10T03:06:37.316855Z",
     "iopub.status.idle": "2022-07-10T03:06:38.247969Z",
     "shell.execute_reply": "2022-07-10T03:06:38.246724Z"
    },
    "origin_pos": 2,
    "tab": [
     "pytorch"
    ]
   },
   "outputs": [
    {
     "data": {
      "text/plain": [
       "tensor([[ 0.3137, -0.3088, -0.0265,  0.0914,  0.0738,  0.1713, -0.0730,  0.0644,\n",
       "         -0.1429,  0.1958],\n",
       "        [ 0.2520, -0.4221, -0.0076,  0.1561,  0.0557,  0.0843, -0.0273,  0.0482,\n",
       "         -0.1979,  0.2274]], grad_fn=<AddmmBackward0>)"
      ]
     },
     "execution_count": 1,
     "metadata": {},
     "output_type": "execute_result"
    }
   ],
   "source": [
    "import torch\n",
    "from torch import nn\n",
    "from torch.nn import functional as F\n",
    "\n",
    "net = nn.Sequential(nn.Linear(20, 256), nn.ReLU(), nn.Linear(256, 10))\n",
    "\n",
    "X = torch.rand(2, 20)\n",
    "net(X)"
   ]
  },
  {
   "cell_type": "markdown",
   "id": "69493df3",
   "metadata": {
    "slideshow": {
     "slide_type": "-"
    }
   },
   "source": [
    "`nn.Sequential` defines a special kind of `Module`"
   ]
  },
  {
   "cell_type": "markdown",
   "id": "290a73cf",
   "metadata": {
    "slideshow": {
     "slide_type": "slide"
    }
   },
   "source": [
    "A Custom Block"
   ]
  },
  {
   "cell_type": "code",
   "execution_count": 2,
   "id": "edd8fcb7",
   "metadata": {
    "execution": {
     "iopub.execute_input": "2022-07-10T03:06:38.252424Z",
     "iopub.status.busy": "2022-07-10T03:06:38.251855Z",
     "iopub.status.idle": "2022-07-10T03:06:38.258588Z",
     "shell.execute_reply": "2022-07-10T03:06:38.257440Z"
    },
    "origin_pos": 12,
    "tab": [
     "pytorch"
    ]
   },
   "outputs": [],
   "source": [
    "class MLP(nn.Module):\n",
    "    def __init__(self):\n",
    "        super().__init__()\n",
    "        self.hidden = nn.Linear(20, 256)\n",
    "        self.out = nn.Linear(256, 10)\n",
    "\n",
    "    def forward(self, X):\n",
    "        return self.out(F.relu(self.hidden(X)))"
   ]
  },
  {
   "cell_type": "markdown",
   "id": "3a42869c",
   "metadata": {
    "slideshow": {
     "slide_type": "slide"
    }
   },
   "source": [
    "Instantiate the MLP's layers\n",
    "and subsequently invoke these layers"
   ]
  },
  {
   "cell_type": "code",
   "execution_count": 3,
   "id": "15a968ee",
   "metadata": {
    "execution": {
     "iopub.execute_input": "2022-07-10T03:06:38.262384Z",
     "iopub.status.busy": "2022-07-10T03:06:38.261679Z",
     "iopub.status.idle": "2022-07-10T03:06:38.270161Z",
     "shell.execute_reply": "2022-07-10T03:06:38.268833Z"
    },
    "origin_pos": 16,
    "tab": [
     "pytorch"
    ]
   },
   "outputs": [
    {
     "data": {
      "text/plain": [
       "tensor([[ 0.0484,  0.1010, -0.0442,  0.0688, -0.2698, -0.1924,  0.0629,  0.0604,\n",
       "         -0.2581, -0.1574],\n",
       "        [ 0.0757,  0.1118,  0.0371,  0.1509, -0.2893, -0.1181,  0.0592, -0.0285,\n",
       "         -0.2854,  0.0210]], grad_fn=<AddmmBackward0>)"
      ]
     },
     "execution_count": 3,
     "metadata": {},
     "output_type": "execute_result"
    }
   ],
   "source": [
    "net = MLP()\n",
    "net(X)"
   ]
  },
  {
   "cell_type": "markdown",
   "id": "dc2a7b90",
   "metadata": {
    "slideshow": {
     "slide_type": "slide"
    }
   },
   "source": [
    "The Sequential Block"
   ]
  },
  {
   "cell_type": "code",
   "execution_count": 5,
   "id": "618515e1",
   "metadata": {
    "execution": {
     "iopub.execute_input": "2022-07-10T03:06:38.283500Z",
     "iopub.status.busy": "2022-07-10T03:06:38.282921Z",
     "iopub.status.idle": "2022-07-10T03:06:38.290635Z",
     "shell.execute_reply": "2022-07-10T03:06:38.289787Z"
    },
    "origin_pos": 26,
    "tab": [
     "pytorch"
    ]
   },
   "outputs": [
    {
     "data": {
      "text/plain": [
       "tensor([[-0.0498, -0.1249,  0.2453, -0.2897,  0.0960, -0.0883, -0.4407,  0.1057,\n",
       "         -0.2348,  0.0971],\n",
       "        [ 0.0589, -0.1916,  0.2488, -0.3291, -0.0067,  0.0711, -0.4173, -0.1374,\n",
       "         -0.2823, -0.0459]], grad_fn=<AddmmBackward0>)"
      ]
     },
     "execution_count": 5,
     "metadata": {},
     "output_type": "execute_result"
    }
   ],
   "source": [
    "class MySequential(nn.Module):\n",
    "    def __init__(self, *args):\n",
    "        super().__init__()\n",
    "        for idx, module in enumerate(args):\n",
    "            self._modules[str(idx)] = module\n",
    "\n",
    "    def forward(self, X):\n",
    "        for block in self._modules.values():\n",
    "            X = block(X)\n",
    "        return X\n",
    "\n",
    "net = MySequential(nn.Linear(20, 256), nn.ReLU(), nn.Linear(256, 10))\n",
    "net(X)"
   ]
  },
  {
   "cell_type": "markdown",
   "id": "21a3a426",
   "metadata": {
    "slideshow": {
     "slide_type": "slide"
    }
   },
   "source": [
    "Executing Code in the Forward Propagation Function"
   ]
  },
  {
   "cell_type": "code",
   "execution_count": 7,
   "id": "ea588ef3",
   "metadata": {
    "execution": {
     "iopub.execute_input": "2022-07-10T03:06:38.303776Z",
     "iopub.status.busy": "2022-07-10T03:06:38.303056Z",
     "iopub.status.idle": "2022-07-10T03:06:38.310352Z",
     "shell.execute_reply": "2022-07-10T03:06:38.309497Z"
    },
    "origin_pos": 34,
    "tab": [
     "pytorch"
    ]
   },
   "outputs": [
    {
     "data": {
      "text/plain": [
       "tensor(0.2734, grad_fn=<SumBackward0>)"
      ]
     },
     "execution_count": 7,
     "metadata": {},
     "output_type": "execute_result"
    }
   ],
   "source": [
    "class FixedHiddenMLP(nn.Module):\n",
    "    def __init__(self):\n",
    "        super().__init__()\n",
    "        self.rand_weight = torch.rand((20, 20), requires_grad=False)\n",
    "        self.linear = nn.Linear(20, 20)\n",
    "\n",
    "    def forward(self, X):\n",
    "        X = self.linear(X)\n",
    "        X = F.relu(torch.mm(X, self.rand_weight) + 1)\n",
    "        X = self.linear(X)\n",
    "        while X.abs().sum() > 1:\n",
    "            X /= 2\n",
    "        return X.sum()\n",
    "\n",
    "net = FixedHiddenMLP()\n",
    "net(X)"
   ]
  },
  {
   "cell_type": "markdown",
   "id": "dfcc0bae",
   "metadata": {
    "slideshow": {
     "slide_type": "slide"
    }
   },
   "source": [
    "Mix and match various\n",
    "ways of assembling blocks together"
   ]
  },
  {
   "cell_type": "code",
   "execution_count": 8,
   "id": "5fd76174",
   "metadata": {
    "execution": {
     "iopub.execute_input": "2022-07-10T03:06:38.314067Z",
     "iopub.status.busy": "2022-07-10T03:06:38.313375Z",
     "iopub.status.idle": "2022-07-10T03:06:38.323608Z",
     "shell.execute_reply": "2022-07-10T03:06:38.322784Z"
    },
    "origin_pos": 37,
    "tab": [
     "pytorch"
    ]
   },
   "outputs": [
    {
     "data": {
      "text/plain": [
       "tensor(0.1406, grad_fn=<SumBackward0>)"
      ]
     },
     "execution_count": 8,
     "metadata": {},
     "output_type": "execute_result"
    }
   ],
   "source": [
    "class NestMLP(nn.Module):\n",
    "    def __init__(self):\n",
    "        super().__init__()\n",
    "        self.net = nn.Sequential(nn.Linear(20, 64), nn.ReLU(),\n",
    "                                 nn.Linear(64, 32), nn.ReLU())\n",
    "        self.linear = nn.Linear(32, 16)\n",
    "\n",
    "    def forward(self, X):\n",
    "        return self.linear(self.net(X))\n",
    "\n",
    "chimera = nn.Sequential(NestMLP(), nn.Linear(16, 20), FixedHiddenMLP())\n",
    "chimera(X)"
   ]
  }
 ],
 "metadata": {
  "celltoolbar": "Slideshow",
  "language_info": {
   "name": "python"
  },
  "rise": {
   "autolaunch": true,
   "enable_chalkboard": true,
   "overlay": "<div class='my-top-right'><img height=80px src='http://d2l.ai/_static/logo-with-text.png'/></div><div class='my-top-left'></div>",
   "scroll": true
  }
 },
 "nbformat": 4,
 "nbformat_minor": 5
}