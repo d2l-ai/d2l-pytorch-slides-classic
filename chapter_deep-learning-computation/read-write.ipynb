{
 "cells": [
  {
   "cell_type": "markdown",
   "id": "fe399a23",
   "metadata": {
    "slideshow": {
     "slide_type": "-"
    }
   },
   "source": [
    "# File I/O\n",
    "\n",
    "Loading and Saving Tensors"
   ]
  },
  {
   "cell_type": "code",
   "execution_count": 2,
   "id": "8c3dbeee",
   "metadata": {
    "execution": {
     "iopub.execute_input": "2022-07-10T03:00:09.522229Z",
     "iopub.status.busy": "2022-07-10T03:00:09.521557Z",
     "iopub.status.idle": "2022-07-10T03:00:09.534466Z",
     "shell.execute_reply": "2022-07-10T03:00:09.533541Z"
    },
    "origin_pos": 6,
    "tab": [
     "pytorch"
    ]
   },
   "outputs": [
    {
     "data": {
      "text/plain": [
       "tensor([0, 1, 2, 3])"
      ]
     },
     "execution_count": 2,
     "metadata": {},
     "output_type": "execute_result"
    }
   ],
   "source": [
    "import torch\n",
    "from torch import nn\n",
    "from torch.nn import functional as F\n",
    "\n",
    "x = torch.arange(4)\n",
    "torch.save(x, 'x-file')\n",
    "\n",
    "x2 = torch.load('x-file')\n",
    "x2"
   ]
  },
  {
   "cell_type": "markdown",
   "id": "d5a3fe39",
   "metadata": {
    "slideshow": {
     "slide_type": "slide"
    }
   },
   "source": [
    "Store a list of tensors and read them back into memory"
   ]
  },
  {
   "cell_type": "code",
   "execution_count": 3,
   "id": "a8682635",
   "metadata": {
    "execution": {
     "iopub.execute_input": "2022-07-10T03:00:09.538301Z",
     "iopub.status.busy": "2022-07-10T03:00:09.537742Z",
     "iopub.status.idle": "2022-07-10T03:00:09.545949Z",
     "shell.execute_reply": "2022-07-10T03:00:09.545118Z"
    },
    "origin_pos": 10,
    "tab": [
     "pytorch"
    ]
   },
   "outputs": [
    {
     "data": {
      "text/plain": [
       "(tensor([0, 1, 2, 3]), tensor([0., 0., 0., 0.]))"
      ]
     },
     "execution_count": 3,
     "metadata": {},
     "output_type": "execute_result"
    }
   ],
   "source": [
    "y = torch.zeros(4)\n",
    "torch.save([x, y],'x-files')\n",
    "x2, y2 = torch.load('x-files')\n",
    "(x2, y2)"
   ]
  },
  {
   "cell_type": "markdown",
   "id": "cba1ea65",
   "metadata": {
    "slideshow": {
     "slide_type": "slide"
    }
   },
   "source": [
    "Write and read a dictionary that maps\n",
    "from strings to tensors"
   ]
  },
  {
   "cell_type": "code",
   "execution_count": 4,
   "id": "c383ee90",
   "metadata": {
    "execution": {
     "iopub.execute_input": "2022-07-10T03:00:09.549755Z",
     "iopub.status.busy": "2022-07-10T03:00:09.549048Z",
     "iopub.status.idle": "2022-07-10T03:00:09.556531Z",
     "shell.execute_reply": "2022-07-10T03:00:09.555648Z"
    },
    "origin_pos": 14,
    "tab": [
     "pytorch"
    ]
   },
   "outputs": [
    {
     "data": {
      "text/plain": [
       "{'x': tensor([0, 1, 2, 3]), 'y': tensor([0., 0., 0., 0.])}"
      ]
     },
     "execution_count": 4,
     "metadata": {},
     "output_type": "execute_result"
    }
   ],
   "source": [
    "mydict = {'x': x, 'y': y}\n",
    "torch.save(mydict, 'mydict')\n",
    "mydict2 = torch.load('mydict')\n",
    "mydict2"
   ]
  },
  {
   "cell_type": "markdown",
   "id": "eb351232",
   "metadata": {
    "slideshow": {
     "slide_type": "slide"
    }
   },
   "source": [
    "Loading and Saving Model Parameters\n",
    "Let us start with our familiar MLP"
   ]
  },
  {
   "cell_type": "code",
   "execution_count": 5,
   "id": "2e733292",
   "metadata": {
    "execution": {
     "iopub.execute_input": "2022-07-10T03:00:09.560299Z",
     "iopub.status.busy": "2022-07-10T03:00:09.559610Z",
     "iopub.status.idle": "2022-07-10T03:00:09.566741Z",
     "shell.execute_reply": "2022-07-10T03:00:09.565839Z"
    },
    "origin_pos": 18,
    "tab": [
     "pytorch"
    ]
   },
   "outputs": [],
   "source": [
    "class MLP(nn.Module):\n",
    "    def __init__(self):\n",
    "        super().__init__()\n",
    "        self.hidden = nn.Linear(20, 256)\n",
    "        self.output = nn.Linear(256, 10)\n",
    "\n",
    "    def forward(self, x):\n",
    "        return self.output(F.relu(self.hidden(x)))\n",
    "\n",
    "net = MLP()\n",
    "X = torch.randn(size=(2, 20))\n",
    "Y = net(X)"
   ]
  },
  {
   "cell_type": "markdown",
   "id": "bf330d42",
   "metadata": {
    "slideshow": {
     "slide_type": "slide"
    }
   },
   "source": [
    "Store the parameters of the model as a file"
   ]
  },
  {
   "cell_type": "code",
   "execution_count": 6,
   "id": "fd7aceb9",
   "metadata": {
    "execution": {
     "iopub.execute_input": "2022-07-10T03:00:09.570696Z",
     "iopub.status.busy": "2022-07-10T03:00:09.570000Z",
     "iopub.status.idle": "2022-07-10T03:00:09.575252Z",
     "shell.execute_reply": "2022-07-10T03:00:09.574342Z"
    },
    "origin_pos": 22,
    "tab": [
     "pytorch"
    ]
   },
   "outputs": [],
   "source": [
    "torch.save(net.state_dict(), 'mlp.params')"
   ]
  },
  {
   "cell_type": "markdown",
   "id": "7b4a4698",
   "metadata": {
    "slideshow": {
     "slide_type": "slide"
    }
   },
   "source": [
    "Read the parameters stored in the file directly"
   ]
  },
  {
   "cell_type": "code",
   "execution_count": 7,
   "id": "562e07f3",
   "metadata": {
    "execution": {
     "iopub.execute_input": "2022-07-10T03:00:09.579014Z",
     "iopub.status.busy": "2022-07-10T03:00:09.578307Z",
     "iopub.status.idle": "2022-07-10T03:00:09.585770Z",
     "shell.execute_reply": "2022-07-10T03:00:09.584901Z"
    },
    "origin_pos": 26,
    "tab": [
     "pytorch"
    ]
   },
   "outputs": [
    {
     "data": {
      "text/plain": [
       "MLP(\n",
       "  (hidden): Linear(in_features=20, out_features=256, bias=True)\n",
       "  (output): Linear(in_features=256, out_features=10, bias=True)\n",
       ")"
      ]
     },
     "execution_count": 7,
     "metadata": {},
     "output_type": "execute_result"
    }
   ],
   "source": [
    "clone = MLP()\n",
    "clone.load_state_dict(torch.load('mlp.params'))\n",
    "clone.eval()"
   ]
  },
  {
   "cell_type": "code",
   "execution_count": 8,
   "id": "da7b95df",
   "metadata": {
    "execution": {
     "iopub.execute_input": "2022-07-10T03:00:09.589243Z",
     "iopub.status.busy": "2022-07-10T03:00:09.588804Z",
     "iopub.status.idle": "2022-07-10T03:00:09.595027Z",
     "shell.execute_reply": "2022-07-10T03:00:09.594194Z"
    },
    "origin_pos": 30,
    "tab": [
     "pytorch"
    ]
   },
   "outputs": [
    {
     "data": {
      "text/plain": [
       "tensor([[True, True, True, True, True, True, True, True, True, True],\n",
       "        [True, True, True, True, True, True, True, True, True, True]])"
      ]
     },
     "execution_count": 8,
     "metadata": {},
     "output_type": "execute_result"
    }
   ],
   "source": [
    "Y_clone = clone(X)\n",
    "Y_clone == Y"
   ]
  }
 ],
 "metadata": {
  "celltoolbar": "Slideshow",
  "language_info": {
   "name": "python"
  },
  "rise": {
   "autolaunch": true,
   "enable_chalkboard": true,
   "overlay": "<div class='my-top-right'><img height=80px src='http://d2l.ai/_static/logo-with-text.png'/></div><div class='my-top-left'></div>",
   "scroll": true
  }
 },
 "nbformat": 4,
 "nbformat_minor": 5
}