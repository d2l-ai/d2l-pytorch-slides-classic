{
 "cells": [
  {
   "cell_type": "markdown",
   "id": "ac988bb6",
   "metadata": {
    "slideshow": {
     "slide_type": "-"
    }
   },
   "source": [
    "# Custom Layers\n",
    "\n",
    "Layers without Parameters"
   ]
  },
  {
   "cell_type": "code",
   "execution_count": 2,
   "id": "ad7af760",
   "metadata": {
    "execution": {
     "iopub.execute_input": "2022-11-12T20:49:10.630957Z",
     "iopub.status.busy": "2022-11-12T20:49:10.630257Z",
     "iopub.status.idle": "2022-11-12T20:49:10.644519Z",
     "shell.execute_reply": "2022-11-12T20:49:10.643698Z"
    },
    "origin_pos": 6,
    "tab": [
     "pytorch"
    ]
   },
   "outputs": [
    {
     "data": {
      "text/plain": [
       "tensor([-2., -1.,  0.,  1.,  2.])"
      ]
     },
     "execution_count": 2,
     "metadata": {},
     "output_type": "execute_result"
    }
   ],
   "source": [
    "import torch\n",
    "from torch import nn\n",
    "from torch.nn import functional as F\n",
    "\n",
    "\n",
    "class CenteredLayer(nn.Module):\n",
    "    def __init__(self):\n",
    "        super().__init__()\n",
    "\n",
    "    def forward(self, X):\n",
    "        return X - X.mean()\n",
    "\n",
    "layer = CenteredLayer()\n",
    "layer(torch.FloatTensor([1, 2, 3, 4, 5]))"
   ]
  },
  {
   "cell_type": "markdown",
   "id": "2e47c8d5",
   "metadata": {
    "slideshow": {
     "slide_type": "slide"
    }
   },
   "source": [
    "Incorporate our layer as a component\n",
    "in constructing more complex models"
   ]
  },
  {
   "cell_type": "code",
   "execution_count": 4,
   "id": "82f185b6",
   "metadata": {
    "execution": {
     "iopub.execute_input": "2022-11-12T20:49:10.656582Z",
     "iopub.status.busy": "2022-11-12T20:49:10.656115Z",
     "iopub.status.idle": "2022-11-12T20:49:10.662485Z",
     "shell.execute_reply": "2022-11-12T20:49:10.661748Z"
    },
    "origin_pos": 14,
    "tab": [
     "pytorch"
    ]
   },
   "outputs": [
    {
     "data": {
      "text/plain": [
       "tensor(9.3132e-10, grad_fn=<MeanBackward0>)"
      ]
     },
     "execution_count": 4,
     "metadata": {},
     "output_type": "execute_result"
    }
   ],
   "source": [
    "net = nn.Sequential(nn.Linear(8, 128), CenteredLayer())\n",
    "\n",
    "Y = net(torch.rand(4, 8))\n",
    "Y.mean()"
   ]
  },
  {
   "cell_type": "markdown",
   "id": "5b2dbf1e",
   "metadata": {
    "slideshow": {
     "slide_type": "slide"
    }
   },
   "source": [
    "Layers with Parameters"
   ]
  },
  {
   "cell_type": "code",
   "execution_count": 6,
   "id": "42f32e9c",
   "metadata": {
    "execution": {
     "iopub.execute_input": "2022-11-12T20:49:10.675764Z",
     "iopub.status.busy": "2022-11-12T20:49:10.675217Z",
     "iopub.status.idle": "2022-11-12T20:49:10.681199Z",
     "shell.execute_reply": "2022-11-12T20:49:10.680429Z"
    },
    "origin_pos": 23,
    "tab": [
     "pytorch"
    ]
   },
   "outputs": [
    {
     "data": {
      "text/plain": [
       "Parameter containing:\n",
       "tensor([[-0.0032,  0.9315,  0.0951],\n",
       "        [-0.4086,  0.4896,  1.0422],\n",
       "        [ 2.0881,  0.3823, -0.0764],\n",
       "        [ 0.2432, -1.1701,  1.0910],\n",
       "        [ 0.0835, -1.0049, -0.0300]], requires_grad=True)"
      ]
     },
     "execution_count": 6,
     "metadata": {},
     "output_type": "execute_result"
    }
   ],
   "source": [
    "class MyLinear(nn.Module):\n",
    "    def __init__(self, in_units, units):\n",
    "        super().__init__()\n",
    "        self.weight = nn.Parameter(torch.randn(in_units, units))\n",
    "        self.bias = nn.Parameter(torch.randn(units,))\n",
    "    def forward(self, X):\n",
    "        linear = torch.matmul(X, self.weight.data) + self.bias.data\n",
    "        return F.relu(linear)\n",
    "\n",
    "linear = MyLinear(5, 3)\n",
    "linear.weight"
   ]
  },
  {
   "cell_type": "markdown",
   "id": "fcbff6be",
   "metadata": {
    "slideshow": {
     "slide_type": "slide"
    }
   },
   "source": [
    "Directly carry out forward propagation calculations using custom layers"
   ]
  },
  {
   "cell_type": "code",
   "execution_count": 7,
   "id": "83f7706d",
   "metadata": {
    "execution": {
     "iopub.execute_input": "2022-11-12T20:49:10.684726Z",
     "iopub.status.busy": "2022-11-12T20:49:10.684144Z",
     "iopub.status.idle": "2022-11-12T20:49:10.690182Z",
     "shell.execute_reply": "2022-11-12T20:49:10.689403Z"
    },
    "origin_pos": 27,
    "tab": [
     "pytorch"
    ]
   },
   "outputs": [
    {
     "data": {
      "text/plain": [
       "tensor([[2.6824, 0.0000, 0.0000],\n",
       "        [2.0101, 0.1381, 0.4309]])"
      ]
     },
     "execution_count": 7,
     "metadata": {},
     "output_type": "execute_result"
    }
   ],
   "source": [
    "linear(torch.rand(2, 5))"
   ]
  },
  {
   "cell_type": "markdown",
   "id": "452c3eec",
   "metadata": {
    "slideshow": {
     "slide_type": "-"
    }
   },
   "source": [
    "Construct models using custom layers"
   ]
  },
  {
   "cell_type": "code",
   "execution_count": 8,
   "id": "918465d5",
   "metadata": {
    "execution": {
     "iopub.execute_input": "2022-11-12T20:49:10.693825Z",
     "iopub.status.busy": "2022-11-12T20:49:10.693285Z",
     "iopub.status.idle": "2022-11-12T20:49:10.699739Z",
     "shell.execute_reply": "2022-11-12T20:49:10.698981Z"
    },
    "origin_pos": 31,
    "tab": [
     "pytorch"
    ]
   },
   "outputs": [
    {
     "data": {
      "text/plain": [
       "tensor([[10.6553],\n",
       "        [11.9528]])"
      ]
     },
     "execution_count": 8,
     "metadata": {},
     "output_type": "execute_result"
    }
   ],
   "source": [
    "net = nn.Sequential(MyLinear(64, 8), MyLinear(8, 1))\n",
    "net(torch.rand(2, 64))"
   ]
  }
 ],
 "metadata": {
  "celltoolbar": "Slideshow",
  "language_info": {
   "name": "python"
  },
  "rise": {
   "autolaunch": true,
   "enable_chalkboard": true,
   "overlay": "<div class='my-top-right'><img height=80px src='http://d2l.ai/_static/logo-with-text.png'/></div><div class='my-top-left'></div>",
   "scroll": true
  }
 },
 "nbformat": 4,
 "nbformat_minor": 5
}