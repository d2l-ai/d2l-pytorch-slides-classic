{
 "cells": [
  {
   "cell_type": "markdown",
   "id": "238ef4a0",
   "metadata": {
    "slideshow": {
     "slide_type": "-"
    }
   },
   "source": [
    "# Custom Layers\n",
    "\n",
    "Layers without Parameters"
   ]
  },
  {
   "cell_type": "code",
   "execution_count": 2,
   "id": "f37b4d99",
   "metadata": {
    "execution": {
     "iopub.execute_input": "2022-07-10T02:53:38.395047Z",
     "iopub.status.busy": "2022-07-10T02:53:38.394492Z",
     "iopub.status.idle": "2022-07-10T02:53:38.408884Z",
     "shell.execute_reply": "2022-07-10T02:53:38.408059Z"
    },
    "origin_pos": 6,
    "tab": [
     "pytorch"
    ]
   },
   "outputs": [
    {
     "data": {
      "text/plain": [
       "tensor([-2., -1.,  0.,  1.,  2.])"
      ]
     },
     "execution_count": 2,
     "metadata": {},
     "output_type": "execute_result"
    }
   ],
   "source": [
    "import torch\n",
    "from torch import nn\n",
    "from torch.nn import functional as F\n",
    "\n",
    "\n",
    "class CenteredLayer(nn.Module):\n",
    "    def __init__(self):\n",
    "        super().__init__()\n",
    "\n",
    "    def forward(self, X):\n",
    "        return X - X.mean()\n",
    "\n",
    "layer = CenteredLayer()\n",
    "layer(torch.FloatTensor([1, 2, 3, 4, 5]))"
   ]
  },
  {
   "cell_type": "markdown",
   "id": "b704c5be",
   "metadata": {
    "slideshow": {
     "slide_type": "slide"
    }
   },
   "source": [
    "Incorporate our layer as a component\n",
    "in constructing more complex models"
   ]
  },
  {
   "cell_type": "code",
   "execution_count": 4,
   "id": "cb0a1e08",
   "metadata": {
    "execution": {
     "iopub.execute_input": "2022-07-10T02:53:38.421175Z",
     "iopub.status.busy": "2022-07-10T02:53:38.420470Z",
     "iopub.status.idle": "2022-07-10T02:53:38.427512Z",
     "shell.execute_reply": "2022-07-10T02:53:38.426531Z"
    },
    "origin_pos": 14,
    "tab": [
     "pytorch"
    ]
   },
   "outputs": [
    {
     "data": {
      "text/plain": [
       "tensor(2.7940e-09, grad_fn=<MeanBackward0>)"
      ]
     },
     "execution_count": 4,
     "metadata": {},
     "output_type": "execute_result"
    }
   ],
   "source": [
    "net = nn.Sequential(nn.Linear(8, 128), CenteredLayer())\n",
    "\n",
    "Y = net(torch.rand(4, 8))\n",
    "Y.mean()"
   ]
  },
  {
   "cell_type": "markdown",
   "id": "1965ccaf",
   "metadata": {
    "slideshow": {
     "slide_type": "slide"
    }
   },
   "source": [
    "Layers with Parameters"
   ]
  },
  {
   "cell_type": "code",
   "execution_count": 6,
   "id": "49508758",
   "metadata": {
    "execution": {
     "iopub.execute_input": "2022-07-10T02:53:38.440183Z",
     "iopub.status.busy": "2022-07-10T02:53:38.439411Z",
     "iopub.status.idle": "2022-07-10T02:53:38.446414Z",
     "shell.execute_reply": "2022-07-10T02:53:38.445425Z"
    },
    "origin_pos": 23,
    "tab": [
     "pytorch"
    ]
   },
   "outputs": [
    {
     "data": {
      "text/plain": [
       "Parameter containing:\n",
       "tensor([[-0.5682, -0.5251, -1.3809],\n",
       "        [ 2.0455, -0.6526,  0.7933],\n",
       "        [-0.1504, -0.6951, -0.2777],\n",
       "        [-0.1695,  0.1955,  0.3606],\n",
       "        [-0.6431,  0.5151,  1.3964]], requires_grad=True)"
      ]
     },
     "execution_count": 6,
     "metadata": {},
     "output_type": "execute_result"
    }
   ],
   "source": [
    "class MyLinear(nn.Module):\n",
    "    def __init__(self, in_units, units):\n",
    "        super().__init__()\n",
    "        self.weight = nn.Parameter(torch.randn(in_units, units))\n",
    "        self.bias = nn.Parameter(torch.randn(units,))\n",
    "    def forward(self, X):\n",
    "        linear = torch.matmul(X, self.weight.data) + self.bias.data\n",
    "        return F.relu(linear)\n",
    "\n",
    "linear = MyLinear(5, 3)\n",
    "linear.weight"
   ]
  },
  {
   "cell_type": "markdown",
   "id": "afe1b87d",
   "metadata": {
    "slideshow": {
     "slide_type": "slide"
    }
   },
   "source": [
    "Directly carry out forward propagation calculations using custom layers"
   ]
  },
  {
   "cell_type": "code",
   "execution_count": 7,
   "id": "bbf3da2a",
   "metadata": {
    "execution": {
     "iopub.execute_input": "2022-07-10T02:53:38.450096Z",
     "iopub.status.busy": "2022-07-10T02:53:38.449377Z",
     "iopub.status.idle": "2022-07-10T02:53:38.456287Z",
     "shell.execute_reply": "2022-07-10T02:53:38.455295Z"
    },
    "origin_pos": 27,
    "tab": [
     "pytorch"
    ]
   },
   "outputs": [
    {
     "data": {
      "text/plain": [
       "tensor([[1.1358, 0.8432, 0.3182],\n",
       "        [1.6029, 0.7842, 0.1616]])"
      ]
     },
     "execution_count": 7,
     "metadata": {},
     "output_type": "execute_result"
    }
   ],
   "source": [
    "linear(torch.rand(2, 5))"
   ]
  },
  {
   "cell_type": "markdown",
   "id": "d5a94d43",
   "metadata": {
    "slideshow": {
     "slide_type": "-"
    }
   },
   "source": [
    "Construct models using custom layers"
   ]
  },
  {
   "cell_type": "code",
   "execution_count": 8,
   "id": "e0b8fce7",
   "metadata": {
    "execution": {
     "iopub.execute_input": "2022-07-10T02:53:38.460073Z",
     "iopub.status.busy": "2022-07-10T02:53:38.459363Z",
     "iopub.status.idle": "2022-07-10T02:53:38.466728Z",
     "shell.execute_reply": "2022-07-10T02:53:38.465765Z"
    },
    "origin_pos": 31,
    "tab": [
     "pytorch"
    ]
   },
   "outputs": [
    {
     "data": {
      "text/plain": [
       "tensor([[0.],\n",
       "        [0.]])"
      ]
     },
     "execution_count": 8,
     "metadata": {},
     "output_type": "execute_result"
    }
   ],
   "source": [
    "net = nn.Sequential(MyLinear(64, 8), MyLinear(8, 1))\n",
    "net(torch.rand(2, 64))"
   ]
  }
 ],
 "metadata": {
  "celltoolbar": "Slideshow",
  "language_info": {
   "name": "python"
  },
  "rise": {
   "autolaunch": true,
   "enable_chalkboard": true,
   "overlay": "<div class='my-top-right'><img height=80px src='http://d2l.ai/_static/logo-with-text.png'/></div><div class='my-top-left'></div>",
   "scroll": true
  }
 },
 "nbformat": 4,
 "nbformat_minor": 5
}