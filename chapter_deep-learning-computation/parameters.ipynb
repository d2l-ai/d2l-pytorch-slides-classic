{
 "cells": [
  {
   "cell_type": "markdown",
   "id": "df7297a2",
   "metadata": {
    "slideshow": {
     "slide_type": "-"
    }
   },
   "source": [
    "# Parameter Management\n",
    "\n",
    "We start by focusing on an MLP with one hidden layer"
   ]
  },
  {
   "cell_type": "code",
   "execution_count": 1,
   "id": "e453e2ff",
   "metadata": {
    "execution": {
     "iopub.execute_input": "2022-07-10T03:09:29.901086Z",
     "iopub.status.busy": "2022-07-10T03:09:29.900438Z",
     "iopub.status.idle": "2022-07-10T03:09:30.817442Z",
     "shell.execute_reply": "2022-07-10T03:09:30.816540Z"
    },
    "origin_pos": 2,
    "tab": [
     "pytorch"
    ]
   },
   "outputs": [
    {
     "data": {
      "text/plain": [
       "tensor([[0.3213],\n",
       "        [0.3235]], grad_fn=<AddmmBackward0>)"
      ]
     },
     "execution_count": 1,
     "metadata": {},
     "output_type": "execute_result"
    }
   ],
   "source": [
    "import torch\n",
    "from torch import nn\n",
    "\n",
    "net = nn.Sequential(nn.Linear(4, 8), nn.ReLU(), nn.Linear(8, 1))\n",
    "X = torch.rand(size=(2, 4))\n",
    "net(X)"
   ]
  },
  {
   "cell_type": "markdown",
   "id": "37d7f756",
   "metadata": {
    "slideshow": {
     "slide_type": "slide"
    }
   },
   "source": [
    "Parameter Access"
   ]
  },
  {
   "cell_type": "code",
   "execution_count": 2,
   "id": "01bbabd8",
   "metadata": {
    "execution": {
     "iopub.execute_input": "2022-07-10T03:09:30.821451Z",
     "iopub.status.busy": "2022-07-10T03:09:30.820893Z",
     "iopub.status.idle": "2022-07-10T03:09:30.826907Z",
     "shell.execute_reply": "2022-07-10T03:09:30.826049Z"
    },
    "origin_pos": 6,
    "tab": [
     "pytorch"
    ]
   },
   "outputs": [
    {
     "name": "stdout",
     "output_type": "stream",
     "text": [
      "OrderedDict([('weight', tensor([[-0.2025, -0.1594,  0.2165,  0.2746,  0.3402, -0.3157, -0.1644, -0.2814]])), ('bias', tensor([0.1935]))])\n"
     ]
    }
   ],
   "source": [
    "print(net[2].state_dict())"
   ]
  },
  {
   "cell_type": "markdown",
   "id": "e02cb1d4",
   "metadata": {
    "slideshow": {
     "slide_type": "slide"
    }
   },
   "source": [
    "Targeted Parameters"
   ]
  },
  {
   "cell_type": "code",
   "execution_count": 3,
   "id": "c171f149",
   "metadata": {
    "execution": {
     "iopub.execute_input": "2022-07-10T03:09:30.830409Z",
     "iopub.status.busy": "2022-07-10T03:09:30.829957Z",
     "iopub.status.idle": "2022-07-10T03:09:30.835725Z",
     "shell.execute_reply": "2022-07-10T03:09:30.834816Z"
    },
    "origin_pos": 10,
    "tab": [
     "pytorch"
    ]
   },
   "outputs": [
    {
     "name": "stdout",
     "output_type": "stream",
     "text": [
      "<class 'torch.nn.parameter.Parameter'>\n",
      "Parameter containing:\n",
      "tensor([0.1935], requires_grad=True)\n",
      "tensor([0.1935])\n"
     ]
    }
   ],
   "source": [
    "print(type(net[2].bias))\n",
    "print(net[2].bias)\n",
    "print(net[2].bias.data)"
   ]
  },
  {
   "cell_type": "code",
   "execution_count": 4,
   "id": "d353571a",
   "metadata": {
    "execution": {
     "iopub.execute_input": "2022-07-10T03:09:30.839282Z",
     "iopub.status.busy": "2022-07-10T03:09:30.838676Z",
     "iopub.status.idle": "2022-07-10T03:09:30.844396Z",
     "shell.execute_reply": "2022-07-10T03:09:30.843541Z"
    },
    "origin_pos": 14,
    "tab": [
     "pytorch"
    ]
   },
   "outputs": [
    {
     "data": {
      "text/plain": [
       "True"
      ]
     },
     "execution_count": 4,
     "metadata": {},
     "output_type": "execute_result"
    }
   ],
   "source": [
    "net[2].weight.grad == None"
   ]
  },
  {
   "cell_type": "markdown",
   "id": "8061505f",
   "metadata": {
    "slideshow": {
     "slide_type": "slide"
    }
   },
   "source": [
    "All Parameters at Once"
   ]
  },
  {
   "cell_type": "code",
   "execution_count": 5,
   "id": "8dee6603",
   "metadata": {
    "execution": {
     "iopub.execute_input": "2022-07-10T03:09:30.847993Z",
     "iopub.status.busy": "2022-07-10T03:09:30.847428Z",
     "iopub.status.idle": "2022-07-10T03:09:30.852573Z",
     "shell.execute_reply": "2022-07-10T03:09:30.851718Z"
    },
    "origin_pos": 17,
    "tab": [
     "pytorch"
    ]
   },
   "outputs": [
    {
     "name": "stdout",
     "output_type": "stream",
     "text": [
      "('weight', torch.Size([8, 4])) ('bias', torch.Size([8]))\n",
      "('0.weight', torch.Size([8, 4])) ('0.bias', torch.Size([8])) ('2.weight', torch.Size([1, 8])) ('2.bias', torch.Size([1]))\n"
     ]
    }
   ],
   "source": [
    "print(*[(name, param.shape) for name, param in net[0].named_parameters()])\n",
    "print(*[(name, param.shape) for name, param in net.named_parameters()])"
   ]
  },
  {
   "cell_type": "code",
   "execution_count": 6,
   "id": "ec88eb12",
   "metadata": {
    "execution": {
     "iopub.execute_input": "2022-07-10T03:09:30.856229Z",
     "iopub.status.busy": "2022-07-10T03:09:30.855680Z",
     "iopub.status.idle": "2022-07-10T03:09:30.861567Z",
     "shell.execute_reply": "2022-07-10T03:09:30.860724Z"
    },
    "origin_pos": 21,
    "tab": [
     "pytorch"
    ]
   },
   "outputs": [
    {
     "data": {
      "text/plain": [
       "tensor([0.1935])"
      ]
     },
     "execution_count": 6,
     "metadata": {},
     "output_type": "execute_result"
    }
   ],
   "source": [
    "net.state_dict()['2.bias'].data"
   ]
  },
  {
   "cell_type": "markdown",
   "id": "55194493",
   "metadata": {
    "slideshow": {
     "slide_type": "slide"
    }
   },
   "source": [
    "Collecting Parameters from Nested Blocks"
   ]
  },
  {
   "cell_type": "code",
   "execution_count": 7,
   "id": "0cfdc410",
   "metadata": {
    "execution": {
     "iopub.execute_input": "2022-07-10T03:09:30.865218Z",
     "iopub.status.busy": "2022-07-10T03:09:30.864647Z",
     "iopub.status.idle": "2022-07-10T03:09:30.875372Z",
     "shell.execute_reply": "2022-07-10T03:09:30.874498Z"
    },
    "origin_pos": 25,
    "tab": [
     "pytorch"
    ]
   },
   "outputs": [
    {
     "data": {
      "text/plain": [
       "tensor([[0.2768],\n",
       "        [0.2770]], grad_fn=<AddmmBackward0>)"
      ]
     },
     "execution_count": 7,
     "metadata": {},
     "output_type": "execute_result"
    }
   ],
   "source": [
    "def block1():\n",
    "    return nn.Sequential(nn.Linear(4, 8), nn.ReLU(),\n",
    "                         nn.Linear(8, 4), nn.ReLU())\n",
    "\n",
    "def block2():\n",
    "    net = nn.Sequential()\n",
    "    for i in range(4):\n",
    "        net.add_module(f'block {i}', block1())\n",
    "    return net\n",
    "\n",
    "rgnet = nn.Sequential(block2(), nn.Linear(4, 1))\n",
    "rgnet(X)"
   ]
  },
  {
   "cell_type": "markdown",
   "id": "d842fd11",
   "metadata": {
    "slideshow": {
     "slide_type": "slide"
    }
   },
   "source": [
    "We have designed the network,\n",
    "let us see how it is organized"
   ]
  },
  {
   "cell_type": "code",
   "execution_count": 8,
   "id": "0f1aa0c6",
   "metadata": {
    "execution": {
     "iopub.execute_input": "2022-07-10T03:09:30.878976Z",
     "iopub.status.busy": "2022-07-10T03:09:30.878407Z",
     "iopub.status.idle": "2022-07-10T03:09:30.882922Z",
     "shell.execute_reply": "2022-07-10T03:09:30.882057Z"
    },
    "origin_pos": 29,
    "tab": [
     "pytorch"
    ]
   },
   "outputs": [
    {
     "name": "stdout",
     "output_type": "stream",
     "text": [
      "Sequential(\n",
      "  (0): Sequential(\n",
      "    (block 0): Sequential(\n",
      "      (0): Linear(in_features=4, out_features=8, bias=True)\n",
      "      (1): ReLU()\n",
      "      (2): Linear(in_features=8, out_features=4, bias=True)\n",
      "      (3): ReLU()\n",
      "    )\n",
      "    (block 1): Sequential(\n",
      "      (0): Linear(in_features=4, out_features=8, bias=True)\n",
      "      (1): ReLU()\n",
      "      (2): Linear(in_features=8, out_features=4, bias=True)\n",
      "      (3): ReLU()\n",
      "    )\n",
      "    (block 2): Sequential(\n",
      "      (0): Linear(in_features=4, out_features=8, bias=True)\n",
      "      (1): ReLU()\n",
      "      (2): Linear(in_features=8, out_features=4, bias=True)\n",
      "      (3): ReLU()\n",
      "    )\n",
      "    (block 3): Sequential(\n",
      "      (0): Linear(in_features=4, out_features=8, bias=True)\n",
      "      (1): ReLU()\n",
      "      (2): Linear(in_features=8, out_features=4, bias=True)\n",
      "      (3): ReLU()\n",
      "    )\n",
      "  )\n",
      "  (1): Linear(in_features=4, out_features=1, bias=True)\n",
      ")\n"
     ]
    }
   ],
   "source": [
    "print(rgnet)"
   ]
  },
  {
   "cell_type": "code",
   "execution_count": 9,
   "id": "01d96af8",
   "metadata": {
    "execution": {
     "iopub.execute_input": "2022-07-10T03:09:30.886494Z",
     "iopub.status.busy": "2022-07-10T03:09:30.885953Z",
     "iopub.status.idle": "2022-07-10T03:09:30.891905Z",
     "shell.execute_reply": "2022-07-10T03:09:30.891018Z"
    },
    "origin_pos": 33,
    "tab": [
     "pytorch"
    ]
   },
   "outputs": [
    {
     "data": {
      "text/plain": [
       "tensor([ 0.0250,  0.2810,  0.4646, -0.2867,  0.0950, -0.4076, -0.3923, -0.4863])"
      ]
     },
     "execution_count": 9,
     "metadata": {},
     "output_type": "execute_result"
    }
   ],
   "source": [
    "rgnet[0][1][0].bias.data"
   ]
  },
  {
   "cell_type": "markdown",
   "id": "ce8bfb78",
   "metadata": {
    "slideshow": {
     "slide_type": "slide"
    }
   },
   "source": [
    "Built-in Initialization"
   ]
  },
  {
   "cell_type": "code",
   "execution_count": 10,
   "id": "5d7ab489",
   "metadata": {
    "execution": {
     "iopub.execute_input": "2022-07-10T03:09:30.895793Z",
     "iopub.status.busy": "2022-07-10T03:09:30.895223Z",
     "iopub.status.idle": "2022-07-10T03:09:30.903153Z",
     "shell.execute_reply": "2022-07-10T03:09:30.902262Z"
    },
    "origin_pos": 41,
    "tab": [
     "pytorch"
    ]
   },
   "outputs": [
    {
     "data": {
      "text/plain": [
       "(tensor([-0.0080, -0.0098,  0.0024,  0.0059]), tensor(0.))"
      ]
     },
     "execution_count": 10,
     "metadata": {},
     "output_type": "execute_result"
    }
   ],
   "source": [
    "def init_normal(m):\n",
    "    if type(m) == nn.Linear:\n",
    "        nn.init.normal_(m.weight, mean=0, std=0.01)\n",
    "        nn.init.zeros_(m.bias)\n",
    "net.apply(init_normal)\n",
    "net[0].weight.data[0], net[0].bias.data[0]"
   ]
  },
  {
   "cell_type": "code",
   "execution_count": 11,
   "id": "fec3d3fc",
   "metadata": {
    "execution": {
     "iopub.execute_input": "2022-07-10T03:09:30.906706Z",
     "iopub.status.busy": "2022-07-10T03:09:30.906137Z",
     "iopub.status.idle": "2022-07-10T03:09:30.913593Z",
     "shell.execute_reply": "2022-07-10T03:09:30.912742Z"
    },
    "origin_pos": 45,
    "tab": [
     "pytorch"
    ]
   },
   "outputs": [
    {
     "data": {
      "text/plain": [
       "(tensor([1., 1., 1., 1.]), tensor(0.))"
      ]
     },
     "execution_count": 11,
     "metadata": {},
     "output_type": "execute_result"
    }
   ],
   "source": [
    "def init_constant(m):\n",
    "    if type(m) == nn.Linear:\n",
    "        nn.init.constant_(m.weight, 1)\n",
    "        nn.init.zeros_(m.bias)\n",
    "net.apply(init_constant)\n",
    "net[0].weight.data[0], net[0].bias.data[0]"
   ]
  },
  {
   "cell_type": "markdown",
   "id": "a12b8119",
   "metadata": {
    "slideshow": {
     "slide_type": "slide"
    }
   },
   "source": [
    "We can also apply different initializers for certain blocks"
   ]
  },
  {
   "cell_type": "code",
   "execution_count": 12,
   "id": "8cd0bf56",
   "metadata": {
    "execution": {
     "iopub.execute_input": "2022-07-10T03:09:30.917253Z",
     "iopub.status.busy": "2022-07-10T03:09:30.916721Z",
     "iopub.status.idle": "2022-07-10T03:09:30.923955Z",
     "shell.execute_reply": "2022-07-10T03:09:30.923041Z"
    },
    "origin_pos": 49,
    "tab": [
     "pytorch"
    ]
   },
   "outputs": [
    {
     "name": "stdout",
     "output_type": "stream",
     "text": [
      "tensor([-0.4039, -0.5412,  0.6771,  0.5279])\n",
      "tensor([[42., 42., 42., 42., 42., 42., 42., 42.]])\n"
     ]
    }
   ],
   "source": [
    "def xavier(m):\n",
    "    if type(m) == nn.Linear:\n",
    "        nn.init.xavier_uniform_(m.weight)\n",
    "def init_42(m):\n",
    "    if type(m) == nn.Linear:\n",
    "        nn.init.constant_(m.weight, 42)\n",
    "\n",
    "net[0].apply(xavier)\n",
    "net[2].apply(init_42)\n",
    "print(net[0].weight.data[0])\n",
    "print(net[2].weight.data)"
   ]
  },
  {
   "cell_type": "markdown",
   "id": "b243f152",
   "metadata": {
    "slideshow": {
     "slide_type": "slide"
    }
   },
   "source": [
    "Custom Initialization"
   ]
  },
  {
   "cell_type": "code",
   "execution_count": 13,
   "id": "c43fc97c",
   "metadata": {
    "execution": {
     "iopub.execute_input": "2022-07-10T03:09:30.927656Z",
     "iopub.status.busy": "2022-07-10T03:09:30.927082Z",
     "iopub.status.idle": "2022-07-10T03:09:30.935795Z",
     "shell.execute_reply": "2022-07-10T03:09:30.934914Z"
    },
    "origin_pos": 56,
    "tab": [
     "pytorch"
    ]
   },
   "outputs": [
    {
     "name": "stdout",
     "output_type": "stream",
     "text": [
      "Init weight torch.Size([8, 4])\n",
      "Init weight torch.Size([1, 8])\n"
     ]
    },
    {
     "data": {
      "text/plain": [
       "tensor([[7.0766, -0.0000, 0.0000, 5.6952],\n",
       "        [-0.0000, -0.0000, 5.7381, 0.0000]], grad_fn=<SliceBackward0>)"
      ]
     },
     "execution_count": 13,
     "metadata": {},
     "output_type": "execute_result"
    }
   ],
   "source": [
    "def my_init(m):\n",
    "    if type(m) == nn.Linear:\n",
    "        print(\"Init\", *[(name, param.shape)\n",
    "                        for name, param in m.named_parameters()][0])\n",
    "        nn.init.uniform_(m.weight, -10, 10)\n",
    "        m.weight.data *= m.weight.data.abs() >= 5\n",
    "\n",
    "net.apply(my_init)\n",
    "net[0].weight[:2]"
   ]
  },
  {
   "cell_type": "code",
   "execution_count": 14,
   "id": "4ac21a28",
   "metadata": {
    "execution": {
     "iopub.execute_input": "2022-07-10T03:09:30.939459Z",
     "iopub.status.busy": "2022-07-10T03:09:30.938856Z",
     "iopub.status.idle": "2022-07-10T03:09:30.945557Z",
     "shell.execute_reply": "2022-07-10T03:09:30.944708Z"
    },
    "origin_pos": 60,
    "tab": [
     "pytorch"
    ]
   },
   "outputs": [
    {
     "data": {
      "text/plain": [
       "tensor([42.0000,  1.0000,  1.0000,  6.6952])"
      ]
     },
     "execution_count": 14,
     "metadata": {},
     "output_type": "execute_result"
    }
   ],
   "source": [
    "net[0].weight.data[:] += 1\n",
    "net[0].weight.data[0, 0] = 42\n",
    "net[0].weight.data[0]"
   ]
  },
  {
   "cell_type": "markdown",
   "id": "f3283a40",
   "metadata": {
    "slideshow": {
     "slide_type": "slide"
    }
   },
   "source": [
    "Tied Parameters"
   ]
  },
  {
   "cell_type": "code",
   "execution_count": 15,
   "id": "04394f60",
   "metadata": {
    "execution": {
     "iopub.execute_input": "2022-07-10T03:09:30.949191Z",
     "iopub.status.busy": "2022-07-10T03:09:30.948648Z",
     "iopub.status.idle": "2022-07-10T03:09:30.956954Z",
     "shell.execute_reply": "2022-07-10T03:09:30.956095Z"
    },
    "origin_pos": 65,
    "tab": [
     "pytorch"
    ]
   },
   "outputs": [
    {
     "name": "stdout",
     "output_type": "stream",
     "text": [
      "tensor([True, True, True, True, True, True, True, True])\n",
      "tensor([True, True, True, True, True, True, True, True])\n"
     ]
    }
   ],
   "source": [
    "shared = nn.Linear(8, 8)\n",
    "net = nn.Sequential(nn.Linear(4, 8), nn.ReLU(),\n",
    "                    shared, nn.ReLU(),\n",
    "                    shared, nn.ReLU(),\n",
    "                    nn.Linear(8, 1))\n",
    "net(X)\n",
    "print(net[2].weight.data[0] == net[4].weight.data[0])\n",
    "net[2].weight.data[0, 0] = 100\n",
    "print(net[2].weight.data[0] == net[4].weight.data[0])"
   ]
  }
 ],
 "metadata": {
  "celltoolbar": "Slideshow",
  "language_info": {
   "name": "python"
  },
  "rise": {
   "autolaunch": true,
   "enable_chalkboard": true,
   "overlay": "<div class='my-top-right'><img height=80px src='http://d2l.ai/_static/logo-with-text.png'/></div><div class='my-top-left'></div>",
   "scroll": true
  }
 },
 "nbformat": 4,
 "nbformat_minor": 5
}