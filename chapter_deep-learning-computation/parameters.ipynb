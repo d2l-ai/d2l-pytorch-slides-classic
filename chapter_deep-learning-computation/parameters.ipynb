{
 "cells": [
  {
   "cell_type": "markdown",
   "id": "c8a605f6",
   "metadata": {
    "slideshow": {
     "slide_type": "-"
    }
   },
   "source": [
    "# Parameter Management\n",
    "\n",
    "We start by focusing on an MLP with one hidden layer"
   ]
  },
  {
   "cell_type": "code",
   "execution_count": 1,
   "id": "8ee83a98",
   "metadata": {
    "execution": {
     "iopub.execute_input": "2022-11-12T20:41:49.570501Z",
     "iopub.status.busy": "2022-11-12T20:41:49.569960Z",
     "iopub.status.idle": "2022-11-12T20:41:50.489348Z",
     "shell.execute_reply": "2022-11-12T20:41:50.488144Z"
    },
    "origin_pos": 2,
    "tab": [
     "pytorch"
    ]
   },
   "outputs": [
    {
     "data": {
      "text/plain": [
       "tensor([[0.0731],\n",
       "        [0.1613]], grad_fn=<AddmmBackward0>)"
      ]
     },
     "execution_count": 1,
     "metadata": {},
     "output_type": "execute_result"
    }
   ],
   "source": [
    "import torch\n",
    "from torch import nn\n",
    "\n",
    "net = nn.Sequential(nn.Linear(4, 8), nn.ReLU(), nn.Linear(8, 1))\n",
    "X = torch.rand(size=(2, 4))\n",
    "net(X)"
   ]
  },
  {
   "cell_type": "markdown",
   "id": "807ef2d9",
   "metadata": {
    "slideshow": {
     "slide_type": "slide"
    }
   },
   "source": [
    "Parameter Access"
   ]
  },
  {
   "cell_type": "code",
   "execution_count": 2,
   "id": "2c8140f1",
   "metadata": {
    "execution": {
     "iopub.execute_input": "2022-11-12T20:41:50.493675Z",
     "iopub.status.busy": "2022-11-12T20:41:50.493022Z",
     "iopub.status.idle": "2022-11-12T20:41:50.498697Z",
     "shell.execute_reply": "2022-11-12T20:41:50.497924Z"
    },
    "origin_pos": 6,
    "tab": [
     "pytorch"
    ]
   },
   "outputs": [
    {
     "name": "stdout",
     "output_type": "stream",
     "text": [
      "OrderedDict([('weight', tensor([[-0.2665,  0.1665, -0.2725, -0.1111,  0.1236, -0.2030,  0.3430,  0.3423]])), ('bias', tensor([0.0211]))])\n"
     ]
    }
   ],
   "source": [
    "print(net[2].state_dict())"
   ]
  },
  {
   "cell_type": "markdown",
   "id": "7a22b4fe",
   "metadata": {
    "slideshow": {
     "slide_type": "slide"
    }
   },
   "source": [
    "Targeted Parameters"
   ]
  },
  {
   "cell_type": "code",
   "execution_count": 3,
   "id": "c154d4a4",
   "metadata": {
    "execution": {
     "iopub.execute_input": "2022-11-12T20:41:50.502357Z",
     "iopub.status.busy": "2022-11-12T20:41:50.501806Z",
     "iopub.status.idle": "2022-11-12T20:41:50.507122Z",
     "shell.execute_reply": "2022-11-12T20:41:50.506328Z"
    },
    "origin_pos": 10,
    "tab": [
     "pytorch"
    ]
   },
   "outputs": [
    {
     "name": "stdout",
     "output_type": "stream",
     "text": [
      "<class 'torch.nn.parameter.Parameter'>\n",
      "Parameter containing:\n",
      "tensor([0.0211], requires_grad=True)\n",
      "tensor([0.0211])\n"
     ]
    }
   ],
   "source": [
    "print(type(net[2].bias))\n",
    "print(net[2].bias)\n",
    "print(net[2].bias.data)"
   ]
  },
  {
   "cell_type": "code",
   "execution_count": 4,
   "id": "6c2c3c26",
   "metadata": {
    "execution": {
     "iopub.execute_input": "2022-11-12T20:41:50.510743Z",
     "iopub.status.busy": "2022-11-12T20:41:50.510197Z",
     "iopub.status.idle": "2022-11-12T20:41:50.515421Z",
     "shell.execute_reply": "2022-11-12T20:41:50.514614Z"
    },
    "origin_pos": 14,
    "tab": [
     "pytorch"
    ]
   },
   "outputs": [
    {
     "data": {
      "text/plain": [
       "True"
      ]
     },
     "execution_count": 4,
     "metadata": {},
     "output_type": "execute_result"
    }
   ],
   "source": [
    "net[2].weight.grad == None"
   ]
  },
  {
   "cell_type": "markdown",
   "id": "1b663f9a",
   "metadata": {
    "slideshow": {
     "slide_type": "slide"
    }
   },
   "source": [
    "All Parameters at Once"
   ]
  },
  {
   "cell_type": "code",
   "execution_count": 5,
   "id": "48b45a11",
   "metadata": {
    "execution": {
     "iopub.execute_input": "2022-11-12T20:41:50.519174Z",
     "iopub.status.busy": "2022-11-12T20:41:50.518498Z",
     "iopub.status.idle": "2022-11-12T20:41:50.524444Z",
     "shell.execute_reply": "2022-11-12T20:41:50.523213Z"
    },
    "origin_pos": 17,
    "tab": [
     "pytorch"
    ]
   },
   "outputs": [
    {
     "name": "stdout",
     "output_type": "stream",
     "text": [
      "('weight', torch.Size([8, 4])) ('bias', torch.Size([8]))\n",
      "('0.weight', torch.Size([8, 4])) ('0.bias', torch.Size([8])) ('2.weight', torch.Size([1, 8])) ('2.bias', torch.Size([1]))\n"
     ]
    }
   ],
   "source": [
    "print(*[(name, param.shape) for name, param in net[0].named_parameters()])\n",
    "print(*[(name, param.shape) for name, param in net.named_parameters()])"
   ]
  },
  {
   "cell_type": "code",
   "execution_count": 6,
   "id": "5fe95a7c",
   "metadata": {
    "execution": {
     "iopub.execute_input": "2022-11-12T20:41:50.529085Z",
     "iopub.status.busy": "2022-11-12T20:41:50.528314Z",
     "iopub.status.idle": "2022-11-12T20:41:50.536293Z",
     "shell.execute_reply": "2022-11-12T20:41:50.535237Z"
    },
    "origin_pos": 21,
    "tab": [
     "pytorch"
    ]
   },
   "outputs": [
    {
     "data": {
      "text/plain": [
       "tensor([0.0211])"
      ]
     },
     "execution_count": 6,
     "metadata": {},
     "output_type": "execute_result"
    }
   ],
   "source": [
    "net.state_dict()['2.bias'].data"
   ]
  },
  {
   "cell_type": "markdown",
   "id": "3cb4dfb8",
   "metadata": {
    "slideshow": {
     "slide_type": "slide"
    }
   },
   "source": [
    "Collecting Parameters from Nested Blocks"
   ]
  },
  {
   "cell_type": "code",
   "execution_count": 7,
   "id": "51bcac7a",
   "metadata": {
    "execution": {
     "iopub.execute_input": "2022-11-12T20:41:50.540898Z",
     "iopub.status.busy": "2022-11-12T20:41:50.540096Z",
     "iopub.status.idle": "2022-11-12T20:41:50.556154Z",
     "shell.execute_reply": "2022-11-12T20:41:50.555076Z"
    },
    "origin_pos": 25,
    "tab": [
     "pytorch"
    ]
   },
   "outputs": [
    {
     "data": {
      "text/plain": [
       "tensor([[-0.3015],\n",
       "        [-0.3015]], grad_fn=<AddmmBackward0>)"
      ]
     },
     "execution_count": 7,
     "metadata": {},
     "output_type": "execute_result"
    }
   ],
   "source": [
    "def block1():\n",
    "    return nn.Sequential(nn.Linear(4, 8), nn.ReLU(),\n",
    "                         nn.Linear(8, 4), nn.ReLU())\n",
    "\n",
    "def block2():\n",
    "    net = nn.Sequential()\n",
    "    for i in range(4):\n",
    "        net.add_module(f'block {i}', block1())\n",
    "    return net\n",
    "\n",
    "rgnet = nn.Sequential(block2(), nn.Linear(4, 1))\n",
    "rgnet(X)"
   ]
  },
  {
   "cell_type": "markdown",
   "id": "91accc06",
   "metadata": {
    "slideshow": {
     "slide_type": "slide"
    }
   },
   "source": [
    "We have designed the network,\n",
    "let us see how it is organized"
   ]
  },
  {
   "cell_type": "code",
   "execution_count": 8,
   "id": "d5621440",
   "metadata": {
    "execution": {
     "iopub.execute_input": "2022-11-12T20:41:50.560744Z",
     "iopub.status.busy": "2022-11-12T20:41:50.559966Z",
     "iopub.status.idle": "2022-11-12T20:41:50.565575Z",
     "shell.execute_reply": "2022-11-12T20:41:50.564531Z"
    },
    "origin_pos": 29,
    "tab": [
     "pytorch"
    ]
   },
   "outputs": [
    {
     "name": "stdout",
     "output_type": "stream",
     "text": [
      "Sequential(\n",
      "  (0): Sequential(\n",
      "    (block 0): Sequential(\n",
      "      (0): Linear(in_features=4, out_features=8, bias=True)\n",
      "      (1): ReLU()\n",
      "      (2): Linear(in_features=8, out_features=4, bias=True)\n",
      "      (3): ReLU()\n",
      "    )\n",
      "    (block 1): Sequential(\n",
      "      (0): Linear(in_features=4, out_features=8, bias=True)\n",
      "      (1): ReLU()\n",
      "      (2): Linear(in_features=8, out_features=4, bias=True)\n",
      "      (3): ReLU()\n",
      "    )\n",
      "    (block 2): Sequential(\n",
      "      (0): Linear(in_features=4, out_features=8, bias=True)\n",
      "      (1): ReLU()\n",
      "      (2): Linear(in_features=8, out_features=4, bias=True)\n",
      "      (3): ReLU()\n",
      "    )\n",
      "    (block 3): Sequential(\n",
      "      (0): Linear(in_features=4, out_features=8, bias=True)\n",
      "      (1): ReLU()\n",
      "      (2): Linear(in_features=8, out_features=4, bias=True)\n",
      "      (3): ReLU()\n",
      "    )\n",
      "  )\n",
      "  (1): Linear(in_features=4, out_features=1, bias=True)\n",
      ")\n"
     ]
    }
   ],
   "source": [
    "print(rgnet)"
   ]
  },
  {
   "cell_type": "code",
   "execution_count": 9,
   "id": "32424a21",
   "metadata": {
    "execution": {
     "iopub.execute_input": "2022-11-12T20:41:50.570038Z",
     "iopub.status.busy": "2022-11-12T20:41:50.569271Z",
     "iopub.status.idle": "2022-11-12T20:41:50.577231Z",
     "shell.execute_reply": "2022-11-12T20:41:50.576240Z"
    },
    "origin_pos": 33,
    "tab": [
     "pytorch"
    ]
   },
   "outputs": [
    {
     "data": {
      "text/plain": [
       "tensor([-0.1396,  0.2621, -0.4331, -0.2222, -0.3755, -0.0421, -0.4612, -0.4498])"
      ]
     },
     "execution_count": 9,
     "metadata": {},
     "output_type": "execute_result"
    }
   ],
   "source": [
    "rgnet[0][1][0].bias.data"
   ]
  },
  {
   "cell_type": "markdown",
   "id": "98975ef7",
   "metadata": {
    "slideshow": {
     "slide_type": "slide"
    }
   },
   "source": [
    "Built-in Initialization"
   ]
  },
  {
   "cell_type": "code",
   "execution_count": 10,
   "id": "e6e0063e",
   "metadata": {
    "execution": {
     "iopub.execute_input": "2022-11-12T20:41:50.582327Z",
     "iopub.status.busy": "2022-11-12T20:41:50.581309Z",
     "iopub.status.idle": "2022-11-12T20:41:50.592762Z",
     "shell.execute_reply": "2022-11-12T20:41:50.591716Z"
    },
    "origin_pos": 41,
    "tab": [
     "pytorch"
    ]
   },
   "outputs": [
    {
     "data": {
      "text/plain": [
       "(tensor([ 0.0007,  0.0208,  0.0103, -0.0094]), tensor(0.))"
      ]
     },
     "execution_count": 10,
     "metadata": {},
     "output_type": "execute_result"
    }
   ],
   "source": [
    "def init_normal(m):\n",
    "    if type(m) == nn.Linear:\n",
    "        nn.init.normal_(m.weight, mean=0, std=0.01)\n",
    "        nn.init.zeros_(m.bias)\n",
    "net.apply(init_normal)\n",
    "net[0].weight.data[0], net[0].bias.data[0]"
   ]
  },
  {
   "cell_type": "code",
   "execution_count": 11,
   "id": "6d1a9c23",
   "metadata": {
    "execution": {
     "iopub.execute_input": "2022-11-12T20:41:50.597198Z",
     "iopub.status.busy": "2022-11-12T20:41:50.596429Z",
     "iopub.status.idle": "2022-11-12T20:41:50.607029Z",
     "shell.execute_reply": "2022-11-12T20:41:50.605940Z"
    },
    "origin_pos": 45,
    "tab": [
     "pytorch"
    ]
   },
   "outputs": [
    {
     "data": {
      "text/plain": [
       "(tensor([1., 1., 1., 1.]), tensor(0.))"
      ]
     },
     "execution_count": 11,
     "metadata": {},
     "output_type": "execute_result"
    }
   ],
   "source": [
    "def init_constant(m):\n",
    "    if type(m) == nn.Linear:\n",
    "        nn.init.constant_(m.weight, 1)\n",
    "        nn.init.zeros_(m.bias)\n",
    "net.apply(init_constant)\n",
    "net[0].weight.data[0], net[0].bias.data[0]"
   ]
  },
  {
   "cell_type": "markdown",
   "id": "c7f83758",
   "metadata": {
    "slideshow": {
     "slide_type": "slide"
    }
   },
   "source": [
    "We can also apply different initializers for certain blocks"
   ]
  },
  {
   "cell_type": "code",
   "execution_count": 12,
   "id": "be904a10",
   "metadata": {
    "execution": {
     "iopub.execute_input": "2022-11-12T20:41:50.611557Z",
     "iopub.status.busy": "2022-11-12T20:41:50.610647Z",
     "iopub.status.idle": "2022-11-12T20:41:50.620786Z",
     "shell.execute_reply": "2022-11-12T20:41:50.619731Z"
    },
    "origin_pos": 49,
    "tab": [
     "pytorch"
    ]
   },
   "outputs": [
    {
     "name": "stdout",
     "output_type": "stream",
     "text": [
      "tensor([-0.2886, -0.6428, -0.2568,  0.0093])\n",
      "tensor([[42., 42., 42., 42., 42., 42., 42., 42.]])\n"
     ]
    }
   ],
   "source": [
    "def xavier(m):\n",
    "    if type(m) == nn.Linear:\n",
    "        nn.init.xavier_uniform_(m.weight)\n",
    "def init_42(m):\n",
    "    if type(m) == nn.Linear:\n",
    "        nn.init.constant_(m.weight, 42)\n",
    "\n",
    "net[0].apply(xavier)\n",
    "net[2].apply(init_42)\n",
    "print(net[0].weight.data[0])\n",
    "print(net[2].weight.data)"
   ]
  },
  {
   "cell_type": "markdown",
   "id": "453c24e2",
   "metadata": {
    "slideshow": {
     "slide_type": "slide"
    }
   },
   "source": [
    "Custom Initialization"
   ]
  },
  {
   "cell_type": "code",
   "execution_count": 13,
   "id": "14708091",
   "metadata": {
    "execution": {
     "iopub.execute_input": "2022-11-12T20:41:50.625859Z",
     "iopub.status.busy": "2022-11-12T20:41:50.625099Z",
     "iopub.status.idle": "2022-11-12T20:41:50.636468Z",
     "shell.execute_reply": "2022-11-12T20:41:50.635490Z"
    },
    "origin_pos": 56,
    "tab": [
     "pytorch"
    ]
   },
   "outputs": [
    {
     "name": "stdout",
     "output_type": "stream",
     "text": [
      "Init weight torch.Size([8, 4])\n",
      "Init weight torch.Size([1, 8])\n"
     ]
    },
    {
     "data": {
      "text/plain": [
       "tensor([[ 0.0000, -7.4797, -8.2019,  9.8475],\n",
       "        [ 5.0957,  7.4569, -0.0000, -0.0000]], grad_fn=<SliceBackward0>)"
      ]
     },
     "execution_count": 13,
     "metadata": {},
     "output_type": "execute_result"
    }
   ],
   "source": [
    "def my_init(m):\n",
    "    if type(m) == nn.Linear:\n",
    "        print(\"Init\", *[(name, param.shape)\n",
    "                        for name, param in m.named_parameters()][0])\n",
    "        nn.init.uniform_(m.weight, -10, 10)\n",
    "        m.weight.data *= m.weight.data.abs() >= 5\n",
    "\n",
    "net.apply(my_init)\n",
    "net[0].weight[:2]"
   ]
  },
  {
   "cell_type": "code",
   "execution_count": 14,
   "id": "e72d749a",
   "metadata": {
    "execution": {
     "iopub.execute_input": "2022-11-12T20:41:50.641882Z",
     "iopub.status.busy": "2022-11-12T20:41:50.641207Z",
     "iopub.status.idle": "2022-11-12T20:41:50.647772Z",
     "shell.execute_reply": "2022-11-12T20:41:50.647016Z"
    },
    "origin_pos": 60,
    "tab": [
     "pytorch"
    ]
   },
   "outputs": [
    {
     "data": {
      "text/plain": [
       "tensor([42.0000, -6.4797, -7.2019, 10.8475])"
      ]
     },
     "execution_count": 14,
     "metadata": {},
     "output_type": "execute_result"
    }
   ],
   "source": [
    "net[0].weight.data[:] += 1\n",
    "net[0].weight.data[0, 0] = 42\n",
    "net[0].weight.data[0]"
   ]
  },
  {
   "cell_type": "markdown",
   "id": "4a6a4e11",
   "metadata": {
    "slideshow": {
     "slide_type": "slide"
    }
   },
   "source": [
    "Tied Parameters"
   ]
  },
  {
   "cell_type": "code",
   "execution_count": 15,
   "id": "b7396957",
   "metadata": {
    "execution": {
     "iopub.execute_input": "2022-11-12T20:41:50.652661Z",
     "iopub.status.busy": "2022-11-12T20:41:50.652209Z",
     "iopub.status.idle": "2022-11-12T20:41:50.660074Z",
     "shell.execute_reply": "2022-11-12T20:41:50.659309Z"
    },
    "origin_pos": 65,
    "tab": [
     "pytorch"
    ]
   },
   "outputs": [
    {
     "name": "stdout",
     "output_type": "stream",
     "text": [
      "tensor([True, True, True, True, True, True, True, True])\n",
      "tensor([True, True, True, True, True, True, True, True])\n"
     ]
    }
   ],
   "source": [
    "shared = nn.Linear(8, 8)\n",
    "net = nn.Sequential(nn.Linear(4, 8), nn.ReLU(),\n",
    "                    shared, nn.ReLU(),\n",
    "                    shared, nn.ReLU(),\n",
    "                    nn.Linear(8, 1))\n",
    "net(X)\n",
    "print(net[2].weight.data[0] == net[4].weight.data[0])\n",
    "net[2].weight.data[0, 0] = 100\n",
    "print(net[2].weight.data[0] == net[4].weight.data[0])"
   ]
  }
 ],
 "metadata": {
  "celltoolbar": "Slideshow",
  "language_info": {
   "name": "python"
  },
  "rise": {
   "autolaunch": true,
   "enable_chalkboard": true,
   "overlay": "<div class='my-top-right'><img height=80px src='http://d2l.ai/_static/logo-with-text.png'/></div><div class='my-top-left'></div>",
   "scroll": true
  }
 },
 "nbformat": 4,
 "nbformat_minor": 5
}