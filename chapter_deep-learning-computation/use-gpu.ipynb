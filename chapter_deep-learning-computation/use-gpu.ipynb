{
 "cells": [
  {
   "cell_type": "markdown",
   "id": "bb0bc3de",
   "metadata": {
    "slideshow": {
     "slide_type": "-"
    }
   },
   "source": [
    "# GPUs\n",
    "\n",
    "View the graphics card information"
   ]
  },
  {
   "cell_type": "code",
   "execution_count": 1,
   "id": "027c7a32",
   "metadata": {
    "execution": {
     "iopub.execute_input": "2022-11-12T20:46:02.047735Z",
     "iopub.status.busy": "2022-11-12T20:46:02.046901Z",
     "iopub.status.idle": "2022-11-12T20:46:02.989538Z",
     "shell.execute_reply": "2022-11-12T20:46:02.988171Z"
    },
    "origin_pos": 1,
    "tab": [
     "pytorch"
    ]
   },
   "outputs": [
    {
     "name": "stdout",
     "output_type": "stream",
     "text": [
      "Sat Nov 12 20:46:02 2022       \r\n",
      "+-----------------------------------------------------------------------------+\r\n",
      "| NVIDIA-SMI 460.106.00   Driver Version: 460.106.00   CUDA Version: 11.2     |\r\n",
      "|-------------------------------+----------------------+----------------------+\r\n",
      "| GPU  Name        Persistence-M| Bus-Id        Disp.A | Volatile Uncorr. ECC |\r\n",
      "| Fan  Temp  Perf  Pwr:Usage/Cap|         Memory-Usage | GPU-Util  Compute M. |\r\n",
      "|                               |                      |               MIG M. |\r\n",
      "|===============================+======================+======================|\r\n",
      "|   0  Tesla V100-SXM2...  Off  | 00000000:00:1B.0 Off |                    0 |\r\n",
      "| N/A   54C    P0    41W / 300W |      0MiB / 16160MiB |      0%      Default |\r\n",
      "|                               |                      |                  N/A |\r\n",
      "+-------------------------------+----------------------+----------------------+\r\n"
     ]
    },
    {
     "name": "stdout",
     "output_type": "stream",
     "text": [
      "|   1  Tesla V100-SXM2...  Off  | 00000000:00:1C.0 Off |                    0 |\r\n",
      "| N/A   39C    P0    59W / 300W |   3376MiB / 16160MiB |      0%      Default |\r\n",
      "|                               |                      |                  N/A |\r\n",
      "+-------------------------------+----------------------+----------------------+\r\n",
      "|   2  Tesla V100-SXM2...  Off  | 00000000:00:1D.0 Off |                    0 |\r\n",
      "| N/A   55C    P0    52W / 300W |      0MiB / 16160MiB |      0%      Default |\r\n",
      "|                               |                      |                  N/A |\r\n",
      "+-------------------------------+----------------------+----------------------+\r\n",
      "|   3  Tesla V100-SXM2...  Off  | 00000000:00:1E.0 Off |                    0 |\r\n",
      "| N/A   41C    P0    54W / 300W |   3284MiB / 16160MiB |      0%      Default |\r\n",
      "|                               |                      |                  N/A |\r\n",
      "+-------------------------------+----------------------+----------------------+\r\n",
      "                                                                               \r\n",
      "+-----------------------------------------------------------------------------+\r\n",
      "| Processes:                                                                  |\r\n",
      "|  GPU   GI   CI        PID   Type   Process name                  GPU Memory |\r\n",
      "|        ID   ID                                                   Usage      |\r\n",
      "|=============================================================================|\r\n",
      "|    1   N/A  N/A     65370      C   ...l-en-classic-1/bin/python     3373MiB |\r\n",
      "|    3   N/A  N/A     65370      C   ...l-en-classic-1/bin/python     3281MiB |\r\n",
      "+-----------------------------------------------------------------------------+\r\n"
     ]
    }
   ],
   "source": [
    "!nvidia-smi"
   ]
  },
  {
   "cell_type": "markdown",
   "id": "856055c5",
   "metadata": {
    "slideshow": {
     "slide_type": "slide"
    }
   },
   "source": [
    "Computing Devices"
   ]
  },
  {
   "cell_type": "code",
   "execution_count": 2,
   "id": "3c2c7843",
   "metadata": {
    "execution": {
     "iopub.execute_input": "2022-11-12T20:46:02.996697Z",
     "iopub.status.busy": "2022-11-12T20:46:02.995686Z",
     "iopub.status.idle": "2022-11-12T20:46:04.026208Z",
     "shell.execute_reply": "2022-11-12T20:46:04.025301Z"
    },
    "origin_pos": 8,
    "tab": [
     "pytorch"
    ]
   },
   "outputs": [
    {
     "data": {
      "text/plain": [
       "(device(type='cpu'), device(type='cuda'), device(type='cuda', index=1))"
      ]
     },
     "execution_count": 2,
     "metadata": {},
     "output_type": "execute_result"
    }
   ],
   "source": [
    "import torch\n",
    "from torch import nn\n",
    "\n",
    "torch.device('cpu'), torch.device('cuda'), torch.device('cuda:1')"
   ]
  },
  {
   "cell_type": "markdown",
   "id": "b3ba0a36",
   "metadata": {
    "slideshow": {
     "slide_type": "-"
    }
   },
   "source": [
    "Query the number of available GPUs"
   ]
  },
  {
   "cell_type": "code",
   "execution_count": 3,
   "id": "9d6eb9ac",
   "metadata": {
    "execution": {
     "iopub.execute_input": "2022-11-12T20:46:04.030496Z",
     "iopub.status.busy": "2022-11-12T20:46:04.029973Z",
     "iopub.status.idle": "2022-11-12T20:46:04.035267Z",
     "shell.execute_reply": "2022-11-12T20:46:04.034503Z"
    },
    "origin_pos": 12,
    "tab": [
     "pytorch"
    ]
   },
   "outputs": [
    {
     "data": {
      "text/plain": [
       "2"
      ]
     },
     "execution_count": 3,
     "metadata": {},
     "output_type": "execute_result"
    }
   ],
   "source": [
    "torch.cuda.device_count()"
   ]
  },
  {
   "cell_type": "markdown",
   "id": "42512e94",
   "metadata": {
    "slideshow": {
     "slide_type": "slide"
    }
   },
   "source": [
    "Define two convenient functions that allow us\n",
    "to run code even if the requested GPUs do not exist"
   ]
  },
  {
   "cell_type": "code",
   "execution_count": 4,
   "id": "8d56b2c8",
   "metadata": {
    "execution": {
     "iopub.execute_input": "2022-11-12T20:46:04.039366Z",
     "iopub.status.busy": "2022-11-12T20:46:04.038609Z",
     "iopub.status.idle": "2022-11-12T20:46:04.046448Z",
     "shell.execute_reply": "2022-11-12T20:46:04.045706Z"
    },
    "origin_pos": 16,
    "tab": [
     "pytorch"
    ]
   },
   "outputs": [
    {
     "data": {
      "text/plain": [
       "(device(type='cuda', index=0),\n",
       " device(type='cpu'),\n",
       " [device(type='cuda', index=0), device(type='cuda', index=1)])"
      ]
     },
     "execution_count": 4,
     "metadata": {},
     "output_type": "execute_result"
    }
   ],
   "source": [
    "def try_gpu(i=0):  \n",
    "    \"\"\"Return gpu(i) if exists, otherwise return cpu().\"\"\"\n",
    "    if torch.cuda.device_count() >= i + 1:\n",
    "        return torch.device(f'cuda:{i}')\n",
    "    return torch.device('cpu')\n",
    "\n",
    "def try_all_gpus():  \n",
    "    \"\"\"Return all available GPUs, or [cpu(),] if no GPU exists.\"\"\"\n",
    "    devices = [torch.device(f'cuda:{i}')\n",
    "             for i in range(torch.cuda.device_count())]\n",
    "    return devices if devices else [torch.device('cpu')]\n",
    "\n",
    "try_gpu(), try_gpu(10), try_all_gpus()"
   ]
  },
  {
   "cell_type": "markdown",
   "id": "875cfa69",
   "metadata": {
    "slideshow": {
     "slide_type": "slide"
    }
   },
   "source": [
    "Query the device where the tensor is located"
   ]
  },
  {
   "cell_type": "code",
   "execution_count": 5,
   "id": "46563e70",
   "metadata": {
    "execution": {
     "iopub.execute_input": "2022-11-12T20:46:04.050435Z",
     "iopub.status.busy": "2022-11-12T20:46:04.049807Z",
     "iopub.status.idle": "2022-11-12T20:46:04.055274Z",
     "shell.execute_reply": "2022-11-12T20:46:04.054513Z"
    },
    "origin_pos": 20,
    "tab": [
     "pytorch"
    ]
   },
   "outputs": [
    {
     "data": {
      "text/plain": [
       "device(type='cpu')"
      ]
     },
     "execution_count": 5,
     "metadata": {},
     "output_type": "execute_result"
    }
   ],
   "source": [
    "x = torch.tensor([1, 2, 3])\n",
    "x.device"
   ]
  },
  {
   "cell_type": "markdown",
   "id": "664edd13",
   "metadata": {
    "slideshow": {
     "slide_type": "slide"
    }
   },
   "source": [
    "Store a tensor on the GPU"
   ]
  },
  {
   "cell_type": "code",
   "execution_count": 6,
   "id": "82f76286",
   "metadata": {
    "execution": {
     "iopub.execute_input": "2022-11-12T20:46:04.059385Z",
     "iopub.status.busy": "2022-11-12T20:46:04.058733Z",
     "iopub.status.idle": "2022-11-12T20:46:07.076316Z",
     "shell.execute_reply": "2022-11-12T20:46:07.075356Z"
    },
    "origin_pos": 24,
    "tab": [
     "pytorch"
    ]
   },
   "outputs": [
    {
     "data": {
      "text/plain": [
       "tensor([[1., 1., 1.],\n",
       "        [1., 1., 1.]], device='cuda:0')"
      ]
     },
     "execution_count": 6,
     "metadata": {},
     "output_type": "execute_result"
    }
   ],
   "source": [
    "X = torch.ones(2, 3, device=try_gpu())\n",
    "X"
   ]
  },
  {
   "cell_type": "markdown",
   "id": "5848b6fb",
   "metadata": {
    "slideshow": {
     "slide_type": "-"
    }
   },
   "source": [
    "Create a random tensor on the second GPU"
   ]
  },
  {
   "cell_type": "code",
   "execution_count": 7,
   "id": "9881affd",
   "metadata": {
    "execution": {
     "iopub.execute_input": "2022-11-12T20:46:07.080555Z",
     "iopub.status.busy": "2022-11-12T20:46:07.079968Z",
     "iopub.status.idle": "2022-11-12T20:46:09.611552Z",
     "shell.execute_reply": "2022-11-12T20:46:09.610743Z"
    },
    "origin_pos": 28,
    "tab": [
     "pytorch"
    ]
   },
   "outputs": [
    {
     "data": {
      "text/plain": [
       "tensor([[0.4144, 0.7294, 0.5390],\n",
       "        [0.1520, 0.7057, 0.2716]], device='cuda:1')"
      ]
     },
     "execution_count": 7,
     "metadata": {},
     "output_type": "execute_result"
    }
   ],
   "source": [
    "Y = torch.rand(2, 3, device=try_gpu(1))\n",
    "Y"
   ]
  },
  {
   "cell_type": "markdown",
   "id": "f3677826",
   "metadata": {
    "slideshow": {
     "slide_type": "slide"
    }
   },
   "source": [
    "If we want to compute `X + Y`,\n",
    "we need to decide where to perform this operation"
   ]
  },
  {
   "cell_type": "code",
   "execution_count": 8,
   "id": "cc751486",
   "metadata": {
    "execution": {
     "iopub.execute_input": "2022-11-12T20:46:09.615093Z",
     "iopub.status.busy": "2022-11-12T20:46:09.614813Z",
     "iopub.status.idle": "2022-11-12T20:46:09.621859Z",
     "shell.execute_reply": "2022-11-12T20:46:09.621109Z"
    },
    "origin_pos": 32,
    "tab": [
     "pytorch"
    ]
   },
   "outputs": [
    {
     "name": "stdout",
     "output_type": "stream",
     "text": [
      "tensor([[1., 1., 1.],\n",
      "        [1., 1., 1.]], device='cuda:0')\n",
      "tensor([[1., 1., 1.],\n",
      "        [1., 1., 1.]], device='cuda:1')\n"
     ]
    }
   ],
   "source": [
    "Z = X.cuda(1)\n",
    "print(X)\n",
    "print(Z)"
   ]
  },
  {
   "cell_type": "markdown",
   "id": "3f8cf8c6",
   "metadata": {
    "slideshow": {
     "slide_type": "slide"
    }
   },
   "source": [
    "The data are on the same GPU\n",
    "(both `Z` and `Y` are),\n",
    "we can add them up"
   ]
  },
  {
   "cell_type": "code",
   "execution_count": 9,
   "id": "fa54a0b1",
   "metadata": {
    "execution": {
     "iopub.execute_input": "2022-11-12T20:46:09.625018Z",
     "iopub.status.busy": "2022-11-12T20:46:09.624745Z",
     "iopub.status.idle": "2022-11-12T20:46:09.631256Z",
     "shell.execute_reply": "2022-11-12T20:46:09.630354Z"
    },
    "origin_pos": 35,
    "tab": [
     "pytorch"
    ]
   },
   "outputs": [
    {
     "data": {
      "text/plain": [
       "tensor([[1.4144, 1.7294, 1.5390],\n",
       "        [1.1520, 1.7057, 1.2716]], device='cuda:1')"
      ]
     },
     "execution_count": 9,
     "metadata": {},
     "output_type": "execute_result"
    }
   ],
   "source": [
    "Y + Z"
   ]
  },
  {
   "cell_type": "code",
   "execution_count": 10,
   "id": "fa63d508",
   "metadata": {
    "execution": {
     "iopub.execute_input": "2022-11-12T20:46:09.634467Z",
     "iopub.status.busy": "2022-11-12T20:46:09.634196Z",
     "iopub.status.idle": "2022-11-12T20:46:09.639271Z",
     "shell.execute_reply": "2022-11-12T20:46:09.638514Z"
    },
    "origin_pos": 40,
    "tab": [
     "pytorch"
    ]
   },
   "outputs": [
    {
     "data": {
      "text/plain": [
       "True"
      ]
     },
     "execution_count": 10,
     "metadata": {},
     "output_type": "execute_result"
    }
   ],
   "source": [
    "Z.cuda(1) is Z"
   ]
  },
  {
   "cell_type": "markdown",
   "id": "6e2b8484",
   "metadata": {
    "slideshow": {
     "slide_type": "slide"
    }
   },
   "source": [
    "Neural Networks and GPUs"
   ]
  },
  {
   "cell_type": "code",
   "execution_count": 12,
   "id": "bf459ff6",
   "metadata": {
    "execution": {
     "iopub.execute_input": "2022-11-12T20:46:09.669526Z",
     "iopub.status.busy": "2022-11-12T20:46:09.668885Z",
     "iopub.status.idle": "2022-11-12T20:46:09.914065Z",
     "shell.execute_reply": "2022-11-12T20:46:09.913021Z"
    },
    "origin_pos": 47,
    "tab": [
     "pytorch"
    ]
   },
   "outputs": [
    {
     "data": {
      "text/plain": [
       "tensor([[-0.2492],\n",
       "        [-0.2492]], device='cuda:0', grad_fn=<AddmmBackward0>)"
      ]
     },
     "execution_count": 12,
     "metadata": {},
     "output_type": "execute_result"
    }
   ],
   "source": [
    "net = nn.Sequential(nn.Linear(3, 1))\n",
    "net = net.to(device=try_gpu())\n",
    "\n",
    "net(X)"
   ]
  },
  {
   "cell_type": "markdown",
   "id": "56f33878",
   "metadata": {
    "slideshow": {
     "slide_type": "-"
    }
   },
   "source": [
    "Confirm that the model parameters are stored on the same GPU"
   ]
  },
  {
   "cell_type": "code",
   "execution_count": 13,
   "id": "3b9cffd1",
   "metadata": {
    "execution": {
     "iopub.execute_input": "2022-11-12T20:46:09.919058Z",
     "iopub.status.busy": "2022-11-12T20:46:09.918268Z",
     "iopub.status.idle": "2022-11-12T20:46:09.924880Z",
     "shell.execute_reply": "2022-11-12T20:46:09.924018Z"
    },
    "origin_pos": 50,
    "tab": [
     "pytorch"
    ]
   },
   "outputs": [
    {
     "data": {
      "text/plain": [
       "device(type='cuda', index=0)"
      ]
     },
     "execution_count": 13,
     "metadata": {},
     "output_type": "execute_result"
    }
   ],
   "source": [
    "net[0].weight.data.device"
   ]
  }
 ],
 "metadata": {
  "celltoolbar": "Slideshow",
  "language_info": {
   "name": "python"
  },
  "rise": {
   "autolaunch": true,
   "enable_chalkboard": true,
   "overlay": "<div class='my-top-right'><img height=80px src='http://d2l.ai/_static/logo-with-text.png'/></div><div class='my-top-left'></div>",
   "scroll": true
  }
 },
 "nbformat": 4,
 "nbformat_minor": 5
}