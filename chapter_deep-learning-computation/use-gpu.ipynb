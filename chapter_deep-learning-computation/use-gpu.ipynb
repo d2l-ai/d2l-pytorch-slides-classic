{
 "cells": [
  {
   "cell_type": "markdown",
   "id": "72b8d56a",
   "metadata": {
    "slideshow": {
     "slide_type": "-"
    }
   },
   "source": [
    "# GPUs\n",
    "\n",
    "View the graphics card information"
   ]
  },
  {
   "cell_type": "code",
   "execution_count": 1,
   "id": "48652e2c",
   "metadata": {
    "execution": {
     "iopub.execute_input": "2022-07-10T02:52:40.634513Z",
     "iopub.status.busy": "2022-07-10T02:52:40.633854Z",
     "iopub.status.idle": "2022-07-10T02:52:43.882195Z",
     "shell.execute_reply": "2022-07-10T02:52:43.880871Z"
    },
    "origin_pos": 1,
    "tab": [
     "pytorch"
    ]
   },
   "outputs": [
    {
     "name": "stdout",
     "output_type": "stream",
     "text": [
      "Sun Jul 10 02:52:43 2022       \r\n",
      "+-----------------------------------------------------------------------------+\r\n",
      "| NVIDIA-SMI 460.106.00   Driver Version: 460.106.00   CUDA Version: 11.2     |\r\n",
      "|-------------------------------+----------------------+----------------------+\r\n",
      "| GPU  Name        Persistence-M| Bus-Id        Disp.A | Volatile Uncorr. ECC |\r\n",
      "| Fan  Temp  Perf  Pwr:Usage/Cap|         Memory-Usage | GPU-Util  Compute M. |\r\n",
      "|                               |                      |               MIG M. |\r\n",
      "|===============================+======================+======================|\r\n",
      "|   0  Tesla V100-SXM2...  Off  | 00000000:00:1B.0 Off |                    0 |\r\n",
      "| N/A   58C    P0    57W / 300W |   1388MiB / 16160MiB |      0%      Default |\r\n",
      "|                               |                      |                  N/A |\r\n",
      "+-------------------------------+----------------------+----------------------+\r\n",
      "|   1  Tesla V100-SXM2...  Off  | 00000000:00:1C.0 Off |                    0 |\r\n",
      "| N/A   46C    P0    51W / 300W |      0MiB / 16160MiB |      0%      Default |\r\n",
      "|                               |                      |                  N/A |\r\n",
      "+-------------------------------+----------------------+----------------------+\r\n",
      "|   2  Tesla V100-SXM2...  Off  | 00000000:00:1D.0 Off |                    0 |\r\n",
      "| N/A   46C    P0    53W / 300W |      0MiB / 16160MiB |      4%      Default |\r\n",
      "|                               |                      |                  N/A |\r\n",
      "+-------------------------------+----------------------+----------------------+\r\n"
     ]
    },
    {
     "name": "stdout",
     "output_type": "stream",
     "text": [
      "|   3  Tesla V100-SXM2...  Off  | 00000000:00:1E.0 Off |                    0 |\r\n",
      "| N/A   50C    P0    56W / 300W |   1388MiB / 16160MiB |      0%      Default |\r\n",
      "|                               |                      |                  N/A |\r\n",
      "+-------------------------------+----------------------+----------------------+\r\n",
      "                                                                               \r\n",
      "+-----------------------------------------------------------------------------+\r\n",
      "| Processes:                                                                  |\r\n",
      "|  GPU   GI   CI        PID   Type   Process name                  GPU Memory |\r\n",
      "|        ID   ID                                                   Usage      |\r\n",
      "|=============================================================================|\r\n",
      "|    0   N/A  N/A     47176      C   ...l-en-classic-0/bin/python     1385MiB |\r\n",
      "|    3   N/A  N/A     47176      C   ...l-en-classic-0/bin/python     1385MiB |\r\n",
      "+-----------------------------------------------------------------------------+\r\n"
     ]
    }
   ],
   "source": [
    "!nvidia-smi"
   ]
  },
  {
   "cell_type": "markdown",
   "id": "6b5b0502",
   "metadata": {
    "slideshow": {
     "slide_type": "slide"
    }
   },
   "source": [
    "Computing Devices"
   ]
  },
  {
   "cell_type": "code",
   "execution_count": 2,
   "id": "a069ce83",
   "metadata": {
    "execution": {
     "iopub.execute_input": "2022-07-10T02:52:43.921516Z",
     "iopub.status.busy": "2022-07-10T02:52:43.920829Z",
     "iopub.status.idle": "2022-07-10T02:52:45.884859Z",
     "shell.execute_reply": "2022-07-10T02:52:45.884004Z"
    },
    "origin_pos": 8,
    "tab": [
     "pytorch"
    ]
   },
   "outputs": [
    {
     "data": {
      "text/plain": [
       "(device(type='cpu'), device(type='cuda'), device(type='cuda', index=1))"
      ]
     },
     "execution_count": 2,
     "metadata": {},
     "output_type": "execute_result"
    }
   ],
   "source": [
    "import torch\n",
    "from torch import nn\n",
    "\n",
    "torch.device('cpu'), torch.device('cuda'), torch.device('cuda:1')"
   ]
  },
  {
   "cell_type": "markdown",
   "id": "9f22d98e",
   "metadata": {
    "slideshow": {
     "slide_type": "-"
    }
   },
   "source": [
    "Query the number of available GPUs"
   ]
  },
  {
   "cell_type": "code",
   "execution_count": 3,
   "id": "de867e00",
   "metadata": {
    "execution": {
     "iopub.execute_input": "2022-07-10T02:52:45.888824Z",
     "iopub.status.busy": "2022-07-10T02:52:45.888246Z",
     "iopub.status.idle": "2022-07-10T02:52:45.893845Z",
     "shell.execute_reply": "2022-07-10T02:52:45.893045Z"
    },
    "origin_pos": 12,
    "tab": [
     "pytorch"
    ]
   },
   "outputs": [
    {
     "data": {
      "text/plain": [
       "2"
      ]
     },
     "execution_count": 3,
     "metadata": {},
     "output_type": "execute_result"
    }
   ],
   "source": [
    "torch.cuda.device_count()"
   ]
  },
  {
   "cell_type": "markdown",
   "id": "a9c32d8b",
   "metadata": {
    "slideshow": {
     "slide_type": "slide"
    }
   },
   "source": [
    "Define two convenient functions that allow us\n",
    "to run code even if the requested GPUs do not exist"
   ]
  },
  {
   "cell_type": "code",
   "execution_count": 4,
   "id": "70a5c13e",
   "metadata": {
    "execution": {
     "iopub.execute_input": "2022-07-10T02:52:45.897450Z",
     "iopub.status.busy": "2022-07-10T02:52:45.897018Z",
     "iopub.status.idle": "2022-07-10T02:52:45.904861Z",
     "shell.execute_reply": "2022-07-10T02:52:45.904082Z"
    },
    "origin_pos": 16,
    "tab": [
     "pytorch"
    ]
   },
   "outputs": [
    {
     "data": {
      "text/plain": [
       "(device(type='cuda', index=0),\n",
       " device(type='cpu'),\n",
       " [device(type='cuda', index=0), device(type='cuda', index=1)])"
      ]
     },
     "execution_count": 4,
     "metadata": {},
     "output_type": "execute_result"
    }
   ],
   "source": [
    "def try_gpu(i=0):  \n",
    "    \"\"\"Return gpu(i) if exists, otherwise return cpu().\"\"\"\n",
    "    if torch.cuda.device_count() >= i + 1:\n",
    "        return torch.device(f'cuda:{i}')\n",
    "    return torch.device('cpu')\n",
    "\n",
    "def try_all_gpus():  \n",
    "    \"\"\"Return all available GPUs, or [cpu(),] if no GPU exists.\"\"\"\n",
    "    devices = [torch.device(f'cuda:{i}')\n",
    "             for i in range(torch.cuda.device_count())]\n",
    "    return devices if devices else [torch.device('cpu')]\n",
    "\n",
    "try_gpu(), try_gpu(10), try_all_gpus()"
   ]
  },
  {
   "cell_type": "markdown",
   "id": "7e1e9660",
   "metadata": {
    "slideshow": {
     "slide_type": "slide"
    }
   },
   "source": [
    "Query the device where the tensor is located"
   ]
  },
  {
   "cell_type": "code",
   "execution_count": 5,
   "id": "f6ac8db2",
   "metadata": {
    "execution": {
     "iopub.execute_input": "2022-07-10T02:52:45.908463Z",
     "iopub.status.busy": "2022-07-10T02:52:45.907927Z",
     "iopub.status.idle": "2022-07-10T02:52:45.913440Z",
     "shell.execute_reply": "2022-07-10T02:52:45.912650Z"
    },
    "origin_pos": 20,
    "tab": [
     "pytorch"
    ]
   },
   "outputs": [
    {
     "data": {
      "text/plain": [
       "device(type='cpu')"
      ]
     },
     "execution_count": 5,
     "metadata": {},
     "output_type": "execute_result"
    }
   ],
   "source": [
    "x = torch.tensor([1, 2, 3])\n",
    "x.device"
   ]
  },
  {
   "cell_type": "markdown",
   "id": "85e67281",
   "metadata": {
    "slideshow": {
     "slide_type": "slide"
    }
   },
   "source": [
    "Store a tensor on the GPU"
   ]
  },
  {
   "cell_type": "code",
   "execution_count": 6,
   "id": "21f5271f",
   "metadata": {
    "execution": {
     "iopub.execute_input": "2022-07-10T02:52:45.917002Z",
     "iopub.status.busy": "2022-07-10T02:52:45.916461Z",
     "iopub.status.idle": "2022-07-10T02:52:49.045071Z",
     "shell.execute_reply": "2022-07-10T02:52:49.044249Z"
    },
    "origin_pos": 24,
    "tab": [
     "pytorch"
    ]
   },
   "outputs": [
    {
     "data": {
      "text/plain": [
       "tensor([[1., 1., 1.],\n",
       "        [1., 1., 1.]], device='cuda:0')"
      ]
     },
     "execution_count": 6,
     "metadata": {},
     "output_type": "execute_result"
    }
   ],
   "source": [
    "X = torch.ones(2, 3, device=try_gpu())\n",
    "X"
   ]
  },
  {
   "cell_type": "markdown",
   "id": "702ab7ef",
   "metadata": {
    "slideshow": {
     "slide_type": "-"
    }
   },
   "source": [
    "Create a random tensor on the second GPU"
   ]
  },
  {
   "cell_type": "code",
   "execution_count": 7,
   "id": "75667aff",
   "metadata": {
    "execution": {
     "iopub.execute_input": "2022-07-10T02:52:49.048872Z",
     "iopub.status.busy": "2022-07-10T02:52:49.048300Z",
     "iopub.status.idle": "2022-07-10T02:52:51.631870Z",
     "shell.execute_reply": "2022-07-10T02:52:51.630964Z"
    },
    "origin_pos": 28,
    "tab": [
     "pytorch"
    ]
   },
   "outputs": [
    {
     "data": {
      "text/plain": [
       "tensor([[0.1269, 0.3242, 0.2396],\n",
       "        [0.1228, 0.1990, 0.9553]], device='cuda:1')"
      ]
     },
     "execution_count": 7,
     "metadata": {},
     "output_type": "execute_result"
    }
   ],
   "source": [
    "Y = torch.rand(2, 3, device=try_gpu(1))\n",
    "Y"
   ]
  },
  {
   "cell_type": "markdown",
   "id": "704d3720",
   "metadata": {
    "slideshow": {
     "slide_type": "slide"
    }
   },
   "source": [
    "If we want to compute `X + Y`,\n",
    "we need to decide where to perform this operation"
   ]
  },
  {
   "cell_type": "code",
   "execution_count": 8,
   "id": "decc5d7a",
   "metadata": {
    "execution": {
     "iopub.execute_input": "2022-07-10T02:52:51.635703Z",
     "iopub.status.busy": "2022-07-10T02:52:51.635118Z",
     "iopub.status.idle": "2022-07-10T02:52:51.642390Z",
     "shell.execute_reply": "2022-07-10T02:52:51.641548Z"
    },
    "origin_pos": 32,
    "tab": [
     "pytorch"
    ]
   },
   "outputs": [
    {
     "name": "stdout",
     "output_type": "stream",
     "text": [
      "tensor([[1., 1., 1.],\n",
      "        [1., 1., 1.]], device='cuda:0')\n",
      "tensor([[1., 1., 1.],\n",
      "        [1., 1., 1.]], device='cuda:1')\n"
     ]
    }
   ],
   "source": [
    "Z = X.cuda(1)\n",
    "print(X)\n",
    "print(Z)"
   ]
  },
  {
   "cell_type": "markdown",
   "id": "68338e9d",
   "metadata": {
    "slideshow": {
     "slide_type": "slide"
    }
   },
   "source": [
    "The data are on the same GPU\n",
    "(both `Z` and `Y` are),\n",
    "we can add them up"
   ]
  },
  {
   "cell_type": "code",
   "execution_count": 9,
   "id": "fd45ba85",
   "metadata": {
    "execution": {
     "iopub.execute_input": "2022-07-10T02:52:51.645909Z",
     "iopub.status.busy": "2022-07-10T02:52:51.645372Z",
     "iopub.status.idle": "2022-07-10T02:52:51.651576Z",
     "shell.execute_reply": "2022-07-10T02:52:51.650776Z"
    },
    "origin_pos": 35,
    "tab": [
     "pytorch"
    ]
   },
   "outputs": [
    {
     "data": {
      "text/plain": [
       "tensor([[1.1269, 1.3242, 1.2396],\n",
       "        [1.1228, 1.1990, 1.9553]], device='cuda:1')"
      ]
     },
     "execution_count": 9,
     "metadata": {},
     "output_type": "execute_result"
    }
   ],
   "source": [
    "Y + Z"
   ]
  },
  {
   "cell_type": "code",
   "execution_count": 10,
   "id": "8371d159",
   "metadata": {
    "execution": {
     "iopub.execute_input": "2022-07-10T02:52:51.655182Z",
     "iopub.status.busy": "2022-07-10T02:52:51.654632Z",
     "iopub.status.idle": "2022-07-10T02:52:51.660067Z",
     "shell.execute_reply": "2022-07-10T02:52:51.659268Z"
    },
    "origin_pos": 40,
    "tab": [
     "pytorch"
    ]
   },
   "outputs": [
    {
     "data": {
      "text/plain": [
       "True"
      ]
     },
     "execution_count": 10,
     "metadata": {},
     "output_type": "execute_result"
    }
   ],
   "source": [
    "Z.cuda(1) is Z"
   ]
  },
  {
   "cell_type": "markdown",
   "id": "e9346baa",
   "metadata": {
    "slideshow": {
     "slide_type": "slide"
    }
   },
   "source": [
    "Neural Networks and GPUs"
   ]
  },
  {
   "cell_type": "code",
   "execution_count": 12,
   "id": "429b829a",
   "metadata": {
    "execution": {
     "iopub.execute_input": "2022-07-10T02:52:51.671468Z",
     "iopub.status.busy": "2022-07-10T02:52:51.671022Z",
     "iopub.status.idle": "2022-07-10T02:52:51.912570Z",
     "shell.execute_reply": "2022-07-10T02:52:51.911652Z"
    },
    "origin_pos": 47,
    "tab": [
     "pytorch"
    ]
   },
   "outputs": [
    {
     "data": {
      "text/plain": [
       "tensor([[-0.5294],\n",
       "        [-0.5294]], device='cuda:0', grad_fn=<AddmmBackward0>)"
      ]
     },
     "execution_count": 12,
     "metadata": {},
     "output_type": "execute_result"
    }
   ],
   "source": [
    "net = nn.Sequential(nn.Linear(3, 1))\n",
    "net = net.to(device=try_gpu())\n",
    "\n",
    "net(X)"
   ]
  },
  {
   "cell_type": "markdown",
   "id": "3b3bd49e",
   "metadata": {
    "slideshow": {
     "slide_type": "-"
    }
   },
   "source": [
    "Confirm that the model parameters are stored on the same GPU"
   ]
  },
  {
   "cell_type": "code",
   "execution_count": 13,
   "id": "56f07488",
   "metadata": {
    "execution": {
     "iopub.execute_input": "2022-07-10T02:52:51.916319Z",
     "iopub.status.busy": "2022-07-10T02:52:51.915745Z",
     "iopub.status.idle": "2022-07-10T02:52:51.921050Z",
     "shell.execute_reply": "2022-07-10T02:52:51.920294Z"
    },
    "origin_pos": 50,
    "tab": [
     "pytorch"
    ]
   },
   "outputs": [
    {
     "data": {
      "text/plain": [
       "device(type='cuda', index=0)"
      ]
     },
     "execution_count": 13,
     "metadata": {},
     "output_type": "execute_result"
    }
   ],
   "source": [
    "net[0].weight.data.device"
   ]
  }
 ],
 "metadata": {
  "celltoolbar": "Slideshow",
  "language_info": {
   "name": "python"
  },
  "rise": {
   "autolaunch": true,
   "enable_chalkboard": true,
   "overlay": "<div class='my-top-right'><img height=80px src='http://d2l.ai/_static/logo-with-text.png'/></div><div class='my-top-left'></div>",
   "scroll": true
  }
 },
 "nbformat": 4,
 "nbformat_minor": 5
}